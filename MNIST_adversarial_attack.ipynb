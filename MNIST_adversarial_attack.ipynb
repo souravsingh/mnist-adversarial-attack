{
  "nbformat": 4,
  "nbformat_minor": 0,
  "metadata": {
    "colab": {
      "name": "MNIST adversarial attack.ipynb",
      "version": "0.3.2",
      "provenance": [],
      "collapsed_sections": []
    },
    "kernelspec": {
      "name": "python3",
      "display_name": "Python 3"
    }
  },
  "cells": [
    {
      "metadata": {
        "id": "pm9fm1HljD0e",
        "colab_type": "text"
      },
      "cell_type": "markdown",
      "source": [
        "# Adversarial Attack on MNIST\n",
        "\n",
        "Here, we use the tutorial \"Deep MNIST for experts\" inspired by this link- https://github.com/DobrinGanev/Deep-MNIST-for-Experts-Tensorflow-Example/blob/master/multilayer-convolutional-network.ipynb\n",
        "\n",
        "The functions are modified to use tf.keras API."
      ]
    },
    {
      "metadata": {
        "id": "Va-_7gXOhUnx",
        "colab_type": "text"
      },
      "cell_type": "markdown",
      "source": [
        "# Import packages"
      ]
    },
    {
      "metadata": {
        "id": "VsGQFQhEWkf5",
        "colab_type": "code",
        "colab": {}
      },
      "cell_type": "code",
      "source": [
        "import tensorflow as tf\n",
        "import numpy as np\n",
        "import matplotlib.pyplot as plt\n",
        "%matplotlib inline\n",
        "from tensorflow.examples.tutorials.mnist import input_data\n",
        "from tqdm import tqdm"
      ],
      "execution_count": 0,
      "outputs": []
    },
    {
      "metadata": {
        "id": "Xd33oX2ChY9r",
        "colab_type": "text"
      },
      "cell_type": "markdown",
      "source": [
        "# Load MNIST dataset"
      ]
    },
    {
      "metadata": {
        "id": "0RPYzyl3WnrJ",
        "colab_type": "code",
        "colab": {
          "base_uri": "https://localhost:8080/",
          "height": 89
        },
        "outputId": "2eb2e544-ff67-4764-b327-e0a68dc4d936"
      },
      "cell_type": "code",
      "source": [
        "#Read the input data\n",
        "mnist = input_data.read_data_sets(\"MNIST_data/\", one_hot=True)"
      ],
      "execution_count": 86,
      "outputs": [
        {
          "output_type": "stream",
          "text": [
            "Extracting MNIST_data/train-images-idx3-ubyte.gz\n",
            "Extracting MNIST_data/train-labels-idx1-ubyte.gz\n",
            "Extracting MNIST_data/t10k-images-idx3-ubyte.gz\n",
            "Extracting MNIST_data/t10k-labels-idx1-ubyte.gz\n"
          ],
          "name": "stdout"
        }
      ]
    },
    {
      "metadata": {
        "id": "9dZyN1gLhc8G",
        "colab_type": "text"
      },
      "cell_type": "markdown",
      "source": [
        "# Check a sample image"
      ]
    },
    {
      "metadata": {
        "id": "Ic_33cTJWpqN",
        "colab_type": "code",
        "colab": {
          "base_uri": "https://localhost:8080/",
          "height": 337
        },
        "outputId": "c7a00387-071e-477c-c5cc-ab3b2172a286"
      },
      "cell_type": "code",
      "source": [
        "#Explore the data\n",
        "sample_image = mnist.train.next_batch(1)[0]\n",
        "print(\"Training image shape\", mnist.train.images.shape)\n",
        "print(\"Training labels shape\", mnist.train.labels.shape)\n",
        "print(\"Shape of an image\", sample_image.shape)\n",
        "sample_image = sample_image.reshape([28, 28])\n",
        "plt.imshow(sample_image)"
      ],
      "execution_count": 87,
      "outputs": [
        {
          "output_type": "stream",
          "text": [
            "Training image shape (55000, 784)\n",
            "Training labels shape (55000, 10)\n",
            "Shape of an image (1, 784)\n"
          ],
          "name": "stdout"
        },
        {
          "output_type": "execute_result",
          "data": {
            "text/plain": [
              "<matplotlib.image.AxesImage at 0x7fec4f2c5d30>"
            ]
          },
          "metadata": {
            "tags": []
          },
          "execution_count": 87
        },
        {
          "output_type": "display_data",
          "data": {
            "image/png": "[encoded data removed]",
            "text/plain": [
              "<matplotlib.figure.Figure at 0x7fec50df3278>"
            ]
          },
          "metadata": {
            "tags": []
          }
        }
      ]
    },
    {
      "metadata": {
        "id": "2mnfZcBahjgq",
        "colab_type": "text"
      },
      "cell_type": "markdown",
      "source": [
        "# Create placeholder for Image and Labels"
      ]
    },
    {
      "metadata": {
        "id": "bzSIIufsWrd5",
        "colab_type": "code",
        "colab": {}
      },
      "cell_type": "code",
      "source": [
        "x = tf.keras.backend.placeholder(shape=[None, 784], dtype=tf.float32)\n",
        "y_ = tf.keras.backend.placeholder(shape=[None, 10], dtype=tf.float32)"
      ],
      "execution_count": 0,
      "outputs": []
    },
    {
      "metadata": {
        "id": "JDakU5H9hnbm",
        "colab_type": "text"
      },
      "cell_type": "markdown",
      "source": [
        "# Create function for Convolution and MaxPooling based on the tutorial for \"Deep MNIST for experts\". Here conv2d and maxpooling use tf.keras API."
      ]
    },
    {
      "metadata": {
        "id": "tPv96QOpXPO1",
        "colab_type": "code",
        "colab": {}
      },
      "cell_type": "code",
      "source": [
        "def weight_variable(shape):\n",
        "    initial = tf.truncated_normal(shape, stddev=0.1)\n",
        "    return tf.Variable(initial)\n",
        "\n",
        "def bias_variable(shape):\n",
        "    initial = tf.constant(0.1, shape=shape)\n",
        "    return tf.Variable(initial)\n",
        "\n",
        "# Functions for convolution and pooling functions\n",
        "def conv2d(x, W):\n",
        "    return tf.keras.backend.conv2d(x, W, strides=(1, 1), padding='same')\n",
        "\n",
        "def max_pooling_2x2(x):\n",
        "    return tf.keras.backend.pool2d(x, pool_size=(2,2), strides=(2,2), padding='same')"
      ],
      "execution_count": 0,
      "outputs": []
    },
    {
      "metadata": {
        "id": "t9y5Wy-viHi-",
        "colab_type": "text"
      },
      "cell_type": "markdown",
      "source": [
        "# Create Convolutional Neural Network"
      ]
    },
    {
      "metadata": {
        "id": "DshQ63hQXU8R",
        "colab_type": "code",
        "colab": {}
      },
      "cell_type": "code",
      "source": [
        "x_image = tf.reshape(x, [-1,28,28,1])\n",
        "\n",
        "# Conv layer 1 - 32x5x5\n",
        "W_conv1 = weight_variable([5, 5, 1, 32])\n",
        "b_conv1 = bias_variable([32])\n",
        "x_conv1 = tf.nn.relu(conv2d(x_image, W_conv1) + b_conv1)\n",
        "x_pool1 = max_pooling_2x2(x_conv1)\n",
        "\n",
        "# Conv layer 2 - 64x5x5\n",
        "W_conv2 = weight_variable([5, 5, 32, 64])\n",
        "b_conv2 = bias_variable([64])\n",
        "x_conv2 = tf.nn.relu(conv2d(x_pool1, W_conv2) + b_conv2)\n",
        "x_pool2 = max_pooling_2x2(x_conv2)\n",
        "\n",
        "# Flatten\n",
        "x_flat = tf.reshape(x_pool2, [-1, 7*7*64])\n",
        "\n",
        "# Dense fully connected layer\n",
        "W_fc1 = weight_variable([7 * 7 * 64, 1024])\n",
        "b_fc1 = bias_variable([1024])\n",
        "x_fc1 = tf.nn.relu(tf.matmul(x_flat, W_fc1) + b_fc1)\n",
        "\n",
        "# Regularization with dropout\n",
        "keep_prob = tf.placeholder(tf.float32)\n",
        "x_fc1_drop = tf.nn.dropout(x_fc1, keep_prob)\n",
        "\n",
        "# Classification layer\n",
        "W_fc2 = weight_variable([1024, 10])\n",
        "b_fc2 = bias_variable([10])\n",
        "y_conv = tf.matmul(x_fc1_drop, W_fc2) + b_fc2"
      ],
      "execution_count": 0,
      "outputs": []
    },
    {
      "metadata": {
        "id": "geVi-mJViMsn",
        "colab_type": "text"
      },
      "cell_type": "markdown",
      "source": [
        "# Probabilities, Loss, Optimizer and Test Accuracy initialization"
      ]
    },
    {
      "metadata": {
        "id": "W8B8VQZ2XXzK",
        "colab_type": "code",
        "colab": {}
      },
      "cell_type": "code",
      "source": [
        "# Get Probabilities\n",
        "y = tf.nn.softmax(y_conv)"
      ],
      "execution_count": 0,
      "outputs": []
    },
    {
      "metadata": {
        "id": "ytsjbxwsXaMO",
        "colab_type": "code",
        "colab": {}
      },
      "cell_type": "code",
      "source": [
        "# Loss and optimizer\n",
        "cross_entropy = tf.reduce_mean(tf.nn.softmax_cross_entropy_with_logits_v2(labels=y_, logits=y_conv))\n",
        "train_step = tf.train.AdamOptimizer(1e-4).minimize(cross_entropy)"
      ],
      "execution_count": 0,
      "outputs": []
    },
    {
      "metadata": {
        "id": "_WXhnD4PXdKO",
        "colab_type": "code",
        "colab": {}
      },
      "cell_type": "code",
      "source": [
        "# Test accuracy of model\n",
        "correct_prediction = tf.equal(tf.argmax(y_conv,1), tf.argmax(y_,1))\n",
        "accuracy = tf.reduce_mean(tf.cast(correct_prediction, tf.float32))"
      ],
      "execution_count": 0,
      "outputs": []
    },
    {
      "metadata": {
        "id": "6rpK_WidiWxE",
        "colab_type": "text"
      },
      "cell_type": "markdown",
      "source": [
        "# Initialize global variables for training"
      ]
    },
    {
      "metadata": {
        "id": "JDAv6l19XfgC",
        "colab_type": "code",
        "colab": {
          "base_uri": "https://localhost:8080/",
          "height": 73
        },
        "outputId": "c68c578b-2e02-4068-e872-94c601569194"
      },
      "cell_type": "code",
      "source": [
        "sess = tf.InteractiveSession()\n",
        "sess.run(tf.global_variables_initializer())"
      ],
      "execution_count": 102,
      "outputs": [
        {
          "output_type": "stream",
          "text": [
            "/usr/local/lib/python3.6/dist-packages/tensorflow/python/client/session.py:1702: UserWarning: An interactive session is already active. This can cause out-of-memory errors in some cases. You must explicitly call `InteractiveSession.close()` to release resources held by the other session(s).\n",
            "  warnings.warn('An interactive session is already active. This can '\n"
          ],
          "name": "stderr"
        }
      ]
    },
    {
      "metadata": {
        "id": "oSEkiKDDid8B",
        "colab_type": "text"
      },
      "cell_type": "markdown",
      "source": [
        "# Start training"
      ]
    },
    {
      "metadata": {
        "id": "6EzrFObqXkRj",
        "colab_type": "code",
        "colab": {
          "base_uri": "https://localhost:8080/",
          "height": 125
        },
        "outputId": "629b9167-5b07-4ea8-d46d-9f67a2495b67"
      },
      "cell_type": "code",
      "source": [
        "for i in tqdm(range(1000)):\n",
        "    batch = mnist.train.next_batch(100)\n",
        "    if i%200 == 0:\n",
        "        train_accuracy = accuracy.eval(feed_dict={x:batch[0], y_: batch[1], keep_prob: 1.0})\n",
        "        print(\"step %d, training accuracy %g\"%(i, train_accuracy))\n",
        "\n",
        "    train_step.run(feed_dict={x: batch[0], y_: batch[1], keep_prob: 0.4})"
      ],
      "execution_count": 103,
      "outputs": [
        {
          "output_type": "stream",
          "text": [
            "\r  0%|          | 0/1000 [00:00<?, ?it/s]"
          ],
          "name": "stderr"
        },
        {
          "output_type": "stream",
          "text": [
            "step 0, training accuracy 0.08\n"
          ],
          "name": "stdout"
        },
        {
          "output_type": "stream",
          "text": [
            " 20%|██        | 200/1000 [01:05<04:36,  2.89it/s]"
          ],
          "name": "stderr"
        },
        {
          "output_type": "stream",
          "text": [
            "step 200, training accuracy 0.92\n"
          ],
          "name": "stdout"
        },
        {
          "output_type": "stream",
          "text": [
            " 40%|████      | 400/1000 [02:12<03:17,  3.04it/s]"
          ],
          "name": "stderr"
        },
        {
          "output_type": "stream",
          "text": [
            "step 400, training accuracy 0.97\n"
          ],
          "name": "stdout"
        },
        {
          "output_type": "stream",
          "text": [
            " 60%|██████    | 600/1000 [03:18<02:11,  3.04it/s]"
          ],
          "name": "stderr"
        },
        {
          "output_type": "stream",
          "text": [
            "step 600, training accuracy 0.9\n"
          ],
          "name": "stdout"
        },
        {
          "output_type": "stream",
          "text": [
            " 80%|████████  | 800/1000 [04:25<01:06,  3.02it/s]"
          ],
          "name": "stderr"
        },
        {
          "output_type": "stream",
          "text": [
            "step 800, training accuracy 0.95\n"
          ],
          "name": "stdout"
        },
        {
          "output_type": "stream",
          "text": [
            "100%|██████████| 1000/1000 [05:31<00:00,  3.01it/s]\n"
          ],
          "name": "stderr"
        }
      ]
    },
    {
      "metadata": {
        "id": "zOR63Nwmighp",
        "colab_type": "text"
      },
      "cell_type": "markdown",
      "source": [
        "# Print Accuracy on test data"
      ]
    },
    {
      "metadata": {
        "id": "pkCTl9RDXnnZ",
        "colab_type": "code",
        "colab": {
          "base_uri": "https://localhost:8080/",
          "height": 35
        },
        "outputId": "f844c739-274b-4001-d1d5-3c2c4e34023c"
      },
      "cell_type": "code",
      "source": [
        "print(\"test accuracy %g\"%accuracy.eval(feed_dict={x: mnist.test.images[0:500], \n",
        "                                                  y_: mnist.test.labels[0:500], keep_prob: 1.0}))"
      ],
      "execution_count": 104,
      "outputs": [
        {
          "output_type": "stream",
          "text": [
            "test accuracy 0.974\n"
          ],
          "name": "stdout"
        }
      ]
    },
    {
      "metadata": {
        "id": "tGonNEB8ijcw",
        "colab_type": "text"
      },
      "cell_type": "markdown",
      "source": [
        "# Filter Index for 2s images and the images"
      ]
    },
    {
      "metadata": {
        "id": "K3B8C4NxZWPD",
        "colab_type": "code",
        "colab": {}
      },
      "cell_type": "code",
      "source": [
        "index_of_2s = np.nonzero(mnist.test.labels[0:500][:,2])[0][0:10]\n",
        "x_batch = mnist.test.images[index_of_2s]"
      ],
      "execution_count": 0,
      "outputs": []
    },
    {
      "metadata": {
        "id": "g6AR46OYin0g",
        "colab_type": "text"
      },
      "cell_type": "markdown",
      "source": [
        "# Print probabilities and predictions for chosen images"
      ]
    },
    {
      "metadata": {
        "id": "GNElgl2oZftO",
        "colab_type": "code",
        "colab": {
          "base_uri": "https://localhost:8080/",
          "height": 575
        },
        "outputId": "81433561-0b0a-48be-e6ce-efa4dc440b5a"
      },
      "cell_type": "code",
      "source": [
        "prediction = tf.argmax(y,1)\n",
        "prediction_val = prediction.eval(feed_dict={x: x_batch, keep_prob: 1.0}, session=sess)\n",
        "print(\"predictions\", prediction_val)\n",
        "probabilities = y\n",
        "probabilities_val = probabilities.eval(feed_dict={x: x_batch, keep_prob: 1.0}, session=sess)\n",
        "print (\"probabilities\", probabilities_val)"
      ],
      "execution_count": 106,
      "outputs": [
        {
          "output_type": "stream",
          "text": [
            "predictions [2 2 2 2 2 2 2 2 2 2]\n",
            "probabilities [[1.56508468e-03 1.47637082e-04 9.97624934e-01 3.37477162e-04\n",
            "  1.99293231e-06 2.13476997e-05 2.31818281e-04 2.05323872e-07\n",
            "  6.92450922e-05 2.96855291e-07]\n",
            " [4.23520441e-06 1.18970147e-05 9.99607980e-01 2.94290134e-04\n",
            "  1.18894043e-07 3.24088760e-05 1.59794627e-06 1.60670220e-06\n",
            "  4.34652939e-05 2.44974376e-06]\n",
            " [1.19456742e-02 2.23658346e-02 8.03730845e-01 1.45048842e-01\n",
            "  4.74397020e-05 1.19062082e-03 2.31672986e-03 4.88327933e-04\n",
            "  1.27689913e-02 9.66554217e-05]\n",
            " [1.64975754e-05 7.32558430e-04 9.98868108e-01 1.83574579e-04\n",
            "  7.27061415e-05 3.77312863e-05 4.44268298e-05 1.69812483e-05\n",
            "  2.50441772e-05 2.52084033e-06]\n",
            " [2.81655866e-06 2.00796385e-05 9.99813259e-01 6.25639659e-05\n",
            "  3.79861049e-05 2.18809123e-06 4.93554799e-05 2.44167177e-06\n",
            "  8.70759868e-06 6.89782553e-07]\n",
            " [1.20226876e-03 3.54212739e-06 9.71972287e-01 2.67302319e-02\n",
            "  6.53286907e-06 1.48060499e-05 3.79332278e-06 2.15168857e-05\n",
            "  4.44925317e-05 4.32702166e-07]\n",
            " [2.12084604e-04 2.43797753e-04 9.82474625e-01 6.52522198e-04\n",
            "  8.92836215e-06 1.21312121e-04 1.24553735e-05 1.43475039e-02\n",
            "  4.63655684e-04 1.46320590e-03]\n",
            " [2.14392659e-09 1.73130044e-09 9.99999642e-01 3.87961791e-07\n",
            "  7.99888955e-09 2.72544182e-10 6.24126750e-09 1.74814456e-08\n",
            "  2.96741653e-08 1.14996468e-09]\n",
            " [1.80205723e-04 1.89039019e-06 9.97877240e-01 1.58657192e-03\n",
            "  3.74550791e-06 6.83802045e-06 5.22941227e-05 3.77809156e-05\n",
            "  2.50284153e-04 3.22826622e-06]\n",
            " [3.34435725e-03 9.20054881e-05 7.57194877e-01 1.27298629e-03\n",
            "  1.10381003e-03 1.67084532e-03 2.14519387e-04 4.11400758e-02\n",
            "  1.79669067e-01 1.42974639e-02]]\n"
          ],
          "name": "stdout"
        }
      ]
    },
    {
      "metadata": {
        "id": "Ub7qQ8qris6l",
        "colab_type": "text"
      },
      "cell_type": "markdown",
      "source": [
        "# Plot images with probabilities"
      ]
    },
    {
      "metadata": {
        "id": "G_TJCfPwZmmv",
        "colab_type": "code",
        "colab": {
          "base_uri": "https://localhost:8080/",
          "height": 1977
        },
        "outputId": "0b49b54d-bf39-44c1-b08e-1f31715ccef0"
      },
      "cell_type": "code",
      "source": [
        "for i in range(0, 10):\n",
        "    print('Correct label', np.argmax(index_of_2s[i]))\n",
        "    print('Predicted label:', prediction_val[i])\n",
        "    print('Confidence:', np.max(probabilities_val[i]))\n",
        "    plt.figure(figsize=(2, 2))\n",
        "    plt.axis('off')\n",
        "    plt.imshow(x_batch[i].reshape([28, 28]),cmap = \"gray\")\n",
        "    plt.show()"
      ],
      "execution_count": 107,
      "outputs": [
        {
          "output_type": "stream",
          "text": [
            "Correct label 0\n",
            "Predicted label: 2\n",
            "Confidence: 0.99762493\n"
          ],
          "name": "stdout"
        },
        {
          "output_type": "display_data",
          "data": {
            "image/png": "[encoded data removed]",
            "text/plain": [
              "<matplotlib.figure.Figure at 0x7fec4f1ee6d8>"
            ]
          },
          "metadata": {
            "tags": []
          }
        },
        {
          "output_type": "stream",
          "text": [
            "Correct label 0\n",
            "Predicted label: 2\n",
            "Confidence: 0.999608\n"
          ],
          "name": "stdout"
        },
        {
          "output_type": "display_data",
          "data": {
            "image/png": "[encoded data removed]",
            "text/plain": [
              "<matplotlib.figure.Figure at 0x7fec4df037f0>"
            ]
          },
          "metadata": {
            "tags": []
          }
        },
        {
          "output_type": "stream",
          "text": [
            "Correct label 0\n",
            "Predicted label: 2\n",
            "Confidence: 0.80373085\n"
          ],
          "name": "stdout"
        },
        {
          "output_type": "display_data",
          "data": {
            "image/png": "[encoded data removed]",
            "text/plain": [
              "<matplotlib.figure.Figure at 0x7fec4dea9be0>"
            ]
          },
          "metadata": {
            "tags": []
          }
        },
        {
          "output_type": "stream",
          "text": [
            "Correct label 0\n",
            "Predicted label: 2\n",
            "Confidence: 0.9988681\n"
          ],
          "name": "stdout"
        },
        {
          "output_type": "display_data",
          "data": {
            "image/png": "[encoded data removed]",
            "text/plain": [
              "<matplotlib.figure.Figure at 0x7fec4de73320>"
            ]
          },
          "metadata": {
            "tags": []
          }
        },
        {
          "output_type": "stream",
          "text": [
            "Correct label 0\n",
            "Predicted label: 2\n",
            "Confidence: 0.99981326\n"
          ],
          "name": "stdout"
        },
        {
          "output_type": "display_data",
          "data": {
            "image/png": "[encoded data removed]",
            "text/plain": [
              "<matplotlib.figure.Figure at 0x7fec4f3aa550>"
            ]
          },
          "metadata": {
            "tags": []
          }
        },
        {
          "output_type": "stream",
          "text": [
            "Correct label 0\n",
            "Predicted label: 2\n",
            "Confidence: 0.9719723\n"
          ],
          "name": "stdout"
        },
        {
          "output_type": "display_data",
          "data": {
            "image/png": "[encoded data removed]",
            "text/plain": [
              "<matplotlib.figure.Figure at 0x7fec4de137f0>"
            ]
          },
          "metadata": {
            "tags": []
          }
        },
        {
          "output_type": "stream",
          "text": [
            "Correct label 0\n",
            "Predicted label: 2\n",
            "Confidence: 0.9824746\n"
          ],
          "name": "stdout"
        },
        {
          "output_type": "display_data",
          "data": {
            "image/png": "[encoded data removed]",
            "text/plain": [
              "<matplotlib.figure.Figure at 0x7fec4dd5d5c0>"
            ]
          },
          "metadata": {
            "tags": []
          }
        },
        {
          "output_type": "stream",
          "text": [
            "Correct label 0\n",
            "Predicted label: 2\n",
            "Confidence: 0.99999964\n"
          ],
          "name": "stdout"
        },
        {
          "output_type": "display_data",
          "data": {
            "image/png": "[encoded data removed]",
            "text/plain": [
              "<matplotlib.figure.Figure at 0x7fec4dd47be0>"
            ]
          },
          "metadata": {
            "tags": []
          }
        },
        {
          "output_type": "stream",
          "text": [
            "Correct label 0\n",
            "Predicted label: 2\n",
            "Confidence: 0.99787724\n"
          ],
          "name": "stdout"
        },
        {
          "output_type": "display_data",
          "data": {
            "image/png": "[encoded data removed]",
            "text/plain": [
              "<matplotlib.figure.Figure at 0x7fec4dd0ca58>"
            ]
          },
          "metadata": {
            "tags": []
          }
        },
        {
          "output_type": "stream",
          "text": [
            "Correct label 0\n",
            "Predicted label: 2\n",
            "Confidence: 0.7571949\n"
          ],
          "name": "stdout"
        },
        {
          "output_type": "display_data",
          "data": {
            "image/png": "[encoded data removed]",
            "text/plain": [
              "<matplotlib.figure.Figure at 0x7fec4dcd76a0>"
            ]
          },
          "metadata": {
            "tags": []
          }
        }
      ]
    },
    {
      "metadata": {
        "id": "fU-p_L_ljrT2",
        "colab_type": "text"
      },
      "cell_type": "markdown",
      "source": [
        "# Initialize target label and the matrix for the adversarial attack"
      ]
    },
    {
      "metadata": {
        "id": "Q9THSdHibsfW",
        "colab_type": "code",
        "colab": {}
      },
      "cell_type": "code",
      "source": [
        "target_number = 6\n",
        "target_labels = np.zeros(original_labels.shape)\n",
        "target_labels[:, target_number] = 1"
      ],
      "execution_count": 0,
      "outputs": []
    },
    {
      "metadata": {
        "id": "ENCfPmuXj0B-",
        "colab_type": "text"
      },
      "cell_type": "markdown",
      "source": [
        "# Initialize gradient for Adversarial attack"
      ]
    },
    {
      "metadata": {
        "id": "vq-E2tp3cW6c",
        "colab_type": "code",
        "colab": {}
      },
      "cell_type": "code",
      "source": [
        "img_gradient = tf.gradients(cross_entropy, x)[0]"
      ],
      "execution_count": 0,
      "outputs": []
    },
    {
      "metadata": {
        "id": "eyhCF5TKj4UN",
        "colab_type": "text"
      },
      "cell_type": "markdown",
      "source": [
        "# Initialize value for step size and number of steps"
      ]
    },
    {
      "metadata": {
        "id": "HBvy_LF8cZtw",
        "colab_type": "code",
        "colab": {}
      },
      "cell_type": "code",
      "source": [
        "step_size = 0.2\n",
        "steps = 10"
      ],
      "execution_count": 0,
      "outputs": []
    },
    {
      "metadata": {
        "id": "dv7jPezsj-jI",
        "colab_type": "text"
      },
      "cell_type": "markdown",
      "source": [
        "# Calculate Image Gradient and run FGSM attack"
      ]
    },
    {
      "metadata": {
        "id": "v0yis9OBcbth",
        "colab_type": "code",
        "colab": {
          "base_uri": "https://localhost:8080/",
          "height": 845
        },
        "outputId": "42b9eba2-85c9-4e3f-d307-8765b0bfbfa0"
      },
      "cell_type": "code",
      "source": [
        "adversarial_img = x_batch.copy()\n",
        "adv_img_hist = list()\n",
        "prob2_hist = list()\n",
        "prob6_hist = list()\n",
        "for i in range(0, steps):\n",
        "    gradient = img_gradient.eval({x: adversarial_img, y_: target_labels, keep_prob: 1.0})\n",
        "    adversarial_img = adversarial_img - step_size * np.sign(gradient)\n",
        "    adv_img_hist.append(adversarial_img)\n",
        "    prediction = tf.argmax(y,1)\n",
        "    prediction_val = prediction.eval(feed_dict={x: adversarial_img, keep_prob: 1.0}, session=sess)\n",
        "    print(\"predictions\", prediction_val)\n",
        "    probabilities = y\n",
        "    probabilities_val = probabilities.eval(feed_dict = {x: adversarial_img, keep_prob: 1.0}, session=sess)\n",
        "    print('Confidence 2:', probabilities_val[:, 2])\n",
        "    print('Confidence 6:', probabilities_val[:, 6])\n",
        "prob2_hist.append(probabilities_val[:,2])\n",
        "prob6_hist.append(probabilities_val[:,6])"
      ],
      "execution_count": 112,
      "outputs": [
        {
          "output_type": "stream",
          "text": [
            "predictions [6 6 6 6 6 6 6 2 6 6]\n",
            "Confidence 2: [1.9258109e-03 1.6377331e-01 4.6534344e-04 1.2659092e-01 1.8603748e-02\n",
            " 2.5788921e-01 1.4586066e-01 9.8397142e-01 3.6398984e-02 5.1184859e-02]\n",
            "Confidence 6: [0.9804155  0.6088897  0.91921973 0.7576219  0.9025525  0.5702057\n",
            " 0.47788936 0.01203547 0.6397945  0.35135284]\n",
            "predictions [6 6 6 6 6 6 6 6 6 6]\n",
            "Confidence 2: [8.4294965e-07 1.9711870e-06 1.9013413e-07 3.2630858e-06 8.5135844e-07\n",
            " 2.0201853e-06 7.0475057e-06 1.7746222e-04 5.9080503e-05 9.3822957e-05]\n",
            "Confidence 6: [0.9999981  0.99999    0.99994206 0.99991894 0.9999896  0.99994993\n",
            " 0.99992275 0.9974172  0.99992263 0.9997352 ]\n",
            "predictions [6 6 6 6 6 6 6 6 6 6]\n",
            "Confidence 2: [9.8236575e-12 2.4442037e-10 4.8701994e-09 2.5684421e-09 7.6039850e-09\n",
            " 5.2884475e-09 7.6069444e-09 1.4216489e-06 1.4868227e-10 2.4197273e-09]\n",
            "Confidence 6: [1.         1.         1.         1.         1.         1.\n",
            " 1.         0.99999857 1.         1.        ]\n",
            "predictions [6 6 6 6 6 6 6 6 6 6]\n",
            "Confidence 2: [4.7224356e-07 1.9341946e-11 5.6926339e-13 6.9383163e-06 5.8073565e-13\n",
            " 4.5326891e-13 7.7822956e-11 2.1751858e-13 1.0537501e-06 1.2125953e-10]\n",
            "Confidence 6: [0.99999917 1.         1.         0.9999913  0.99999964 0.9999999\n",
            " 0.9999999  1.         0.9999988  0.9999999 ]\n",
            "predictions [6 6 6 6 6 6 6 6 6 6]\n",
            "Confidence 2: [5.8340868e-15 8.6420004e-10 6.9849825e-08 4.4813093e-13 1.1915402e-16\n",
            " 6.4325905e-16 2.8561575e-14 1.2127886e-08 1.4958546e-13 1.9955591e-14]\n",
            "Confidence 6: [1.       1.       0.999997 1.       1.       1.       1.       1.\n",
            " 1.       1.      ]\n",
            "predictions [6 6 6 6 6 6 6 6 6 6]\n",
            "Confidence 2: [1.7153796e-12 4.5713978e-08 1.6674174e-12 2.7698426e-09 2.5304963e-11\n",
            " 2.5370290e-12 2.8770628e-16 2.1564993e-11 8.4775444e-11 1.1758176e-09]\n",
            "Confidence 6: [1. 1. 1. 1. 1. 1. 1. 1. 1. 1.]\n",
            "predictions [6 6 6 6 6 6 6 6 6 6]\n",
            "Confidence 2: [1.30760804e-16 1.01330484e-13 9.08802246e-18 6.64730112e-15\n",
            " 3.80264153e-10 5.32560261e-18 5.73420502e-14 9.83242079e-14\n",
            " 5.73611159e-09 7.74646782e-16]\n",
            "Confidence 6: [1. 1. 1. 1. 1. 1. 1. 1. 1. 1.]\n",
            "predictions [6 6 6 6 6 6 6 6 6 6]\n",
            "Confidence 2: [3.7152421e-13 1.7100417e-12 1.5742634e-14 1.1472803e-11 6.3139953e-17\n",
            " 4.4066588e-14 1.3060559e-11 1.1386105e-11 2.5724496e-15 4.0168587e-13]\n",
            "Confidence 6: [1. 1. 1. 1. 1. 1. 1. 1. 1. 1.]\n",
            "predictions [6 6 6 6 6 6 6 6 6 6]\n",
            "Confidence 2: [5.1069461e-12 1.8911810e-11 4.6671358e-13 4.4259527e-12 1.3017428e-12\n",
            " 2.1365749e-13 1.1492375e-16 7.7666138e-17 2.0771252e-13 1.2793582e-12]\n",
            "Confidence 6: [1. 1. 1. 1. 1. 1. 1. 1. 1. 1.]\n",
            "predictions [6 6 6 6 6 6 6 6 6 6]\n",
            "Confidence 2: [1.5508212e-17 3.0938050e-16 1.3530144e-13 7.6283788e-12 1.6730178e-12\n",
            " 4.8300157e-12 2.4627629e-14 6.2795778e-16 1.8329921e-11 3.4010105e-13]\n",
            "Confidence 6: [1. 1. 1. 1. 1. 1. 1. 1. 1. 1.]\n"
          ],
          "name": "stdout"
        }
      ]
    },
    {
      "metadata": {
        "id": "CimpPmUykKLv",
        "colab_type": "text"
      },
      "cell_type": "markdown",
      "source": [
        "# Plot Image grid of original image, adversarial image and noise"
      ]
    },
    {
      "metadata": {
        "id": "wM2_jS6jcm4e",
        "colab_type": "code",
        "colab": {
          "base_uri": "https://localhost:8080/",
          "height": 1089
        },
        "outputId": "c76c248a-6a52-4e86-8a5e-cc34e3b55e8f"
      },
      "cell_type": "code",
      "source": [
        "f, axarr = plt.subplots(10, 3, figsize=(5,15))\n",
        "import matplotlib as mpl\n",
        "mpl.rcParams['figure.dpi']= 250\n",
        "for i in range(10):\n",
        "    axarr[i,0].set_axis_off()\n",
        "    axarr[i,1].set_axis_off()\n",
        "    axarr[i,2].set_axis_off()\n",
        "    axarr[i,0].imshow(original_images[i].reshape([28, 28]), cmap = \"gray\")\n",
        "    axarr[i,1].imshow((adv_img_hist[0][i] - original_images[i]).reshape([28, 28]), cmap = \"gray\")\n",
        "    axarr[i,2].imshow((adv_img_hist[0][i]).reshape([28, 28]), cmap=\"gray\")\n",
        "    \n",
        "plt.tight_layout()\n",
        "plt.show()"
      ],
      "execution_count": 113,
      "outputs": [
        {
          "output_type": "display_data",
          "data": {
            "image/png": "[encoded data removed]",
            "text/plain": [
              "<matplotlib.figure.Figure at 0x7fec4db76dd8>"
            ]
          },
          "metadata": {
            "tags": []
          }
        }
      ]
    },
    {
      "metadata": {
        "id": "-21K5vqncp5N",
        "colab_type": "code",
        "colab": {}
      },
      "cell_type": "code",
      "source": [
        ""
      ],
      "execution_count": 0,
      "outputs": []
    }
  ]
}