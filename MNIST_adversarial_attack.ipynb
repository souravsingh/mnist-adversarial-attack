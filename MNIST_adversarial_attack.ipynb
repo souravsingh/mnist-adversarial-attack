{
  "nbformat": 4,
  "nbformat_minor": 0,
  "metadata": {
    "colab": {
      "name": "MNIST adversarial attack.ipynb",
      "version": "0.3.2",
      "provenance": [],
      "collapsed_sections": []
    },
    "kernelspec": {
      "name": "python3",
      "display_name": "Python 3"
    },
    "accelerator": "GPU"
  },
  "cells": [
    {
      "metadata": {
        "id": "pm9fm1HljD0e",
        "colab_type": "text"
      },
      "cell_type": "markdown",
      "source": [
        "# Adversarial Attack on MNIST\n",
        "\n",
        "Here, we use the tutorial \"Deep MNIST for experts\" inspired by this link- https://github.com/DobrinGanev/Deep-MNIST-for-Experts-Tensorflow-Example/blob/master/multilayer-convolutional-network.ipynb\n",
        "\n",
        "The functions are modified to use tf.keras API."
      ]
    },
    {
      "metadata": {
        "id": "Va-_7gXOhUnx",
        "colab_type": "text"
      },
      "cell_type": "markdown",
      "source": [
        "# Import packages"
      ]
    },
    {
      "metadata": {
        "id": "VsGQFQhEWkf5",
        "colab_type": "code",
        "colab": {}
      },
      "cell_type": "code",
      "source": [
        "import tensorflow as tf\n",
        "import numpy as np\n",
        "import matplotlib.pyplot as plt\n",
        "%matplotlib inline\n",
        "from tensorflow.examples.tutorials.mnist import input_data\n",
        "from tqdm import tqdm"
      ],
      "execution_count": 0,
      "outputs": []
    },
    {
      "metadata": {
        "id": "Xd33oX2ChY9r",
        "colab_type": "text"
      },
      "cell_type": "markdown",
      "source": [
        "# Load MNIST dataset"
      ]
    },
    {
      "metadata": {
        "id": "0RPYzyl3WnrJ",
        "colab_type": "code",
        "outputId": "691f0e13-8549-4c2e-bc23-fa35aa272f55",
        "colab": {
          "base_uri": "https://localhost:8080/",
          "height": 559
        }
      },
      "cell_type": "code",
      "source": [
        "#Read the input data\n",
        "mnist = input_data.read_data_sets(\"MNIST_data/\", one_hot=True)"
      ],
      "execution_count": 2,
      "outputs": [
        {
          "output_type": "stream",
          "text": [
            "WARNING:tensorflow:From <ipython-input-2-a839aeb82f4b>:1: read_data_sets (from tensorflow.contrib.learn.python.learn.datasets.mnist) is deprecated and will be removed in a future version.\n",
            "Instructions for updating:\n",
            "Please use alternatives such as official/mnist/dataset.py from tensorflow/models.\n",
            "WARNING:tensorflow:From /usr/local/lib/python3.6/dist-packages/tensorflow/contrib/learn/python/learn/datasets/mnist.py:260: maybe_download (from tensorflow.contrib.learn.python.learn.datasets.base) is deprecated and will be removed in a future version.\n",
            "Instructions for updating:\n",
            "Please write your own downloading logic.\n",
            "WARNING:tensorflow:From /usr/local/lib/python3.6/dist-packages/tensorflow/contrib/learn/python/learn/datasets/base.py:252: _internal_retry.<locals>.wrap.<locals>.wrapped_fn (from tensorflow.contrib.learn.python.learn.datasets.base) is deprecated and will be removed in a future version.\n",
            "Instructions for updating:\n",
            "Please use urllib or similar directly.\n",
            "Successfully downloaded train-images-idx3-ubyte.gz 9912422 bytes.\n",
            "WARNING:tensorflow:From /usr/local/lib/python3.6/dist-packages/tensorflow/contrib/learn/python/learn/datasets/mnist.py:262: extract_images (from tensorflow.contrib.learn.python.learn.datasets.mnist) is deprecated and will be removed in a future version.\n",
            "Instructions for updating:\n",
            "Please use tf.data to implement this functionality.\n",
            "Extracting MNIST_data/train-images-idx3-ubyte.gz\n",
            "Successfully downloaded train-labels-idx1-ubyte.gz 28881 bytes.\n",
            "WARNING:tensorflow:From /usr/local/lib/python3.6/dist-packages/tensorflow/contrib/learn/python/learn/datasets/mnist.py:267: extract_labels (from tensorflow.contrib.learn.python.learn.datasets.mnist) is deprecated and will be removed in a future version.\n",
            "Instructions for updating:\n",
            "Please use tf.data to implement this functionality.\n",
            "Extracting MNIST_data/train-labels-idx1-ubyte.gz\n",
            "WARNING:tensorflow:From /usr/local/lib/python3.6/dist-packages/tensorflow/contrib/learn/python/learn/datasets/mnist.py:110: dense_to_one_hot (from tensorflow.contrib.learn.python.learn.datasets.mnist) is deprecated and will be removed in a future version.\n",
            "Instructions for updating:\n",
            "Please use tf.one_hot on tensors.\n",
            "Successfully downloaded t10k-images-idx3-ubyte.gz 1648877 bytes.\n",
            "Extracting MNIST_data/t10k-images-idx3-ubyte.gz\n",
            "Successfully downloaded t10k-labels-idx1-ubyte.gz 4542 bytes.\n",
            "Extracting MNIST_data/t10k-labels-idx1-ubyte.gz\n",
            "WARNING:tensorflow:From /usr/local/lib/python3.6/dist-packages/tensorflow/contrib/learn/python/learn/datasets/mnist.py:290: DataSet.__init__ (from tensorflow.contrib.learn.python.learn.datasets.mnist) is deprecated and will be removed in a future version.\n",
            "Instructions for updating:\n",
            "Please use alternatives such as official/mnist/dataset.py from tensorflow/models.\n"
          ],
          "name": "stdout"
        }
      ]
    },
    {
      "metadata": {
        "id": "9dZyN1gLhc8G",
        "colab_type": "text"
      },
      "cell_type": "markdown",
      "source": [
        "# Check a sample image"
      ]
    },
    {
      "metadata": {
        "id": "Ic_33cTJWpqN",
        "colab_type": "code",
        "outputId": "725a5077-1053-46b6-dab3-1c33b6000fc1",
        "colab": {
          "base_uri": "https://localhost:8080/",
          "height": 337
        }
      },
      "cell_type": "code",
      "source": [
        "#Explore the data\n",
        "sample_image = mnist.train.next_batch(1)[0]\n",
        "print(\"Training image shape\", mnist.train.images.shape)\n",
        "print(\"Training labels shape\", mnist.train.labels.shape)\n",
        "print(\"Shape of an image\", sample_image.shape)\n",
        "sample_image = sample_image.reshape([28, 28])\n",
        "plt.imshow(sample_image)"
      ],
      "execution_count": 3,
      "outputs": [
        {
          "output_type": "stream",
          "text": [
            "Training image shape (55000, 784)\n",
            "Training labels shape (55000, 10)\n",
            "Shape of an image (1, 784)\n"
          ],
          "name": "stdout"
        },
        {
          "output_type": "execute_result",
          "data": {
            "text/plain": [
              "<matplotlib.image.AxesImage at 0x7fec6b6ae748>"
            ]
          },
          "metadata": {
            "tags": []
          },
          "execution_count": 3
        },
        {
          "output_type": "display_data",
          "data": {
            "image/png": "[encoded data removed]",
            "text/plain": [
              "<matplotlib.figure.Figure at 0x7fec6c3c0da0>"
            ]
          },
          "metadata": {
            "tags": []
          }
        }
      ]
    },
    {
      "metadata": {
        "id": "2mnfZcBahjgq",
        "colab_type": "text"
      },
      "cell_type": "markdown",
      "source": [
        "# Create placeholder for Image and Labels"
      ]
    },
    {
      "metadata": {
        "id": "bzSIIufsWrd5",
        "colab_type": "code",
        "colab": {}
      },
      "cell_type": "code",
      "source": [
        "x = tf.keras.backend.placeholder(shape=[None, 784], dtype=tf.float32)\n",
        "y_ = tf.keras.backend.placeholder(shape=[None, 10], dtype=tf.float32)"
      ],
      "execution_count": 0,
      "outputs": []
    },
    {
      "metadata": {
        "id": "JDakU5H9hnbm",
        "colab_type": "text"
      },
      "cell_type": "markdown",
      "source": [
        "# Create function for Convolution and MaxPooling based on the tutorial for \"Deep MNIST for experts\". Here conv2d and maxpooling use tf.keras API."
      ]
    },
    {
      "metadata": {
        "id": "tPv96QOpXPO1",
        "colab_type": "code",
        "colab": {}
      },
      "cell_type": "code",
      "source": [
        "def weight_variable(shape):\n",
        "    initial = tf.truncated_normal(shape, stddev=0.1)\n",
        "    return tf.Variable(initial)\n",
        "\n",
        "def bias_variable(shape):\n",
        "    initial = tf.constant(0.1, shape=shape)\n",
        "    return tf.Variable(initial)\n",
        "\n",
        "# Functions for convolution and pooling functions\n",
        "def conv2d(x, W):\n",
        "    return tf.keras.backend.conv2d(x, W, strides=(1, 1), padding='same')\n",
        "\n",
        "def max_pooling_2x2(x):\n",
        "    return tf.keras.backend.pool2d(x, pool_size=(2,2), strides=(2,2), padding='same')"
      ],
      "execution_count": 0,
      "outputs": []
    },
    {
      "metadata": {
        "id": "t9y5Wy-viHi-",
        "colab_type": "text"
      },
      "cell_type": "markdown",
      "source": [
        "# Create Convolutional Neural Network"
      ]
    },
    {
      "metadata": {
        "id": "DshQ63hQXU8R",
        "colab_type": "code",
        "colab": {}
      },
      "cell_type": "code",
      "source": [
        "x_image = tf.reshape(x, [-1,28,28,1])\n",
        "\n",
        "# Conv layer 1 - 32x5x5\n",
        "W_conv1 = weight_variable([5, 5, 1, 32])\n",
        "b_conv1 = bias_variable([32])\n",
        "x_conv1 = tf.nn.relu(conv2d(x_image, W_conv1) + b_conv1)\n",
        "x_pool1 = max_pooling_2x2(x_conv1)\n",
        "\n",
        "# Conv layer 2 - 64x5x5\n",
        "W_conv2 = weight_variable([5, 5, 32, 64])\n",
        "b_conv2 = bias_variable([64])\n",
        "x_conv2 = tf.nn.relu(conv2d(x_pool1, W_conv2) + b_conv2)\n",
        "x_pool2 = max_pooling_2x2(x_conv2)\n",
        "\n",
        "# Flatten\n",
        "x_flat = tf.reshape(x_pool2, [-1, 7*7*64])\n",
        "\n",
        "# Dense fully connected layer\n",
        "W_fc1 = weight_variable([7 * 7 * 64, 1024])\n",
        "b_fc1 = bias_variable([1024])\n",
        "x_fc1 = tf.nn.relu(tf.matmul(x_flat, W_fc1) + b_fc1)\n",
        "\n",
        "# Regularization with dropout\n",
        "keep_prob = tf.placeholder(tf.float32)\n",
        "x_fc1_drop = tf.nn.dropout(x_fc1, keep_prob)\n",
        "\n",
        "# Classification layer\n",
        "W_fc2 = weight_variable([1024, 10])\n",
        "b_fc2 = bias_variable([10])\n",
        "y_conv = tf.matmul(x_fc1_drop, W_fc2) + b_fc2"
      ],
      "execution_count": 0,
      "outputs": []
    },
    {
      "metadata": {
        "id": "geVi-mJViMsn",
        "colab_type": "text"
      },
      "cell_type": "markdown",
      "source": [
        "# Probabilities, Loss, Optimizer and Test Accuracy initialization"
      ]
    },
    {
      "metadata": {
        "id": "W8B8VQZ2XXzK",
        "colab_type": "code",
        "colab": {}
      },
      "cell_type": "code",
      "source": [
        "# Get Probabilities\n",
        "y = tf.nn.softmax(y_conv)"
      ],
      "execution_count": 0,
      "outputs": []
    },
    {
      "metadata": {
        "id": "ytsjbxwsXaMO",
        "colab_type": "code",
        "colab": {}
      },
      "cell_type": "code",
      "source": [
        "# Loss and optimizer\n",
        "cross_entropy = tf.reduce_mean(tf.nn.softmax_cross_entropy_with_logits_v2(labels=y_, logits=y_conv))\n",
        "train_step = tf.train.AdamOptimizer(1e-4).minimize(cross_entropy)"
      ],
      "execution_count": 0,
      "outputs": []
    },
    {
      "metadata": {
        "id": "_WXhnD4PXdKO",
        "colab_type": "code",
        "colab": {}
      },
      "cell_type": "code",
      "source": [
        "# Test accuracy of model\n",
        "correct_prediction = tf.equal(tf.argmax(y_conv,1), tf.argmax(y_,1))\n",
        "accuracy = tf.reduce_mean(tf.cast(correct_prediction, tf.float32))"
      ],
      "execution_count": 0,
      "outputs": []
    },
    {
      "metadata": {
        "id": "6rpK_WidiWxE",
        "colab_type": "text"
      },
      "cell_type": "markdown",
      "source": [
        "# Initialize global variables for training"
      ]
    },
    {
      "metadata": {
        "id": "JDAv6l19XfgC",
        "colab_type": "code",
        "colab": {}
      },
      "cell_type": "code",
      "source": [
        "sess = tf.InteractiveSession()\n",
        "sess.run(tf.global_variables_initializer())"
      ],
      "execution_count": 0,
      "outputs": []
    },
    {
      "metadata": {
        "id": "oSEkiKDDid8B",
        "colab_type": "text"
      },
      "cell_type": "markdown",
      "source": [
        "# Start training"
      ]
    },
    {
      "metadata": {
        "id": "6EzrFObqXkRj",
        "colab_type": "code",
        "outputId": "02215fed-9606-4ed3-e33d-10acfe8ea7a6",
        "colab": {
          "base_uri": "https://localhost:8080/",
          "height": 125
        }
      },
      "cell_type": "code",
      "source": [
        "for i in tqdm(range(1000)):\n",
        "    batch = mnist.train.next_batch(100)\n",
        "    if i%200 == 0:\n",
        "        train_accuracy = accuracy.eval(feed_dict={x:batch[0], y_: batch[1], keep_prob: 1.0})\n",
        "        print(\"step %d, training accuracy %g\"%(i, train_accuracy))\n",
        "\n",
        "    train_step.run(feed_dict={x: batch[0], y_: batch[1], keep_prob: 0.4})"
      ],
      "execution_count": 11,
      "outputs": [
        {
          "output_type": "stream",
          "text": [
            "  0%|          | 1/1000 [00:02<45:11,  2.71s/it]"
          ],
          "name": "stderr"
        },
        {
          "output_type": "stream",
          "text": [
            "step 0, training accuracy 0.1\n"
          ],
          "name": "stdout"
        },
        {
          "output_type": "stream",
          "text": [
            " 21%|██        | 210/1000 [00:05<00:11, 69.50it/s]"
          ],
          "name": "stderr"
        },
        {
          "output_type": "stream",
          "text": [
            "step 200, training accuracy 0.91\n"
          ],
          "name": "stdout"
        },
        {
          "output_type": "stream",
          "text": [
            " 41%|████      | 409/1000 [00:08<00:08, 69.61it/s]"
          ],
          "name": "stderr"
        },
        {
          "output_type": "stream",
          "text": [
            "step 400, training accuracy 0.95\n"
          ],
          "name": "stdout"
        },
        {
          "output_type": "stream",
          "text": [
            " 61%|██████    | 611/1000 [00:11<00:05, 67.84it/s]"
          ],
          "name": "stderr"
        },
        {
          "output_type": "stream",
          "text": [
            "step 600, training accuracy 0.97\n"
          ],
          "name": "stdout"
        },
        {
          "output_type": "stream",
          "text": [
            " 81%|████████  | 808/1000 [00:14<00:02, 70.00it/s]"
          ],
          "name": "stderr"
        },
        {
          "output_type": "stream",
          "text": [
            "step 800, training accuracy 0.92\n"
          ],
          "name": "stdout"
        },
        {
          "output_type": "stream",
          "text": [
            "100%|██████████| 1000/1000 [00:17<00:00, 58.16it/s]\n"
          ],
          "name": "stderr"
        }
      ]
    },
    {
      "metadata": {
        "id": "zOR63Nwmighp",
        "colab_type": "text"
      },
      "cell_type": "markdown",
      "source": [
        "# Print Accuracy on test data"
      ]
    },
    {
      "metadata": {
        "id": "pkCTl9RDXnnZ",
        "colab_type": "code",
        "outputId": "570a504b-fc56-4b88-8eff-260c9161ee20",
        "colab": {
          "base_uri": "https://localhost:8080/",
          "height": 35
        }
      },
      "cell_type": "code",
      "source": [
        "print(\"test accuracy %g\"%accuracy.eval(feed_dict={x: mnist.test.images[0:500], \n",
        "                                                  y_: mnist.test.labels[0:500], keep_prob: 1.0}))"
      ],
      "execution_count": 12,
      "outputs": [
        {
          "output_type": "stream",
          "text": [
            "test accuracy 0.97\n"
          ],
          "name": "stdout"
        }
      ]
    },
    {
      "metadata": {
        "id": "tGonNEB8ijcw",
        "colab_type": "text"
      },
      "cell_type": "markdown",
      "source": [
        "# Filter Index for 2s images and the images"
      ]
    },
    {
      "metadata": {
        "id": "K3B8C4NxZWPD",
        "colab_type": "code",
        "colab": {}
      },
      "cell_type": "code",
      "source": [
        "index_of_2s = np.nonzero(mnist.test.labels[0:500][:,2])[0][0:10]\n",
        "x_batch = mnist.test.images[index_of_2s]\n",
        "y_batch = mnist.test.labels[index_of_2s]"
      ],
      "execution_count": 0,
      "outputs": []
    },
    {
      "metadata": {
        "id": "g6AR46OYin0g",
        "colab_type": "text"
      },
      "cell_type": "markdown",
      "source": [
        "# Print probabilities and predictions for chosen images"
      ]
    },
    {
      "metadata": {
        "id": "GNElgl2oZftO",
        "colab_type": "code",
        "outputId": "69437efa-acbf-4ae9-8497-7f2f55bccc8e",
        "colab": {
          "base_uri": "https://localhost:8080/",
          "height": 575
        }
      },
      "cell_type": "code",
      "source": [
        "prediction = tf.argmax(y,1)\n",
        "prediction_val = prediction.eval(feed_dict={x: x_batch, keep_prob: 1.0}, session=sess)\n",
        "print(\"predictions\", prediction_val)\n",
        "probabilities = y\n",
        "probabilities_val = probabilities.eval(feed_dict={x: x_batch, keep_prob: 1.0}, session=sess)\n",
        "print (\"probabilities\", probabilities_val)"
      ],
      "execution_count": 14,
      "outputs": [
        {
          "output_type": "stream",
          "text": [
            "predictions [2 2 2 2 2 2 2 2 2 2]\n",
            "probabilities [[2.72483448e-04 1.15437950e-04 9.99216199e-01 2.04494092e-04\n",
            "  6.14753137e-09 1.52973244e-05 9.61880141e-05 5.20937959e-08\n",
            "  7.97257817e-05 1.27999570e-07]\n",
            " [3.16149453e-05 1.80739498e-05 9.99733627e-01 1.63171586e-04\n",
            "  1.37366442e-07 1.46625207e-05 4.61351965e-06 1.24944827e-05\n",
            "  1.83404081e-05 3.22430901e-06]\n",
            " [4.04461706e-03 2.16605188e-03 9.20817137e-01 6.78299889e-02\n",
            "  2.62915660e-06 1.71217637e-03 1.97183853e-03 1.18419521e-04\n",
            "  1.31578057e-03 2.13719868e-05]\n",
            " [3.91915644e-04 4.57565719e-03 9.90475893e-01 2.36774678e-03\n",
            "  5.81538130e-04 5.89201460e-04 5.97138773e-04 8.30238278e-05\n",
            "  3.24926543e-04 1.29087375e-05]\n",
            " [9.34697800e-06 1.76107365e-04 9.99470055e-01 3.28130882e-05\n",
            "  1.24871440e-04 7.78610320e-06 1.39997777e-04 9.22872516e-07\n",
            "  3.19355022e-05 6.24747327e-06]\n",
            " [1.00341788e-03 1.54109750e-06 9.97800291e-01 1.16561353e-03\n",
            "  7.14979436e-08 1.76301000e-05 4.67779046e-07 6.45487398e-06\n",
            "  4.36226173e-06 1.20595544e-07]\n",
            " [1.07236579e-03 3.57725518e-03 9.75397408e-01 5.03551494e-03\n",
            "  4.76383648e-05 1.29639055e-03 8.56745406e-04 1.01366285e-02\n",
            "  7.44428602e-04 1.83557277e-03]\n",
            " [3.73218931e-08 9.53903978e-09 9.99999642e-01 2.07438887e-07\n",
            "  1.35855549e-09 9.43160661e-10 6.42123421e-09 6.52163257e-09\n",
            "  1.73032163e-07 1.65944292e-09]\n",
            " [4.97649889e-04 1.19501476e-06 9.98282909e-01 1.01271376e-03\n",
            "  2.54096858e-06 2.17086726e-05 5.94268749e-06 4.13259077e-05\n",
            "  1.30690270e-04 3.27176349e-06]\n",
            " [1.42015135e-02 1.54978668e-04 7.43509352e-01 1.11609546e-03\n",
            "  1.08098844e-03 1.11927930e-03 4.16112645e-03 1.81923546e-02\n",
            "  1.30919680e-01 8.55447352e-02]]\n"
          ],
          "name": "stdout"
        }
      ]
    },
    {
      "metadata": {
        "id": "Ub7qQ8qris6l",
        "colab_type": "text"
      },
      "cell_type": "markdown",
      "source": [
        "# Plot images with probabilities"
      ]
    },
    {
      "metadata": {
        "id": "G_TJCfPwZmmv",
        "colab_type": "code",
        "outputId": "e81b0d75-d06f-451e-e7dd-cb1701884e14",
        "colab": {
          "base_uri": "https://localhost:8080/",
          "height": 1977
        }
      },
      "cell_type": "code",
      "source": [
        "for i in range(0, 10):\n",
        "    print('Correct label', np.argmax(y_batch[i]))\n",
        "    print('Predicted label:', prediction_val[i])\n",
        "    print('Confidence:', np.max(probabilities_val[i]))\n",
        "    plt.figure(figsize=(2, 2))\n",
        "    plt.axis('off')\n",
        "    plt.imshow(x_batch[i].reshape([28, 28]),cmap = \"gray\")\n",
        "    plt.show()"
      ],
      "execution_count": 15,
      "outputs": [
        {
          "output_type": "stream",
          "text": [
            "Correct label 2\n",
            "Predicted label: 2\n",
            "Confidence: 0.9992162\n"
          ],
          "name": "stdout"
        },
        {
          "output_type": "display_data",
          "data": {
            "image/png": "[encoded data removed]",
            "text/plain": [
              "<matplotlib.figure.Figure at 0x7fec62b690f0>"
            ]
          },
          "metadata": {
            "tags": []
          }
        },
        {
          "output_type": "stream",
          "text": [
            "Correct label 2\n",
            "Predicted label: 2\n",
            "Confidence: 0.9997336\n"
          ],
          "name": "stdout"
        },
        {
          "output_type": "display_data",
          "data": {
            "image/png": "[encoded data removed]",
            "text/plain": [
              "<matplotlib.figure.Figure at 0x7fec62b6b4e0>"
            ]
          },
          "metadata": {
            "tags": []
          }
        },
        {
          "output_type": "stream",
          "text": [
            "Correct label 2\n",
            "Predicted label: 2\n",
            "Confidence: 0.92081714\n"
          ],
          "name": "stdout"
        },
        {
          "output_type": "display_data",
          "data": {
            "image/png": "[encoded data removed]",
            "text/plain": [
              "<matplotlib.figure.Figure at 0x7fec62330e80>"
            ]
          },
          "metadata": {
            "tags": []
          }
        },
        {
          "output_type": "stream",
          "text": [
            "Correct label 2\n",
            "Predicted label: 2\n",
            "Confidence: 0.9904759\n"
          ],
          "name": "stdout"
        },
        {
          "output_type": "display_data",
          "data": {
            "image/png": "[encoded data removed]",
            "text/plain": [
              "<matplotlib.figure.Figure at 0x7fec622bada0>"
            ]
          },
          "metadata": {
            "tags": []
          }
        },
        {
          "output_type": "stream",
          "text": [
            "Correct label 2\n",
            "Predicted label: 2\n",
            "Confidence: 0.99947006\n"
          ],
          "name": "stdout"
        },
        {
          "output_type": "display_data",
          "data": {
            "image/png": "[encoded data removed]",
            "text/plain": [
              "<matplotlib.figure.Figure at 0x7fec62285e80>"
            ]
          },
          "metadata": {
            "tags": []
          }
        },
        {
          "output_type": "stream",
          "text": [
            "Correct label 2\n",
            "Predicted label: 2\n",
            "Confidence: 0.9978003\n"
          ],
          "name": "stdout"
        },
        {
          "output_type": "display_data",
          "data": {
            "image/png": "[encoded data removed]",
            "text/plain": [
              "<matplotlib.figure.Figure at 0x7fec62220ef0>"
            ]
          },
          "metadata": {
            "tags": []
          }
        },
        {
          "output_type": "stream",
          "text": [
            "Correct label 2\n",
            "Predicted label: 2\n",
            "Confidence: 0.9753974\n"
          ],
          "name": "stdout"
        },
        {
          "output_type": "display_data",
          "data": {
            "image/png": "[encoded data removed]",
            "text/plain": [
              "<matplotlib.figure.Figure at 0x7fec621e7a20>"
            ]
          },
          "metadata": {
            "tags": []
          }
        },
        {
          "output_type": "stream",
          "text": [
            "Correct label 2\n",
            "Predicted label: 2\n",
            "Confidence: 0.99999964\n"
          ],
          "name": "stdout"
        },
        {
          "output_type": "display_data",
          "data": {
            "image/png": "[encoded data removed]",
            "text/plain": [
              "<matplotlib.figure.Figure at 0x7fec621bd4a8>"
            ]
          },
          "metadata": {
            "tags": []
          }
        },
        {
          "output_type": "stream",
          "text": [
            "Correct label 2\n",
            "Predicted label: 2\n",
            "Confidence: 0.9982829\n"
          ],
          "name": "stdout"
        },
        {
          "output_type": "display_data",
          "data": {
            "image/png": "[encoded data removed]",
            "text/plain": [
              "<matplotlib.figure.Figure at 0x7fec621890b8>"
            ]
          },
          "metadata": {
            "tags": []
          }
        },
        {
          "output_type": "stream",
          "text": [
            "Correct label 2\n",
            "Predicted label: 2\n",
            "Confidence: 0.74350935\n"
          ],
          "name": "stdout"
        },
        {
          "output_type": "display_data",
          "data": {
            "image/png": "[encoded data removed]",
            "text/plain": [
              "<matplotlib.figure.Figure at 0x7fec620d3630>"
            ]
          },
          "metadata": {
            "tags": []
          }
        }
      ]
    },
    {
      "metadata": {
        "id": "fU-p_L_ljrT2",
        "colab_type": "text"
      },
      "cell_type": "markdown",
      "source": [
        "# Initialize target label and the matrix for the adversarial attack"
      ]
    },
    {
      "metadata": {
        "id": "Q9THSdHibsfW",
        "colab_type": "code",
        "colab": {}
      },
      "cell_type": "code",
      "source": [
        "target_number = 6\n",
        "target_labels = np.zeros((10, 10))\n",
        "target_labels[:, target_number] = 1"
      ],
      "execution_count": 0,
      "outputs": []
    },
    {
      "metadata": {
        "id": "zE1pJabolpLV",
        "colab_type": "code",
        "outputId": "c4d99d4b-1049-4771-fb77-7ed6cdd680db",
        "colab": {
          "base_uri": "https://localhost:8080/",
          "height": 197
        }
      },
      "cell_type": "code",
      "source": [
        "target_labels"
      ],
      "execution_count": 17,
      "outputs": [
        {
          "output_type": "execute_result",
          "data": {
            "text/plain": [
              "array([[0., 0., 0., 0., 0., 0., 1., 0., 0., 0.],\n",
              "       [0., 0., 0., 0., 0., 0., 1., 0., 0., 0.],\n",
              "       [0., 0., 0., 0., 0., 0., 1., 0., 0., 0.],\n",
              "       [0., 0., 0., 0., 0., 0., 1., 0., 0., 0.],\n",
              "       [0., 0., 0., 0., 0., 0., 1., 0., 0., 0.],\n",
              "       [0., 0., 0., 0., 0., 0., 1., 0., 0., 0.],\n",
              "       [0., 0., 0., 0., 0., 0., 1., 0., 0., 0.],\n",
              "       [0., 0., 0., 0., 0., 0., 1., 0., 0., 0.],\n",
              "       [0., 0., 0., 0., 0., 0., 1., 0., 0., 0.],\n",
              "       [0., 0., 0., 0., 0., 0., 1., 0., 0., 0.]])"
            ]
          },
          "metadata": {
            "tags": []
          },
          "execution_count": 17
        }
      ]
    },
    {
      "metadata": {
        "id": "ENCfPmuXj0B-",
        "colab_type": "text"
      },
      "cell_type": "markdown",
      "source": [
        "# Initialize gradient for Adversarial attack"
      ]
    },
    {
      "metadata": {
        "id": "vq-E2tp3cW6c",
        "colab_type": "code",
        "colab": {}
      },
      "cell_type": "code",
      "source": [
        "img_gradient = tf.gradients(cross_entropy, x)[0]"
      ],
      "execution_count": 0,
      "outputs": []
    },
    {
      "metadata": {
        "id": "eyhCF5TKj4UN",
        "colab_type": "text"
      },
      "cell_type": "markdown",
      "source": [
        "# Initialize value for step size and number of steps"
      ]
    },
    {
      "metadata": {
        "id": "HBvy_LF8cZtw",
        "colab_type": "code",
        "colab": {}
      },
      "cell_type": "code",
      "source": [
        "step_size = 0.01\n",
        "steps = 10"
      ],
      "execution_count": 0,
      "outputs": []
    },
    {
      "metadata": {
        "id": "dv7jPezsj-jI",
        "colab_type": "text"
      },
      "cell_type": "markdown",
      "source": [
        "# Calculate Image Gradient and run FGSM attack"
      ]
    },
    {
      "metadata": {
        "id": "v0yis9OBcbth",
        "colab_type": "code",
        "outputId": "9a5127cc-18b8-4e54-b34c-407454c58820",
        "colab": {
          "base_uri": "https://localhost:8080/",
          "height": 935
        }
      },
      "cell_type": "code",
      "source": [
        "adversarial_img = x_batch.copy()\n",
        "adv_img_hist = list()\n",
        "prob2_hist = list()\n",
        "prob6_hist = list()\n",
        "for i in range(0, steps):\n",
        "    gradient = img_gradient.eval({x: adversarial_img, y_: target_labels, keep_prob: 1.0})\n",
        "    adversarial_img = adversarial_img + step_size * np.sign(gradient)\n",
        "    adv_img_hist.append(adversarial_img)\n",
        "    prediction = tf.argmax(y,1)\n",
        "    prediction_val = prediction.eval(feed_dict={x: adversarial_img, keep_prob: 1.0}, session=sess)\n",
        "    print(\"predictions\", prediction_val)\n",
        "    probabilities = y\n",
        "    probabilities_val = probabilities.eval(feed_dict = {x: adversarial_img, keep_prob: 1.0}, session=sess)\n",
        "    print('Confidence 2:', probabilities_val[:, 2])\n",
        "    print('Confidence 6:', probabilities_val[:, 6])\n",
        "prob2_hist.append(probabilities_val[:,2])\n",
        "prob6_hist.append(probabilities_val[:,6])"
      ],
      "execution_count": 20,
      "outputs": [
        {
          "output_type": "stream",
          "text": [
            "predictions [2 2 2 2 2 2 2 2 2 2]\n",
            "Confidence 2: [0.9996457  0.9998702  0.9407048  0.99387324 0.9997507  0.99887675\n",
            " 0.9851317  0.99999976 0.99903935 0.82104206]\n",
            "Confidence 6: [2.7716091e-05 1.1834917e-06 6.7197107e-04 2.1129129e-04 4.7039859e-05\n",
            " 1.2415822e-07 3.2681477e-04 1.4046408e-09 1.8461017e-06 1.5854194e-03]\n",
            "predictions [2 2 2 2 2 2 2 2 2 2]\n",
            "Confidence 2: [0.9998605  0.99993956 0.9634883  0.9967595  0.9999081  0.9994838\n",
            " 0.9925056  1.         0.9995733  0.87844485]\n",
            "Confidence 6: [5.7961674e-06 2.6614705e-07 1.7386091e-04 5.3692729e-05 1.1955336e-05\n",
            " 2.7095917e-08 9.3742878e-05 2.5592325e-10 4.1908194e-07 5.0657126e-04]\n",
            "predictions [2 2 2 2 2 2 2 2 2 2]\n",
            "Confidence 2: [0.99994564 0.9999714  0.9786202  0.99833906 0.9999627  0.9997701\n",
            " 0.9961287  1.         0.99977225 0.9233672 ]\n",
            "Confidence 6: [1.3143884e-06 6.4762204e-08 4.9292976e-05 1.4293257e-05 3.0800397e-06\n",
            " 6.1677268e-09 2.9061461e-05 4.7810363e-11 1.0954915e-07 1.6989443e-04]\n",
            "predictions [2 2 2 2 2 2 2 2 2 2]\n",
            "Confidence 2: [0.9999777  0.9999863  0.9877573  0.99909055 0.99998343 0.99988484\n",
            " 0.9977925  1.         0.9998963  0.9576136 ]\n",
            "Confidence 6: [2.9564100e-07 1.7421465e-08 1.3691611e-05 3.7101950e-06 7.7046292e-07\n",
            " 1.5466523e-09 9.3224653e-06 1.0214734e-11 2.8544374e-08 5.9205624e-05]\n",
            "predictions [2 2 2 2 2 2 2 2 2 2]\n",
            "Confidence 2: [0.99999    0.9999925  0.9921072  0.9995548  0.9999926  0.99994063\n",
            " 0.99884087 1.         0.9999474  0.97713953]\n",
            "Confidence 6: [7.3822044e-08 5.1749445e-09 4.2684824e-06 9.6726069e-07 2.0786716e-07\n",
            " 4.4904530e-10 2.7949670e-06 2.2767083e-12 7.8242373e-09 2.0319869e-05]\n",
            "predictions [2 2 2 2 2 2 2 2 2 2]\n",
            "Confidence 2: [0.9999951  0.9999957  0.99518687 0.99976856 0.99999654 0.99996805\n",
            " 0.9993412  1.         0.99997246 0.98591495]\n",
            "Confidence 6: [1.9661579e-08 1.6240965e-09 1.3853294e-06 2.7696106e-07 5.7522108e-08\n",
            " 1.2907327e-10 9.1268356e-07 5.5473947e-13 2.3232349e-09 7.1191962e-06]\n",
            "predictions [2 2 2 2 2 2 2 2 2 2]\n",
            "Confidence 2: [0.9999975  0.9999975  0.99698645 0.9998559  0.99999833 0.9999831\n",
            " 0.99961746 1.         0.999984   0.9925051 ]\n",
            "Confidence 6: [6.1497683e-09 4.8976462e-10 4.8958037e-07 9.1147051e-08 1.6659140e-08\n",
            " 3.7328265e-11 3.0295200e-07 1.3584652e-13 7.4863293e-10 2.4885123e-06]\n",
            "predictions [2 2 2 2 2 2 2 2 2 2]\n",
            "Confidence 2: [0.9999987  0.9999987  0.99807334 0.9999161  0.99999917 0.9999906\n",
            " 0.9997564  1.         0.99999166 0.9952786 ]\n",
            "Confidence 6: [1.87032434e-09 1.49851923e-10 1.55097965e-07 2.89134423e-08\n",
            " 5.03875608e-09 1.21449985e-11 1.06863709e-07 3.53705577e-14\n",
            " 2.39590292e-10 9.55549240e-07]\n",
            "predictions [2 2 2 2 2 2 2 2 2 2]\n",
            "Confidence 2: [0.9999993  0.9999993  0.99882597 0.99994886 0.99999964 0.9999944\n",
            " 0.9998573  1.         0.99999523 0.99691796]\n",
            "Confidence 6: [5.8971955e-10 4.8083218e-11 5.2772965e-08 1.0396629e-08 1.4778206e-09\n",
            " 3.8777935e-12 4.0948301e-08 9.3793110e-15 8.3439713e-11 3.5892563e-07]\n",
            "predictions [2 2 2 2 2 2 2 2 2 2]\n",
            "Confidence 2: [0.99999964 0.99999964 0.99925154 0.9999639  0.99999976 0.99999654\n",
            " 0.9999089  1.         0.9999974  0.99814725]\n",
            "Confidence 6: [2.0626502e-10 1.4857669e-11 1.8565565e-08 3.8175192e-09 3.9445161e-10\n",
            " 1.3047584e-12 1.6427043e-08 2.7511319e-15 2.8373835e-11 1.2738589e-07]\n"
          ],
          "name": "stdout"
        }
      ]
    },
    {
      "metadata": {
        "id": "CimpPmUykKLv",
        "colab_type": "text"
      },
      "cell_type": "markdown",
      "source": [
        "# Plot Image grid of original image, adversarial image and noise"
      ]
    },
    {
      "metadata": {
        "id": "wM2_jS6jcm4e",
        "colab_type": "code",
        "outputId": "fd025fc8-14b4-4266-d849-b58ec433436d",
        "colab": {
          "base_uri": "https://localhost:8080/",
          "height": 1089
        }
      },
      "cell_type": "code",
      "source": [
        "f, axarr = plt.subplots(10, 3, figsize=(5,15))\n",
        "import matplotlib as mpl\n",
        "mpl.rcParams['figure.dpi']= 250\n",
        "for i in range(10):\n",
        "    axarr[i,0].set_axis_off()\n",
        "    axarr[i,1].set_axis_off()\n",
        "    axarr[i,2].set_axis_off()\n",
        "    axarr[i,0].imshow(x_batch[i].reshape([28, 28]), cmap = \"gray\")\n",
        "    axarr[i,1].imshow((adv_img_hist[0][i] - x_batch[i]).reshape([28, 28]), cmap = \"gray\")\n",
        "    axarr[i,2].imshow((adv_img_hist[0][i]).reshape([28, 28]), cmap=\"gray\")\n",
        "    \n",
        "plt.tight_layout()\n",
        "plt.show()"
      ],
      "execution_count": 21,
      "outputs": [
        {
          "output_type": "display_data",
          "data": {
            "image/png": "[encoded data removed]",
            "text/plain": [
              "<matplotlib.figure.Figure at 0x7fec6200d630>"
            ]
          },
          "metadata": {
            "tags": []
          }
        }
      ]
    },
    {
      "metadata": {
        "id": "-21K5vqncp5N",
        "colab_type": "code",
        "colab": {}
      },
      "cell_type": "code",
      "source": [
        ""
      ],
      "execution_count": 0,
      "outputs": []
    }
  ]
}
