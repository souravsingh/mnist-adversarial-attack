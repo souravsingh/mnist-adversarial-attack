{
  "nbformat": 4,
  "nbformat_minor": 0,
  "metadata": {
    "colab": {
      "name": "MNIST adversarial attack.ipynb",
      "version": "0.3.2",
      "provenance": [],
      "collapsed_sections": []
    },
    "kernelspec": {
      "name": "python3",
      "display_name": "Python 3"
    },
    "accelerator": "GPU"
  },
  "cells": [
    {
      "metadata": {
        "id": "pm9fm1HljD0e",
        "colab_type": "text"
      },
      "cell_type": "markdown",
      "source": [
        "# Adversarial Attack on MNIST\n",
        "\n",
        "Here, we use the tutorial \"Deep MNIST for experts\" inspired by this link- https://github.com/DobrinGanev/Deep-MNIST-for-Experts-Tensorflow-Example/blob/master/multilayer-convolutional-network.ipynb\n",
        "\n",
        "The functions are modified to use tf.keras API."
      ]
    },
    {
      "metadata": {
        "id": "Va-_7gXOhUnx",
        "colab_type": "text"
      },
      "cell_type": "markdown",
      "source": [
        "# Import packages"
      ]
    },
    {
      "metadata": {
        "id": "VsGQFQhEWkf5",
        "colab_type": "code",
        "colab": {}
      },
      "cell_type": "code",
      "source": [
        "import tensorflow as tf\n",
        "import numpy as np\n",
        "import matplotlib.pyplot as plt\n",
        "%matplotlib inline\n",
        "from tensorflow.examples.tutorials.mnist import input_data\n",
        "from tqdm import tqdm"
      ],
      "execution_count": 0,
      "outputs": []
    },
    {
      "metadata": {
        "id": "Xd33oX2ChY9r",
        "colab_type": "text"
      },
      "cell_type": "markdown",
      "source": [
        "# Load MNIST dataset"
      ]
    },
    {
      "metadata": {
        "id": "0RPYzyl3WnrJ",
        "colab_type": "code",
        "colab": {
          "base_uri": "https://localhost:8080/",
          "height": 559
        },
        "outputId": "faee7741-63c7-4da3-80ed-88e5b148eb55"
      },
      "cell_type": "code",
      "source": [
        "#Read the input data\n",
        "mnist = input_data.read_data_sets(\"MNIST_data/\", one_hot=True)"
      ],
      "execution_count": 2,
      "outputs": [
        {
          "output_type": "stream",
          "text": [
            "WARNING:tensorflow:From <ipython-input-2-a839aeb82f4b>:1: read_data_sets (from tensorflow.contrib.learn.python.learn.datasets.mnist) is deprecated and will be removed in a future version.\n",
            "Instructions for updating:\n",
            "Please use alternatives such as official/mnist/dataset.py from tensorflow/models.\n",
            "WARNING:tensorflow:From /usr/local/lib/python3.6/dist-packages/tensorflow/contrib/learn/python/learn/datasets/mnist.py:260: maybe_download (from tensorflow.contrib.learn.python.learn.datasets.base) is deprecated and will be removed in a future version.\n",
            "Instructions for updating:\n",
            "Please write your own downloading logic.\n",
            "WARNING:tensorflow:From /usr/local/lib/python3.6/dist-packages/tensorflow/contrib/learn/python/learn/datasets/base.py:252: _internal_retry.<locals>.wrap.<locals>.wrapped_fn (from tensorflow.contrib.learn.python.learn.datasets.base) is deprecated and will be removed in a future version.\n",
            "Instructions for updating:\n",
            "Please use urllib or similar directly.\n",
            "Successfully downloaded train-images-idx3-ubyte.gz 9912422 bytes.\n",
            "WARNING:tensorflow:From /usr/local/lib/python3.6/dist-packages/tensorflow/contrib/learn/python/learn/datasets/mnist.py:262: extract_images (from tensorflow.contrib.learn.python.learn.datasets.mnist) is deprecated and will be removed in a future version.\n",
            "Instructions for updating:\n",
            "Please use tf.data to implement this functionality.\n",
            "Extracting MNIST_data/train-images-idx3-ubyte.gz\n",
            "Successfully downloaded train-labels-idx1-ubyte.gz 28881 bytes.\n",
            "WARNING:tensorflow:From /usr/local/lib/python3.6/dist-packages/tensorflow/contrib/learn/python/learn/datasets/mnist.py:267: extract_labels (from tensorflow.contrib.learn.python.learn.datasets.mnist) is deprecated and will be removed in a future version.\n",
            "Instructions for updating:\n",
            "Please use tf.data to implement this functionality.\n",
            "Extracting MNIST_data/train-labels-idx1-ubyte.gz\n",
            "WARNING:tensorflow:From /usr/local/lib/python3.6/dist-packages/tensorflow/contrib/learn/python/learn/datasets/mnist.py:110: dense_to_one_hot (from tensorflow.contrib.learn.python.learn.datasets.mnist) is deprecated and will be removed in a future version.\n",
            "Instructions for updating:\n",
            "Please use tf.one_hot on tensors.\n",
            "Successfully downloaded t10k-images-idx3-ubyte.gz 1648877 bytes.\n",
            "Extracting MNIST_data/t10k-images-idx3-ubyte.gz\n",
            "Successfully downloaded t10k-labels-idx1-ubyte.gz 4542 bytes.\n",
            "Extracting MNIST_data/t10k-labels-idx1-ubyte.gz\n",
            "WARNING:tensorflow:From /usr/local/lib/python3.6/dist-packages/tensorflow/contrib/learn/python/learn/datasets/mnist.py:290: DataSet.__init__ (from tensorflow.contrib.learn.python.learn.datasets.mnist) is deprecated and will be removed in a future version.\n",
            "Instructions for updating:\n",
            "Please use alternatives such as official/mnist/dataset.py from tensorflow/models.\n"
          ],
          "name": "stdout"
        }
      ]
    },
    {
      "metadata": {
        "id": "9dZyN1gLhc8G",
        "colab_type": "text"
      },
      "cell_type": "markdown",
      "source": [
        "# Check a sample image"
      ]
    },
    {
      "metadata": {
        "id": "Ic_33cTJWpqN",
        "colab_type": "code",
        "colab": {
          "base_uri": "https://localhost:8080/",
          "height": 337
        },
        "outputId": "652109a8-241f-4052-a025-bcd453bbfecd"
      },
      "cell_type": "code",
      "source": [
        "#Explore the data\n",
        "sample_image = mnist.train.next_batch(1)[0]\n",
        "print(\"Training image shape\", mnist.train.images.shape)\n",
        "print(\"Training labels shape\", mnist.train.labels.shape)\n",
        "print(\"Shape of an image\", sample_image.shape)\n",
        "sample_image = sample_image.reshape([28, 28])\n",
        "plt.imshow(sample_image)"
      ],
      "execution_count": 3,
      "outputs": [
        {
          "output_type": "stream",
          "text": [
            "Training image shape (55000, 784)\n",
            "Training labels shape (55000, 10)\n",
            "Shape of an image (1, 784)\n"
          ],
          "name": "stdout"
        },
        {
          "output_type": "execute_result",
          "data": {
            "text/plain": [
              "<matplotlib.image.AxesImage at 0x7f75d7b52ac8>"
            ]
          },
          "metadata": {
            "tags": []
          },
          "execution_count": 3
        },
        {
          "output_type": "display_data",
          "data": {
            "image/png": "[encoded data removed]",
            "text/plain": [
              "<matplotlib.figure.Figure at 0x7f75d87d5780>"
            ]
          },
          "metadata": {
            "tags": []
          }
        }
      ]
    },
    {
      "metadata": {
        "id": "2mnfZcBahjgq",
        "colab_type": "text"
      },
      "cell_type": "markdown",
      "source": [
        "# Create placeholder for Image and Labels"
      ]
    },
    {
      "metadata": {
        "id": "bzSIIufsWrd5",
        "colab_type": "code",
        "colab": {}
      },
      "cell_type": "code",
      "source": [
        "x = tf.keras.backend.placeholder(shape=[None, 784], dtype=tf.float32)\n",
        "y_ = tf.keras.backend.placeholder(shape=[None, 10], dtype=tf.float32)"
      ],
      "execution_count": 0,
      "outputs": []
    },
    {
      "metadata": {
        "id": "JDakU5H9hnbm",
        "colab_type": "text"
      },
      "cell_type": "markdown",
      "source": [
        "# Create function for Convolution and MaxPooling based on the tutorial for \"Deep MNIST for experts\". Here conv2d and maxpooling use tf.keras API."
      ]
    },
    {
      "metadata": {
        "id": "tPv96QOpXPO1",
        "colab_type": "code",
        "colab": {}
      },
      "cell_type": "code",
      "source": [
        "def weight_variable(shape):\n",
        "    initial = tf.truncated_normal(shape, stddev=0.1)\n",
        "    return tf.Variable(initial)\n",
        "\n",
        "def bias_variable(shape):\n",
        "    initial = tf.constant(0.1, shape=shape)\n",
        "    return tf.Variable(initial)\n",
        "\n",
        "# Functions for convolution and pooling functions\n",
        "def conv2d(x, W):\n",
        "    return tf.keras.backend.conv2d(x, W, strides=(1, 1), padding='same')\n",
        "\n",
        "def max_pooling_2x2(x):\n",
        "    return tf.keras.backend.pool2d(x, pool_size=(2,2), strides=(2,2), padding='same')"
      ],
      "execution_count": 0,
      "outputs": []
    },
    {
      "metadata": {
        "id": "t9y5Wy-viHi-",
        "colab_type": "text"
      },
      "cell_type": "markdown",
      "source": [
        "# Create Convolutional Neural Network"
      ]
    },
    {
      "metadata": {
        "id": "DshQ63hQXU8R",
        "colab_type": "code",
        "colab": {}
      },
      "cell_type": "code",
      "source": [
        "x_image = tf.reshape(x, [-1,28,28,1])\n",
        "\n",
        "# Conv layer 1 - 32x5x5\n",
        "W_conv1 = weight_variable([5, 5, 1, 32])\n",
        "b_conv1 = bias_variable([32])\n",
        "x_conv1 = tf.nn.relu(conv2d(x_image, W_conv1) + b_conv1)\n",
        "x_pool1 = max_pooling_2x2(x_conv1)\n",
        "\n",
        "# Conv layer 2 - 64x5x5\n",
        "W_conv2 = weight_variable([5, 5, 32, 64])\n",
        "b_conv2 = bias_variable([64])\n",
        "x_conv2 = tf.nn.relu(conv2d(x_pool1, W_conv2) + b_conv2)\n",
        "x_pool2 = max_pooling_2x2(x_conv2)\n",
        "\n",
        "# Flatten\n",
        "x_flat = tf.reshape(x_pool2, [-1, 7*7*64])\n",
        "\n",
        "# Dense fully connected layer\n",
        "W_fc1 = weight_variable([7 * 7 * 64, 1024])\n",
        "b_fc1 = bias_variable([1024])\n",
        "x_fc1 = tf.nn.relu(tf.matmul(x_flat, W_fc1) + b_fc1)\n",
        "\n",
        "# Regularization with dropout\n",
        "keep_prob = tf.placeholder(tf.float32)\n",
        "x_fc1_drop = tf.nn.dropout(x_fc1, keep_prob)\n",
        "\n",
        "# Classification layer\n",
        "W_fc2 = weight_variable([1024, 10])\n",
        "b_fc2 = bias_variable([10])\n",
        "y_conv = tf.matmul(x_fc1_drop, W_fc2) + b_fc2"
      ],
      "execution_count": 0,
      "outputs": []
    },
    {
      "metadata": {
        "id": "geVi-mJViMsn",
        "colab_type": "text"
      },
      "cell_type": "markdown",
      "source": [
        "# Probabilities, Loss, Optimizer and Test Accuracy initialization"
      ]
    },
    {
      "metadata": {
        "id": "W8B8VQZ2XXzK",
        "colab_type": "code",
        "colab": {}
      },
      "cell_type": "code",
      "source": [
        "# Get Probabilities\n",
        "y = tf.nn.softmax(y_conv)"
      ],
      "execution_count": 0,
      "outputs": []
    },
    {
      "metadata": {
        "id": "ytsjbxwsXaMO",
        "colab_type": "code",
        "colab": {}
      },
      "cell_type": "code",
      "source": [
        "# Loss and optimizer\n",
        "cross_entropy = tf.reduce_mean(tf.nn.softmax_cross_entropy_with_logits_v2(labels=y_, logits=y_conv))\n",
        "train_step = tf.train.AdamOptimizer(1e-4).minimize(cross_entropy)"
      ],
      "execution_count": 0,
      "outputs": []
    },
    {
      "metadata": {
        "id": "_WXhnD4PXdKO",
        "colab_type": "code",
        "colab": {}
      },
      "cell_type": "code",
      "source": [
        "# Test accuracy of model\n",
        "correct_prediction = tf.equal(tf.argmax(y_conv,1), tf.argmax(y_,1))\n",
        "accuracy = tf.reduce_mean(tf.cast(correct_prediction, tf.float32))"
      ],
      "execution_count": 0,
      "outputs": []
    },
    {
      "metadata": {
        "id": "6rpK_WidiWxE",
        "colab_type": "text"
      },
      "cell_type": "markdown",
      "source": [
        "# Initialize global variables for training"
      ]
    },
    {
      "metadata": {
        "id": "JDAv6l19XfgC",
        "colab_type": "code",
        "colab": {}
      },
      "cell_type": "code",
      "source": [
        "sess = tf.InteractiveSession()\n",
        "sess.run(tf.global_variables_initializer())"
      ],
      "execution_count": 0,
      "outputs": []
    },
    {
      "metadata": {
        "id": "oSEkiKDDid8B",
        "colab_type": "text"
      },
      "cell_type": "markdown",
      "source": [
        "# Start training"
      ]
    },
    {
      "metadata": {
        "id": "6EzrFObqXkRj",
        "colab_type": "code",
        "colab": {
          "base_uri": "https://localhost:8080/",
          "height": 125
        },
        "outputId": "24167b7b-553f-4715-af8e-dcb1d1f19bc4"
      },
      "cell_type": "code",
      "source": [
        "for i in tqdm(range(1000)):\n",
        "    batch = mnist.train.next_batch(100)\n",
        "    if i%200 == 0:\n",
        "        train_accuracy = accuracy.eval(feed_dict={x:batch[0], y_: batch[1], keep_prob: 1.0})\n",
        "        print(\"step %d, training accuracy %g\"%(i, train_accuracy))\n",
        "\n",
        "    train_step.run(feed_dict={x: batch[0], y_: batch[1], keep_prob: 0.4})"
      ],
      "execution_count": 11,
      "outputs": [
        {
          "output_type": "stream",
          "text": [
            "  0%|          | 1/1000 [00:02<40:46,  2.45s/it]"
          ],
          "name": "stderr"
        },
        {
          "output_type": "stream",
          "text": [
            "step 0, training accuracy 0.15\n"
          ],
          "name": "stdout"
        },
        {
          "output_type": "stream",
          "text": [
            " 21%|██        | 210/1000 [00:05<00:10, 73.51it/s]"
          ],
          "name": "stderr"
        },
        {
          "output_type": "stream",
          "text": [
            "step 200, training accuracy 0.91\n"
          ],
          "name": "stdout"
        },
        {
          "output_type": "stream",
          "text": [
            " 41%|████      | 410/1000 [00:07<00:07, 74.09it/s]"
          ],
          "name": "stderr"
        },
        {
          "output_type": "stream",
          "text": [
            "step 400, training accuracy 0.95\n"
          ],
          "name": "stdout"
        },
        {
          "output_type": "stream",
          "text": [
            " 61%|██████    | 610/1000 [00:10<00:05, 71.72it/s]"
          ],
          "name": "stderr"
        },
        {
          "output_type": "stream",
          "text": [
            "step 600, training accuracy 0.96\n"
          ],
          "name": "stdout"
        },
        {
          "output_type": "stream",
          "text": [
            " 81%|████████  | 810/1000 [00:13<00:02, 74.96it/s]"
          ],
          "name": "stderr"
        },
        {
          "output_type": "stream",
          "text": [
            "step 800, training accuracy 0.98\n"
          ],
          "name": "stdout"
        },
        {
          "output_type": "stream",
          "text": [
            "100%|██████████| 1000/1000 [00:15<00:00, 62.64it/s]\n"
          ],
          "name": "stderr"
        }
      ]
    },
    {
      "metadata": {
        "id": "zOR63Nwmighp",
        "colab_type": "text"
      },
      "cell_type": "markdown",
      "source": [
        "# Print Accuracy on test data"
      ]
    },
    {
      "metadata": {
        "id": "pkCTl9RDXnnZ",
        "colab_type": "code",
        "colab": {
          "base_uri": "https://localhost:8080/",
          "height": 35
        },
        "outputId": "d2f0b412-4a70-4abe-ddde-9bc0d7413c0d"
      },
      "cell_type": "code",
      "source": [
        "print(\"test accuracy %g\"%accuracy.eval(feed_dict={x: mnist.test.images[0:500], \n",
        "                                                  y_: mnist.test.labels[0:500], keep_prob: 1.0}))"
      ],
      "execution_count": 12,
      "outputs": [
        {
          "output_type": "stream",
          "text": [
            "test accuracy 0.966\n"
          ],
          "name": "stdout"
        }
      ]
    },
    {
      "metadata": {
        "id": "tGonNEB8ijcw",
        "colab_type": "text"
      },
      "cell_type": "markdown",
      "source": [
        "# Filter Index for 2s images and the images"
      ]
    },
    {
      "metadata": {
        "id": "K3B8C4NxZWPD",
        "colab_type": "code",
        "colab": {}
      },
      "cell_type": "code",
      "source": [
        "index_of_2s = np.nonzero(mnist.test.labels[0:500][:,2])[0][0:10]\n",
        "x_batch = mnist.test.images[index_of_2s]"
      ],
      "execution_count": 0,
      "outputs": []
    },
    {
      "metadata": {
        "id": "g6AR46OYin0g",
        "colab_type": "text"
      },
      "cell_type": "markdown",
      "source": [
        "# Print probabilities and predictions for chosen images"
      ]
    },
    {
      "metadata": {
        "id": "GNElgl2oZftO",
        "colab_type": "code",
        "colab": {
          "base_uri": "https://localhost:8080/",
          "height": 575
        },
        "outputId": "09ce6d57-fbe1-4562-a534-84c0e4ae8adf"
      },
      "cell_type": "code",
      "source": [
        "prediction = tf.argmax(y,1)\n",
        "prediction_val = prediction.eval(feed_dict={x: x_batch, keep_prob: 1.0}, session=sess)\n",
        "print(\"predictions\", prediction_val)\n",
        "probabilities = y\n",
        "probabilities_val = probabilities.eval(feed_dict={x: x_batch, keep_prob: 1.0}, session=sess)\n",
        "print (\"probabilities\", probabilities_val)"
      ],
      "execution_count": 14,
      "outputs": [
        {
          "output_type": "stream",
          "text": [
            "predictions [2 2 2 2 2 2 2 2 2 2]\n",
            "probabilities [[1.48450359e-04 9.87485168e-04 9.97328520e-01 6.28331152e-04\n",
            "  7.51353241e-07 1.80426468e-05 8.68445088e-04 3.75354858e-07\n",
            "  1.96363890e-05 1.20898136e-08]\n",
            " [3.79555968e-06 4.59429029e-05 9.99640822e-01 1.92118430e-04\n",
            "  3.81106730e-07 3.04707792e-05 1.45119179e-06 2.08055590e-05\n",
            "  6.39804857e-05 2.45621408e-07]\n",
            " [8.42797849e-03 9.77772195e-03 8.44806492e-01 1.33591264e-01\n",
            "  5.42416228e-06 1.30756479e-03 9.85995983e-04 4.96295106e-05\n",
            "  1.03941653e-03 8.40825669e-06]\n",
            " [3.12331795e-05 1.19215669e-03 9.97555435e-01 5.10628917e-04\n",
            "  1.79100418e-04 2.87168109e-06 4.21465636e-04 9.52872942e-05\n",
            "  1.07909018e-05 9.25337815e-07]\n",
            " [1.80918378e-05 6.18721606e-05 9.97954488e-01 1.03500625e-03\n",
            "  1.85136421e-04 1.72186610e-05 6.32094045e-04 1.27352560e-05\n",
            "  8.07614051e-05 2.60343722e-06]\n",
            " [3.83387887e-05 4.42070859e-06 9.99201000e-01 7.45633442e-04\n",
            "  7.33085201e-08 1.90450282e-06 2.05652569e-07 5.35173194e-06\n",
            "  2.75863704e-06 3.39459746e-07]\n",
            " [5.93008517e-05 2.92101922e-03 9.63646472e-01 7.89181155e-04\n",
            "  3.23432505e-05 1.91114115e-04 6.79584264e-05 3.17983218e-02\n",
            "  3.07136477e-04 1.87213096e-04]\n",
            " [1.45113388e-09 1.86007398e-07 9.99999166e-01 4.74277243e-07\n",
            "  1.59708851e-08 3.09892612e-10 8.66629435e-09 4.98670865e-08\n",
            "  3.42393349e-08 9.55352353e-10]\n",
            " [1.46321945e-05 9.75167495e-07 9.99460995e-01 4.66968428e-04\n",
            "  5.28163355e-06 7.35594358e-06 7.62220270e-06 7.11273515e-06\n",
            "  2.68764288e-05 2.24879318e-06]\n",
            " [2.24406156e-03 5.23456256e-04 8.69494319e-01 1.91739120e-03\n",
            "  3.13186343e-03 2.07631546e-03 5.90231270e-03 1.79718286e-02\n",
            "  7.09068254e-02 2.58317143e-02]]\n"
          ],
          "name": "stdout"
        }
      ]
    },
    {
      "metadata": {
        "id": "Ub7qQ8qris6l",
        "colab_type": "text"
      },
      "cell_type": "markdown",
      "source": [
        "# Plot images with probabilities"
      ]
    },
    {
      "metadata": {
        "id": "G_TJCfPwZmmv",
        "colab_type": "code",
        "colab": {
          "base_uri": "https://localhost:8080/",
          "height": 1977
        },
        "outputId": "2ae07ec3-c704-4f74-e0b2-233d8bce674a"
      },
      "cell_type": "code",
      "source": [
        "for i in range(0, 10):\n",
        "    print('Correct label', np.argmax(index_of_2s[i]))\n",
        "    print('Predicted label:', prediction_val[i])\n",
        "    print('Confidence:', np.max(probabilities_val[i]))\n",
        "    plt.figure(figsize=(2, 2))\n",
        "    plt.axis('off')\n",
        "    plt.imshow(x_batch[i].reshape([28, 28]),cmap = \"gray\")\n",
        "    plt.show()"
      ],
      "execution_count": 15,
      "outputs": [
        {
          "output_type": "stream",
          "text": [
            "Correct label 0\n",
            "Predicted label: 2\n",
            "Confidence: 0.9973285\n"
          ],
          "name": "stdout"
        },
        {
          "output_type": "display_data",
          "data": {
            "image/png": "[encoded data removed]",
            "text/plain": [
              "<matplotlib.figure.Figure at 0x7f75d965d748>"
            ]
          },
          "metadata": {
            "tags": []
          }
        },
        {
          "output_type": "stream",
          "text": [
            "Correct label 0\n",
            "Predicted label: 2\n",
            "Confidence: 0.9996408\n"
          ],
          "name": "stdout"
        },
        {
          "output_type": "display_data",
          "data": {
            "image/png": "[encoded data removed]",
            "text/plain": [
              "<matplotlib.figure.Figure at 0x7f75be7c2780>"
            ]
          },
          "metadata": {
            "tags": []
          }
        },
        {
          "output_type": "stream",
          "text": [
            "Correct label 0\n",
            "Predicted label: 2\n",
            "Confidence: 0.8448065\n"
          ],
          "name": "stdout"
        },
        {
          "output_type": "display_data",
          "data": {
            "image/png": "[encoded data removed]",
            "text/plain": [
              "<matplotlib.figure.Figure at 0x7f75be78f4e0>"
            ]
          },
          "metadata": {
            "tags": []
          }
        },
        {
          "output_type": "stream",
          "text": [
            "Correct label 0\n",
            "Predicted label: 2\n",
            "Confidence: 0.99755543\n"
          ],
          "name": "stdout"
        },
        {
          "output_type": "display_data",
          "data": {
            "image/png": "[encoded data removed]",
            "text/plain": [
              "<matplotlib.figure.Figure at 0x7f75be749cc0>"
            ]
          },
          "metadata": {
            "tags": []
          }
        },
        {
          "output_type": "stream",
          "text": [
            "Correct label 0\n",
            "Predicted label: 2\n",
            "Confidence: 0.9979545\n"
          ],
          "name": "stdout"
        },
        {
          "output_type": "display_data",
          "data": {
            "image/png": "[encoded data removed]",
            "text/plain": [
              "<matplotlib.figure.Figure at 0x7f75be703630>"
            ]
          },
          "metadata": {
            "tags": []
          }
        },
        {
          "output_type": "stream",
          "text": [
            "Correct label 0\n",
            "Predicted label: 2\n",
            "Confidence: 0.999201\n"
          ],
          "name": "stdout"
        },
        {
          "output_type": "display_data",
          "data": {
            "image/png": "[encoded data removed]",
            "text/plain": [
              "<matplotlib.figure.Figure at 0x7f75be6ef518>"
            ]
          },
          "metadata": {
            "tags": []
          }
        },
        {
          "output_type": "stream",
          "text": [
            "Correct label 0\n",
            "Predicted label: 2\n",
            "Confidence: 0.9636465\n"
          ],
          "name": "stdout"
        },
        {
          "output_type": "display_data",
          "data": {
            "image/png": "[encoded data removed]",
            "text/plain": [
              "<matplotlib.figure.Figure at 0x7f75be646630>"
            ]
          },
          "metadata": {
            "tags": []
          }
        },
        {
          "output_type": "stream",
          "text": [
            "Correct label 0\n",
            "Predicted label: 2\n",
            "Confidence: 0.99999917\n"
          ],
          "name": "stdout"
        },
        {
          "output_type": "display_data",
          "data": {
            "image/png": "[encoded data removed]",
            "text/plain": [
              "<matplotlib.figure.Figure at 0x7f75be62e710>"
            ]
          },
          "metadata": {
            "tags": []
          }
        },
        {
          "output_type": "stream",
          "text": [
            "Correct label 0\n",
            "Predicted label: 2\n",
            "Confidence: 0.999461\n"
          ],
          "name": "stdout"
        },
        {
          "output_type": "display_data",
          "data": {
            "image/png": "[encoded data removed]",
            "text/plain": [
              "<matplotlib.figure.Figure at 0x7f75be5fa898>"
            ]
          },
          "metadata": {
            "tags": []
          }
        },
        {
          "output_type": "stream",
          "text": [
            "Correct label 0\n",
            "Predicted label: 2\n",
            "Confidence: 0.8694943\n"
          ],
          "name": "stdout"
        },
        {
          "output_type": "display_data",
          "data": {
            "image/png": "[encoded data removed]",
            "text/plain": [
              "<matplotlib.figure.Figure at 0x7f75be541e48>"
            ]
          },
          "metadata": {
            "tags": []
          }
        }
      ]
    },
    {
      "metadata": {
        "id": "fU-p_L_ljrT2",
        "colab_type": "text"
      },
      "cell_type": "markdown",
      "source": [
        "# Initialize target label and the matrix for the adversarial attack"
      ]
    },
    {
      "metadata": {
        "id": "Q9THSdHibsfW",
        "colab_type": "code",
        "colab": {}
      },
      "cell_type": "code",
      "source": [
        "target_number = 6\n",
        "target_labels = np.zeros((10, 10))\n",
        "target_labels[:, target_number] = 1"
      ],
      "execution_count": 0,
      "outputs": []
    },
    {
      "metadata": {
        "id": "zE1pJabolpLV",
        "colab_type": "code",
        "colab": {
          "base_uri": "https://localhost:8080/",
          "height": 197
        },
        "outputId": "938cee33-a2e8-4374-ddf2-f4942347584d"
      },
      "cell_type": "code",
      "source": [
        "target_labels"
      ],
      "execution_count": 17,
      "outputs": [
        {
          "output_type": "execute_result",
          "data": {
            "text/plain": [
              "array([[0., 0., 0., 0., 0., 0., 1., 0., 0., 0.],\n",
              "       [0., 0., 0., 0., 0., 0., 1., 0., 0., 0.],\n",
              "       [0., 0., 0., 0., 0., 0., 1., 0., 0., 0.],\n",
              "       [0., 0., 0., 0., 0., 0., 1., 0., 0., 0.],\n",
              "       [0., 0., 0., 0., 0., 0., 1., 0., 0., 0.],\n",
              "       [0., 0., 0., 0., 0., 0., 1., 0., 0., 0.],\n",
              "       [0., 0., 0., 0., 0., 0., 1., 0., 0., 0.],\n",
              "       [0., 0., 0., 0., 0., 0., 1., 0., 0., 0.],\n",
              "       [0., 0., 0., 0., 0., 0., 1., 0., 0., 0.],\n",
              "       [0., 0., 0., 0., 0., 0., 1., 0., 0., 0.]])"
            ]
          },
          "metadata": {
            "tags": []
          },
          "execution_count": 17
        }
      ]
    },
    {
      "metadata": {
        "id": "ENCfPmuXj0B-",
        "colab_type": "text"
      },
      "cell_type": "markdown",
      "source": [
        "# Initialize gradient for Adversarial attack"
      ]
    },
    {
      "metadata": {
        "id": "vq-E2tp3cW6c",
        "colab_type": "code",
        "colab": {}
      },
      "cell_type": "code",
      "source": [
        "img_gradient = tf.gradients(cross_entropy, x)[0]"
      ],
      "execution_count": 0,
      "outputs": []
    },
    {
      "metadata": {
        "id": "eyhCF5TKj4UN",
        "colab_type": "text"
      },
      "cell_type": "markdown",
      "source": [
        "# Initialize value for step size and number of steps"
      ]
    },
    {
      "metadata": {
        "id": "HBvy_LF8cZtw",
        "colab_type": "code",
        "colab": {}
      },
      "cell_type": "code",
      "source": [
        "step_size = 0.01\n",
        "steps = 10"
      ],
      "execution_count": 0,
      "outputs": []
    },
    {
      "metadata": {
        "id": "dv7jPezsj-jI",
        "colab_type": "text"
      },
      "cell_type": "markdown",
      "source": [
        "# Calculate Image Gradient and run FGSM attack"
      ]
    },
    {
      "metadata": {
        "id": "v0yis9OBcbth",
        "colab_type": "code",
        "colab": {
          "base_uri": "https://localhost:8080/",
          "height": 953
        },
        "outputId": "c9b5cf89-209c-4a1b-90b2-57735aad707d"
      },
      "cell_type": "code",
      "source": [
        "adversarial_img = x_batch.copy()\n",
        "adv_img_hist = list()\n",
        "prob2_hist = list()\n",
        "prob6_hist = list()\n",
        "for i in range(0, steps):\n",
        "    gradient = img_gradient.eval({x: adversarial_img, y_: target_labels, keep_prob: 1.0})\n",
        "    adversarial_img = adversarial_img + step_size * np.sign(gradient)\n",
        "    adv_img_hist.append(adversarial_img)\n",
        "    prediction = tf.argmax(y,1)\n",
        "    prediction_val = prediction.eval(feed_dict={x: adversarial_img, keep_prob: 1.0}, session=sess)\n",
        "    print(\"predictions\", prediction_val)\n",
        "    probabilities = y\n",
        "    probabilities_val = probabilities.eval(feed_dict = {x: adversarial_img, keep_prob: 1.0}, session=sess)\n",
        "    print('Confidence 2:', probabilities_val[:, 2])\n",
        "    print('Confidence 6:', probabilities_val[:, 6])\n",
        "prob2_hist.append(probabilities_val[:,2])\n",
        "prob6_hist.append(probabilities_val[:,6])"
      ],
      "execution_count": 20,
      "outputs": [
        {
          "output_type": "stream",
          "text": [
            "predictions [2 2 2 2 2 2 2 2 2 2]\n",
            "Confidence 2: [0.9985557  0.9998172  0.8963791  0.9986613  0.99897563 0.99954385\n",
            " 0.97982055 0.99999964 0.99971837 0.9275274 ]\n",
            "Confidence 6: [2.4300229e-04 3.0895796e-07 2.5161207e-04 1.3950853e-04 2.0347600e-04\n",
            " 4.7626116e-08 2.1088012e-05 2.4103661e-09 1.6256938e-06 1.6687731e-03]\n",
            "predictions [2 2 2 2 2 2 2 2 2 2]\n",
            "Confidence 2: [0.9993519  0.9999163  0.93783146 0.99940073 0.99952424 0.99972075\n",
            " 0.9876716  0.9999999  0.9998554  0.96314937]\n",
            "Confidence 6: [5.0066636e-05 5.9283110e-08 5.6101977e-05 3.2264754e-05 4.7901878e-05\n",
            " 9.8577120e-09 5.1022316e-06 5.3665328e-10 3.1884201e-07 4.0689280e-04]\n",
            "predictions [2 2 2 2 2 2 2 2 2 2]\n",
            "Confidence 2: [0.99966955 0.999962   0.9639171  0.99971646 0.9997838  0.9998369\n",
            " 0.99332386 0.9999999  0.99992764 0.9787933 ]\n",
            "Confidence 6: [1.1195409e-05 1.1802582e-08 1.3122697e-05 7.8643898e-06 1.1596924e-05\n",
            " 2.1887969e-09 1.3538115e-06 1.3875505e-10 6.5334916e-08 1.0771635e-04]\n",
            "predictions [2 2 2 2 2 2 2 2 2 2]\n",
            "Confidence 2: [0.9998215  0.99998164 0.98093355 0.9998585  0.99988115 0.99990463\n",
            " 0.995613   1.         0.9999634  0.98948425]\n",
            "Confidence 6: [2.4466265e-06 2.5824978e-09 3.1605964e-06 1.9709257e-06 3.2733381e-06\n",
            " 5.4756566e-10 3.8170600e-07 3.5205106e-11 1.5475418e-08 2.6264868e-05]\n",
            "predictions [2 2 2 2 2 2 2 2 2 2]\n",
            "Confidence 2: [0.9998987  0.99999094 0.9885577  0.99992836 0.99993765 0.9999361\n",
            " 0.9973008  1.         0.99997866 0.9943184 ]\n",
            "Confidence 6: [5.7331681e-07 6.1532568e-10 8.5070229e-07 5.1699323e-07 9.1356281e-07\n",
            " 1.3829177e-10 1.1602682e-07 9.2105533e-12 4.0537631e-09 7.1605118e-06]\n",
            "predictions [2 2 2 2 2 2 2 2 2 2]\n",
            "Confidence 2: [0.99994254 0.9999951  0.99321556 0.9999615  0.9999671  0.99995637\n",
            " 0.9982134  1.         0.999987   0.99690115]\n",
            "Confidence 6: [1.4523532e-07 1.5291685e-10 2.3756668e-07 1.5145410e-07 2.4737491e-07\n",
            " 3.8550451e-11 3.6714102e-08 2.7507269e-12 1.1940769e-09 1.8919534e-06]\n",
            "predictions [2 2 2 2 2 2 2 2 2 2]\n",
            "Confidence 2: [0.99997103 0.9999975  0.99548715 0.9999778  0.9999838  0.9999682\n",
            " 0.998678   1.         0.9999918  0.9982949 ]\n",
            "Confidence 6: [3.49842537e-08 3.90131746e-11 7.21888682e-08 4.31134843e-08\n",
            " 6.81564387e-08 1.19293325e-11 1.23956720e-08 7.85889908e-13\n",
            " 3.94674238e-10 5.39389191e-07]\n",
            "predictions [2 2 2 2 2 2 2 2 2 2]\n",
            "Confidence 2: [0.9999833  0.99999857 0.9972224  0.99998736 0.9999918  0.9999794\n",
            " 0.99906605 1.         0.9999956  0.9990243 ]\n",
            "Confidence 6: [9.16326037e-09 9.68025486e-12 2.31025883e-08 1.18885115e-08\n",
            " 1.88444211e-08 3.38832911e-12 4.11356016e-09 2.36028590e-13\n",
            " 1.22666363e-10 1.76097728e-07]\n",
            "predictions [2 2 2 2 2 2 2 2 2 2]\n",
            "Confidence 2: [0.9999906  0.99999917 0.9982811  0.9999927  0.9999957  0.9999865\n",
            " 0.99935085 1.         0.9999976  0.99943346]\n",
            "Confidence 6: [2.2429887e-09 2.7032174e-12 7.2083215e-09 3.5564545e-09 5.7562746e-09\n",
            " 9.8908457e-13 1.3686410e-09 6.2371834e-14 3.7370051e-11 5.6615480e-08]\n",
            "predictions [2 2 2 2 2 2 2 2 2 2]\n",
            "Confidence 2: [0.9999951  0.99999964 0.99893326 0.99999607 0.99999785 0.9999912\n",
            " 0.99956805 1.         0.99999857 0.9996699 ]\n",
            "Confidence 6: [5.9904032e-10 7.5519040e-13 2.2928024e-09 1.0855924e-09 1.6850354e-09\n",
            " 3.0313282e-13 4.9199650e-10 1.8225549e-14 1.2415335e-11 1.9002337e-08]\n"
          ],
          "name": "stdout"
        }
      ]
    },
    {
      "metadata": {
        "id": "CimpPmUykKLv",
        "colab_type": "text"
      },
      "cell_type": "markdown",
      "source": [
        "# Plot Image grid of original image, adversarial image and noise"
      ]
    },
    {
      "metadata": {
        "id": "wM2_jS6jcm4e",
        "colab_type": "code",
        "colab": {
          "base_uri": "https://localhost:8080/",
          "height": 1089
        },
        "outputId": "ee1853b9-6e6f-4b60-c1ce-db95da0f78ad"
      },
      "cell_type": "code",
      "source": [
        "f, axarr = plt.subplots(10, 3, figsize=(5,15))\n",
        "import matplotlib as mpl\n",
        "mpl.rcParams['figure.dpi']= 250\n",
        "for i in range(10):\n",
        "    axarr[i,0].set_axis_off()\n",
        "    axarr[i,1].set_axis_off()\n",
        "    axarr[i,2].set_axis_off()\n",
        "    axarr[i,0].imshow(x_batch[i].reshape([28, 28]), cmap = \"gray\")\n",
        "    axarr[i,1].imshow((adv_img_hist[0][i] - x_batch[i]).reshape([28, 28]), cmap = \"gray\")\n",
        "    axarr[i,2].imshow((adv_img_hist[0][i]).reshape([28, 28]), cmap=\"gray\")\n",
        "    \n",
        "plt.tight_layout()\n",
        "plt.show()"
      ],
      "execution_count": 21,
      "outputs": [
        {
          "output_type": "display_data",
          "data": {
            "image/png": "[encoded data removed]",
            "text/plain": [
              "<matplotlib.figure.Figure at 0x7f75be519b70>"
            ]
          },
          "metadata": {
            "tags": []
          }
        }
      ]
    },
    {
      "metadata": {
        "id": "-21K5vqncp5N",
        "colab_type": "code",
        "colab": {}
      },
      "cell_type": "code",
      "source": [
        ""
      ],
      "execution_count": 0,
      "outputs": []
    }
  ]
}
