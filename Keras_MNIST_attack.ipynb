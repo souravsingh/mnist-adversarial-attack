{
  "nbformat": 4,
  "nbformat_minor": 0,
  "metadata": {
    "colab": {
      "name": "Keras-MNIST-attack.ipynb",
      "version": "0.3.2",
      "provenance": []
    },
    "kernelspec": {
      "name": "python3",
      "display_name": "Python 3"
    },
    "accelerator": "GPU"
  },
  "cells": [
    {
      "metadata": {
        "id": "hugFyyrh0kfy",
        "colab_type": "code",
        "colab": {
          "base_uri": "https://localhost:8080/",
          "height": 69
        },
        "outputId": "2660b44f-3e66-4fd4-a714-e7e333a2256e"
      },
      "cell_type": "code",
      "source": [
        "from keras.datasets import mnist\n",
        "(train_X,train_Y), (test_X,test_Y) = mnist.load_data()"
      ],
      "execution_count": 1,
      "outputs": [
        {
          "output_type": "stream",
          "text": [
            "Using TensorFlow backend.\n"
          ],
          "name": "stderr"
        },
        {
          "output_type": "stream",
          "text": [
            "Downloading data from https://s3.amazonaws.com/img-datasets/mnist.npz\n",
            "11493376/11490434 [==============================] - 0s 0us/step\n"
          ],
          "name": "stdout"
        }
      ]
    },
    {
      "metadata": {
        "id": "e0ZaFyzY0k7z",
        "colab_type": "code",
        "colab": {
          "base_uri": "https://localhost:8080/",
          "height": 52
        },
        "outputId": "f2be0519-906b-4d3f-fedb-947f65a880cf"
      },
      "cell_type": "code",
      "source": [
        "import numpy as np\n",
        "from keras.utils import to_categorical\n",
        "import matplotlib.pyplot as plt\n",
        "%matplotlib inline\n",
        "\n",
        "print('Training data shape : ', train_X.shape, train_Y.shape)\n",
        "\n",
        "print('Testing data shape : ', test_X.shape, test_Y.shape)"
      ],
      "execution_count": 2,
      "outputs": [
        {
          "output_type": "stream",
          "text": [
            "Training data shape :  (60000, 28, 28) (60000,)\n",
            "Testing data shape :  (10000, 28, 28) (10000,)\n"
          ],
          "name": "stdout"
        }
      ]
    },
    {
      "metadata": {
        "id": "5FYOcI5Z0r4g",
        "colab_type": "code",
        "colab": {
          "base_uri": "https://localhost:8080/",
          "height": 52
        },
        "outputId": "b8067b5e-d6d4-4ded-db1f-105af638896b"
      },
      "cell_type": "code",
      "source": [
        "classes = np.unique(train_Y)\n",
        "nClasses = len(classes)\n",
        "print('Total number of outputs : ', nClasses)\n",
        "print('Output classes : ', classes)"
      ],
      "execution_count": 3,
      "outputs": [
        {
          "output_type": "stream",
          "text": [
            "Total number of outputs :  10\n",
            "Output classes :  [0 1 2 3 4 5 6 7 8 9]\n"
          ],
          "name": "stdout"
        }
      ]
    },
    {
      "metadata": {
        "id": "rT-tWl1C0ssO",
        "colab_type": "code",
        "colab": {
          "base_uri": "https://localhost:8080/",
          "height": 207
        },
        "outputId": "4f89ea4a-4fb5-4734-a119-0757564887d5"
      },
      "cell_type": "code",
      "source": [
        "plt.figure(figsize=[5,5])\n",
        "\n",
        "# Display the first image in training data\n",
        "plt.subplot(121)\n",
        "plt.imshow(train_X[0,:,:], cmap='gray')\n",
        "plt.title(\"Ground Truth : {}\".format(train_Y[0]))\n",
        "\n",
        "# Display the first image in testing data\n",
        "plt.subplot(122)\n",
        "plt.imshow(test_X[0,:,:], cmap='gray')\n",
        "plt.title(\"Ground Truth : {}\".format(test_Y[0]))"
      ],
      "execution_count": 4,
      "outputs": [
        {
          "output_type": "execute_result",
          "data": {
            "text/plain": [
              "Text(0.5,1,'Ground Truth : 7')"
            ]
          },
          "metadata": {
            "tags": []
          },
          "execution_count": 4
        },
        {
          "output_type": "display_data",
          "data": {
            "image/png": "[encoded data removed]",
            "text/plain": [
              "<matplotlib.figure.Figure at 0x7f0943237e80>"
            ]
          },
          "metadata": {
            "tags": []
          }
        }
      ]
    },
    {
      "metadata": {
        "id": "IMzfaTZm0yan",
        "colab_type": "code",
        "colab": {
          "base_uri": "https://localhost:8080/",
          "height": 34
        },
        "outputId": "15e74236-1099-4160-eb9e-117c2d1e9d7e"
      },
      "cell_type": "code",
      "source": [
        "train_X = train_X.reshape(-1, 28,28, 1)\n",
        "test_X = test_X.reshape(-1, 28,28, 1)\n",
        "train_X.shape, test_X.shape"
      ],
      "execution_count": 5,
      "outputs": [
        {
          "output_type": "execute_result",
          "data": {
            "text/plain": [
              "((60000, 28, 28, 1), (10000, 28, 28, 1))"
            ]
          },
          "metadata": {
            "tags": []
          },
          "execution_count": 5
        }
      ]
    },
    {
      "metadata": {
        "id": "Wrv_yLvP03II",
        "colab_type": "code",
        "colab": {}
      },
      "cell_type": "code",
      "source": [
        "train_X = train_X.astype('float32')\n",
        "test_X = test_X.astype('float32')\n",
        "train_X = train_X / 255.\n",
        "test_X = test_X / 255."
      ],
      "execution_count": 0,
      "outputs": []
    },
    {
      "metadata": {
        "id": "rlBXyAiG04ug",
        "colab_type": "code",
        "colab": {
          "base_uri": "https://localhost:8080/",
          "height": 52
        },
        "outputId": "543d8ad8-6f0e-4e1e-edef-fd3f02a067da"
      },
      "cell_type": "code",
      "source": [
        "# Change the labels from categorical to one-hot encoding\n",
        "train_Y_one_hot = to_categorical(train_Y)\n",
        "test_Y_one_hot = to_categorical(test_Y)\n",
        "\n",
        "# Display the change for category label using one-hot encoding\n",
        "print('Original label:', train_Y[0])\n",
        "print('After conversion to one-hot:', train_Y_one_hot[0])"
      ],
      "execution_count": 7,
      "outputs": [
        {
          "output_type": "stream",
          "text": [
            "Original label: 5\n",
            "After conversion to one-hot: [0. 0. 0. 0. 0. 1. 0. 0. 0. 0.]\n"
          ],
          "name": "stdout"
        }
      ]
    },
    {
      "metadata": {
        "id": "2HsJaJYn0629",
        "colab_type": "code",
        "colab": {}
      },
      "cell_type": "code",
      "source": [
        "from sklearn.model_selection import train_test_split\n",
        "train_X,valid_X,train_label,valid_label = train_test_split(train_X, train_Y_one_hot, test_size=0.1, random_state=13)"
      ],
      "execution_count": 0,
      "outputs": []
    },
    {
      "metadata": {
        "id": "6fUfN3XI0_E9",
        "colab_type": "code",
        "colab": {
          "base_uri": "https://localhost:8080/",
          "height": 34
        },
        "outputId": "96321019-9a18-46b2-bd4e-022bd3ad754f"
      },
      "cell_type": "code",
      "source": [
        "train_X.shape,valid_X.shape,train_label.shape,valid_label.shape"
      ],
      "execution_count": 9,
      "outputs": [
        {
          "output_type": "execute_result",
          "data": {
            "text/plain": [
              "((54000, 28, 28, 1), (6000, 28, 28, 1), (54000, 10), (6000, 10))"
            ]
          },
          "metadata": {
            "tags": []
          },
          "execution_count": 9
        }
      ]
    },
    {
      "metadata": {
        "id": "ZmSVIpBi1B1_",
        "colab_type": "code",
        "colab": {}
      },
      "cell_type": "code",
      "source": [
        "import keras\n",
        "from keras.models import Sequential,Input,Model\n",
        "from keras.layers import Dense, Dropout, Flatten\n",
        "from keras.layers import Conv2D, MaxPooling2D\n",
        "from keras.layers.normalization import BatchNormalization\n",
        "from keras.layers.advanced_activations import LeakyReLU"
      ],
      "execution_count": 0,
      "outputs": []
    },
    {
      "metadata": {
        "id": "PsDZlOm-1Eq8",
        "colab_type": "code",
        "colab": {}
      },
      "cell_type": "code",
      "source": [
        "batch_size = 64\n",
        "epochs = 20\n",
        "num_classes = 10"
      ],
      "execution_count": 0,
      "outputs": []
    },
    {
      "metadata": {
        "id": "_3BlkhUu1Gef",
        "colab_type": "code",
        "colab": {}
      },
      "cell_type": "code",
      "source": [
        "mnist_model = Sequential()\n",
        "mnist_model.add(Conv2D(32, kernel_size=(3, 3),activation='linear',padding='same',input_shape=(28,28,1)))\n",
        "mnist_model.add(MaxPooling2D((2, 2),padding='same'))\n",
        "mnist_model.add(Conv2D(64, (3, 3), activation='linear',padding='same'))\n",
        "mnist_model.add(MaxPooling2D(pool_size=(2, 2),padding='same'))\n",
        "mnist_model.add(Flatten())\n",
        "mnist_model.add(Dense(128, activation='linear'))\n",
        "mnist_model.add(Dense(num_classes, activation='softmax'))"
      ],
      "execution_count": 0,
      "outputs": []
    },
    {
      "metadata": {
        "id": "C9Yo4XVx1IfX",
        "colab_type": "code",
        "colab": {}
      },
      "cell_type": "code",
      "source": [
        "mnist_model.compile(loss=keras.losses.categorical_crossentropy, optimizer=keras.optimizers.Adam(),metrics=['accuracy'])"
      ],
      "execution_count": 0,
      "outputs": []
    },
    {
      "metadata": {
        "id": "z-4hxAT21LZN",
        "colab_type": "code",
        "colab": {
          "base_uri": "https://localhost:8080/",
          "height": 382
        },
        "outputId": "e01fac3a-ba93-4fb3-c544-d20724fd5bcc"
      },
      "cell_type": "code",
      "source": [
        "mnist_model.summary()"
      ],
      "execution_count": 14,
      "outputs": [
        {
          "output_type": "stream",
          "text": [
            "_________________________________________________________________\n",
            "Layer (type)                 Output Shape              Param #   \n",
            "=================================================================\n",
            "conv2d_1 (Conv2D)            (None, 28, 28, 32)        320       \n",
            "_________________________________________________________________\n",
            "max_pooling2d_1 (MaxPooling2 (None, 14, 14, 32)        0         \n",
            "_________________________________________________________________\n",
            "conv2d_2 (Conv2D)            (None, 14, 14, 64)        18496     \n",
            "_________________________________________________________________\n",
            "max_pooling2d_2 (MaxPooling2 (None, 7, 7, 64)          0         \n",
            "_________________________________________________________________\n",
            "flatten_1 (Flatten)          (None, 3136)              0         \n",
            "_________________________________________________________________\n",
            "dense_1 (Dense)              (None, 128)               401536    \n",
            "_________________________________________________________________\n",
            "dense_2 (Dense)              (None, 10)                1290      \n",
            "=================================================================\n",
            "Total params: 421,642\n",
            "Trainable params: 421,642\n",
            "Non-trainable params: 0\n",
            "_________________________________________________________________\n"
          ],
          "name": "stdout"
        }
      ]
    },
    {
      "metadata": {
        "id": "eqyvjuss1NOF",
        "colab_type": "code",
        "colab": {
          "base_uri": "https://localhost:8080/",
          "height": 729
        },
        "outputId": "50050b77-96d5-400d-9640-05c7407ebe6e"
      },
      "cell_type": "code",
      "source": [
        "mnist_train = mnist_model.fit(train_X, train_label, batch_size=batch_size,epochs=epochs,verbose=1,validation_data=(valid_X, valid_label))"
      ],
      "execution_count": 15,
      "outputs": [
        {
          "output_type": "stream",
          "text": [
            "Train on 54000 samples, validate on 6000 samples\n",
            "Epoch 1/20\n",
            "54000/54000 [==============================] - 12s 230us/step - loss: 0.1535 - acc: 0.9534 - val_loss: 0.0677 - val_acc: 0.9797\n",
            "Epoch 2/20\n",
            "54000/54000 [==============================] - 11s 195us/step - loss: 0.0608 - acc: 0.9812 - val_loss: 0.0610 - val_acc: 0.9798\n",
            "Epoch 3/20\n",
            "54000/54000 [==============================] - 11s 199us/step - loss: 0.0491 - acc: 0.9844 - val_loss: 0.0479 - val_acc: 0.9842\n",
            "Epoch 4/20\n",
            "54000/54000 [==============================] - 11s 197us/step - loss: 0.0393 - acc: 0.9873 - val_loss: 0.0491 - val_acc: 0.9847\n",
            "Epoch 5/20\n",
            "54000/54000 [==============================] - 10s 192us/step - loss: 0.0314 - acc: 0.9898 - val_loss: 0.0586 - val_acc: 0.9822\n",
            "Epoch 6/20\n",
            "54000/54000 [==============================] - 10s 181us/step - loss: 0.0296 - acc: 0.9902 - val_loss: 0.0542 - val_acc: 0.9837\n",
            "Epoch 7/20\n",
            "54000/54000 [==============================] - 10s 178us/step - loss: 0.0255 - acc: 0.9922 - val_loss: 0.0491 - val_acc: 0.9865\n",
            "Epoch 8/20\n",
            "54000/54000 [==============================] - 10s 177us/step - loss: 0.0224 - acc: 0.9927 - val_loss: 0.0598 - val_acc: 0.9838\n",
            "Epoch 9/20\n",
            "54000/54000 [==============================] - 10s 191us/step - loss: 0.0187 - acc: 0.9939 - val_loss: 0.0652 - val_acc: 0.9862\n",
            "Epoch 10/20\n",
            "54000/54000 [==============================] - 10s 194us/step - loss: 0.0189 - acc: 0.9939 - val_loss: 0.0576 - val_acc: 0.9862\n",
            "Epoch 11/20\n",
            "54000/54000 [==============================] - 10s 189us/step - loss: 0.0163 - acc: 0.9946 - val_loss: 0.0657 - val_acc: 0.9838\n",
            "Epoch 12/20\n",
            "54000/54000 [==============================] - 10s 190us/step - loss: 0.0127 - acc: 0.9959 - val_loss: 0.0733 - val_acc: 0.9838\n",
            "Epoch 13/20\n",
            "54000/54000 [==============================] - 10s 192us/step - loss: 0.0168 - acc: 0.9949 - val_loss: 0.0934 - val_acc: 0.9795\n",
            "Epoch 14/20\n",
            "54000/54000 [==============================] - 10s 193us/step - loss: 0.0127 - acc: 0.9960 - val_loss: 0.0748 - val_acc: 0.9848\n",
            "Epoch 15/20\n",
            "54000/54000 [==============================] - 10s 190us/step - loss: 0.0160 - acc: 0.9945 - val_loss: 0.0744 - val_acc: 0.9862\n",
            "Epoch 16/20\n",
            "54000/54000 [==============================] - 10s 190us/step - loss: 0.0122 - acc: 0.9959 - val_loss: 0.0969 - val_acc: 0.9817\n",
            "Epoch 17/20\n",
            "54000/54000 [==============================] - 10s 193us/step - loss: 0.0138 - acc: 0.9959 - val_loss: 0.0739 - val_acc: 0.9880\n",
            "Epoch 18/20\n",
            "54000/54000 [==============================] - 10s 189us/step - loss: 0.0082 - acc: 0.9974 - val_loss: 0.0903 - val_acc: 0.9847\n",
            "Epoch 19/20\n",
            "54000/54000 [==============================] - 10s 185us/step - loss: 0.0138 - acc: 0.9958 - val_loss: 0.0876 - val_acc: 0.9842\n",
            "Epoch 20/20\n",
            "54000/54000 [==============================] - 10s 179us/step - loss: 0.0116 - acc: 0.9967 - val_loss: 0.0916 - val_acc: 0.9845\n"
          ],
          "name": "stdout"
        }
      ]
    },
    {
      "metadata": {
        "id": "UFWCTbqV1P36",
        "colab_type": "code",
        "colab": {}
      },
      "cell_type": "code",
      "source": [
        "test_eval = mnist_model.evaluate(test_X, test_Y_one_hot, verbose=0)"
      ],
      "execution_count": 0,
      "outputs": []
    },
    {
      "metadata": {
        "id": "q8OFINd61Twf",
        "colab_type": "code",
        "colab": {
          "base_uri": "https://localhost:8080/",
          "height": 52
        },
        "outputId": "26bb54cd-1678-48ec-c9e9-d28a8a47a0f0"
      },
      "cell_type": "code",
      "source": [
        "print('Test loss:', test_eval[0])\n",
        "print('Test accuracy:', test_eval[1])"
      ],
      "execution_count": 17,
      "outputs": [
        {
          "output_type": "stream",
          "text": [
            "Test loss: 0.0871501913528613\n",
            "Test accuracy: 0.9864\n"
          ],
          "name": "stdout"
        }
      ]
    },
    {
      "metadata": {
        "id": "fvS3zyg71V34",
        "colab_type": "code",
        "colab": {
          "base_uri": "https://localhost:8080/",
          "height": 543
        },
        "outputId": "2c8b8e5f-7f92-43e1-d2ed-11002a9c5f7b"
      },
      "cell_type": "code",
      "source": [
        "accuracy = mnist_train.history['acc']\n",
        "val_accuracy = mnist_train.history['val_acc']\n",
        "loss = mnist_train.history['loss']\n",
        "val_loss = mnist_train.history['val_loss']\n",
        "epochs = range(len(accuracy))\n",
        "plt.plot(epochs, accuracy, 'bo', label='Training accuracy')\n",
        "plt.plot(epochs, val_accuracy, 'b', label='Validation accuracy')\n",
        "plt.title('Training and validation accuracy')\n",
        "plt.legend()\n",
        "plt.figure()\n",
        "plt.plot(epochs, loss, 'bo', label='Training loss')\n",
        "plt.plot(epochs, val_loss, 'b', label='Validation loss')\n",
        "plt.title('Training and validation loss')\n",
        "plt.legend()\n",
        "plt.show()"
      ],
      "execution_count": 18,
      "outputs": [
        {
          "output_type": "display_data",
          "data": {
            "image/png": "[encoded data removed]",
            "text/plain": [
              "<matplotlib.figure.Figure at 0x7f093e523390>"
            ]
          },
          "metadata": {
            "tags": []
          }
        },
        {
          "output_type": "display_data",
          "data": {
            "image/png": "[encoded data removed]",
            "text/plain": [
              "<matplotlib.figure.Figure at 0x7f0933ae1a58>"
            ]
          },
          "metadata": {
            "tags": []
          }
        }
      ]
    },
    {
      "metadata": {
        "id": "T-M5yiTJ2NbK",
        "colab_type": "code",
        "colab": {}
      },
      "cell_type": "code",
      "source": [
        "predicted_classes = mnist_model.predict(test_X)"
      ],
      "execution_count": 0,
      "outputs": []
    },
    {
      "metadata": {
        "id": "MBkc-6YQ2Rl5",
        "colab_type": "code",
        "colab": {}
      },
      "cell_type": "code",
      "source": [
        "predicted_classes = np.argmax(np.round(predicted_classes),axis=1)"
      ],
      "execution_count": 0,
      "outputs": []
    },
    {
      "metadata": {
        "id": "ieHRkRrx2Tnz",
        "colab_type": "code",
        "colab": {
          "base_uri": "https://localhost:8080/",
          "height": 314
        },
        "outputId": "e80d4c6c-db08-4f24-c0d9-addee689a19a"
      },
      "cell_type": "code",
      "source": [
        "correct = np.where(predicted_classes==test_Y)[0]\n",
        "print(\"Found %d correct labels\" % len(correct))\n",
        "for i, correct in enumerate(correct[:9]):\n",
        "    plt.subplot(3,3,i+1)\n",
        "    plt.imshow(test_X[correct].reshape(28,28), cmap='gray', interpolation='none')\n",
        "    plt.title(\"Predicted {}, Class {}\".format(predicted_classes[correct], test_Y[correct]))\n",
        "    plt.tight_layout()"
      ],
      "execution_count": 21,
      "outputs": [
        {
          "output_type": "stream",
          "text": [
            "Found 9864 correct labels\n"
          ],
          "name": "stdout"
        },
        {
          "output_type": "display_data",
          "data": {
            "image/png": "[encoded data removed]",
            "text/plain": [
              "<matplotlib.figure.Figure at 0x7f0932d1ec18>"
            ]
          },
          "metadata": {
            "tags": []
          }
        }
      ]
    },
    {
      "metadata": {
        "id": "IYTBXrbr2WF-",
        "colab_type": "code",
        "colab": {
          "base_uri": "https://localhost:8080/",
          "height": 314
        },
        "outputId": "fadd3537-d896-4463-b3e6-771fe12c1ad2"
      },
      "cell_type": "code",
      "source": [
        "incorrect = np.where(predicted_classes!=test_Y)[0]\n",
        "print(\"Found %d incorrect labels\" % len(incorrect))\n",
        "for i, incorrect in enumerate(incorrect[:9]):\n",
        "    plt.subplot(3,3,i+1)\n",
        "    plt.imshow(test_X[incorrect].reshape(28,28), cmap='gray', interpolation='none')\n",
        "    plt.title(\"Predicted {}, Class {}\".format(predicted_classes[incorrect], test_Y[incorrect]))\n",
        "    plt.tight_layout()"
      ],
      "execution_count": 22,
      "outputs": [
        {
          "output_type": "stream",
          "text": [
            "Found 136 incorrect labels\n"
          ],
          "name": "stdout"
        },
        {
          "output_type": "display_data",
          "data": {
            "image/png": "[encoded data removed]",
            "text/plain": [
              "<matplotlib.figure.Figure at 0x7f093fb02f98>"
            ]
          },
          "metadata": {
            "tags": []
          }
        }
      ]
    },
    {
      "metadata": {
        "id": "aHoR673y2eqp",
        "colab_type": "code",
        "colab": {
          "base_uri": "https://localhost:8080/",
          "height": 278
        },
        "outputId": "e8a6f4a7-4e74-4ece-d60e-74956f11cb6b"
      },
      "cell_type": "code",
      "source": [
        "from sklearn.metrics import classification_report\n",
        "target_names = [\"Class {}\".format(i) for i in range(num_classes)]\n",
        "print(classification_report(test_Y, predicted_classes, target_names=target_names))"
      ],
      "execution_count": 23,
      "outputs": [
        {
          "output_type": "stream",
          "text": [
            "             precision    recall  f1-score   support\n",
            "\n",
            "    Class 0       0.98      0.99      0.99       980\n",
            "    Class 1       0.99      0.99      0.99      1135\n",
            "    Class 2       0.98      0.99      0.99      1032\n",
            "    Class 3       0.99      0.99      0.99      1010\n",
            "    Class 4       0.98      0.98      0.98       982\n",
            "    Class 5       0.98      0.99      0.98       892\n",
            "    Class 6       0.99      0.98      0.98       958\n",
            "    Class 7       0.99      0.98      0.98      1028\n",
            "    Class 8       0.99      0.98      0.99       974\n",
            "    Class 9       0.98      0.98      0.98      1009\n",
            "\n",
            "avg / total       0.99      0.99      0.99     10000\n",
            "\n"
          ],
          "name": "stdout"
        }
      ]
    },
    {
      "metadata": {
        "id": "YIRTIkXN2i2k",
        "colab_type": "code",
        "colab": {
          "base_uri": "https://localhost:8080/",
          "height": 52
        },
        "outputId": "80ff30e7-ab6c-45f1-aa66-e2e10fa8cf93"
      },
      "cell_type": "code",
      "source": [
        "index_mask = np.where(test_Y_one_hot[:, 2])[0]\n",
        "print(index_mask)\n",
        "subset_mask = np.random.choice(index_mask, 10)\n",
        "print(subset_mask)"
      ],
      "execution_count": 24,
      "outputs": [
        {
          "output_type": "stream",
          "text": [
            "[   1   35   38 ... 9980 9985 9995]\n",
            "[2439 4401 3212 4905 6281 5863 3577 9696 7364 3796]\n"
          ],
          "name": "stdout"
        }
      ]
    },
    {
      "metadata": {
        "id": "tHsW94P_2w7a",
        "colab_type": "code",
        "colab": {
          "base_uri": "https://localhost:8080/",
          "height": 191
        },
        "outputId": "f3c5464e-517d-400e-fe98-4584b0046629"
      },
      "cell_type": "code",
      "source": [
        "original_images = test_X[subset_mask]\n",
        "original_labels = test_Y_one_hot[subset_mask]\n",
        "original_labels"
      ],
      "execution_count": 25,
      "outputs": [
        {
          "output_type": "execute_result",
          "data": {
            "text/plain": [
              "array([[0., 0., 1., 0., 0., 0., 0., 0., 0., 0.],\n",
              "       [0., 0., 1., 0., 0., 0., 0., 0., 0., 0.],\n",
              "       [0., 0., 1., 0., 0., 0., 0., 0., 0., 0.],\n",
              "       [0., 0., 1., 0., 0., 0., 0., 0., 0., 0.],\n",
              "       [0., 0., 1., 0., 0., 0., 0., 0., 0., 0.],\n",
              "       [0., 0., 1., 0., 0., 0., 0., 0., 0., 0.],\n",
              "       [0., 0., 1., 0., 0., 0., 0., 0., 0., 0.],\n",
              "       [0., 0., 1., 0., 0., 0., 0., 0., 0., 0.],\n",
              "       [0., 0., 1., 0., 0., 0., 0., 0., 0., 0.],\n",
              "       [0., 0., 1., 0., 0., 0., 0., 0., 0., 0.]], dtype=float32)"
            ]
          },
          "metadata": {
            "tags": []
          },
          "execution_count": 25
        }
      ]
    },
    {
      "metadata": {
        "id": "T4GX_lLv3jMg",
        "colab_type": "code",
        "colab": {}
      },
      "cell_type": "code",
      "source": [
        "predicted_2 = mnist_model.predict(original_images)"
      ],
      "execution_count": 0,
      "outputs": []
    },
    {
      "metadata": {
        "id": "sdj6Sh_j3wQW",
        "colab_type": "code",
        "colab": {
          "base_uri": "https://localhost:8080/",
          "height": 34
        },
        "outputId": "d0228be9-9c7b-4bf2-e1be-bc846eb85de4"
      },
      "cell_type": "code",
      "source": [
        "prediction_val = np.argmax(np.round(predicted_2),axis=1)\n",
        "print(\"predictions\", prediction_val)"
      ],
      "execution_count": 27,
      "outputs": [
        {
          "output_type": "stream",
          "text": [
            "predictions [2 2 2 2 2 2 2 2 2 2]\n"
          ],
          "name": "stdout"
        }
      ]
    },
    {
      "metadata": {
        "id": "Smf1ws_v3K0R",
        "colab_type": "code",
        "colab": {
          "base_uri": "https://localhost:8080/",
          "height": 538
        },
        "outputId": "92127c29-2b4b-4097-bab7-9d7b282145f1"
      },
      "cell_type": "code",
      "source": [
        "probabilities_val = mnist_model.predict_proba(original_images)\n",
        "print (\"probabilities\", probabilities_val)"
      ],
      "execution_count": 28,
      "outputs": [
        {
          "output_type": "stream",
          "text": [
            "probabilities [[3.35826828e-23 9.69292090e-24 1.00000000e+00 3.52342582e-15\n",
            "  9.16371508e-38 6.09086444e-36 5.50827096e-27 6.79829221e-23\n",
            "  6.41715059e-23 1.32670212e-29]\n",
            " [2.63784238e-11 2.99193425e-16 1.00000000e+00 3.22977201e-10\n",
            "  1.92481666e-23 1.57547485e-20 2.41117873e-22 1.38025344e-12\n",
            "  1.94770328e-11 4.55642804e-18]\n",
            " [1.37117111e-32 2.71296001e-28 1.00000000e+00 3.38806805e-24\n",
            "  3.74046247e-24 0.00000000e+00 2.48254287e-36 9.05021462e-24\n",
            "  2.33120230e-26 1.57437670e-26]\n",
            " [1.40042275e-20 6.29860373e-23 1.00000000e+00 4.16536155e-16\n",
            "  6.74422178e-33 6.30842727e-34 5.37654643e-35 1.34294560e-21\n",
            "  3.92450561e-16 1.38766464e-21]\n",
            " [4.14426678e-38 3.38974091e-21 1.00000000e+00 1.31437353e-17\n",
            "  4.69860116e-21 2.42245722e-27 3.66767331e-36 4.20675916e-20\n",
            "  1.76494100e-26 1.35239466e-21]\n",
            " [3.66899720e-24 1.43600832e-20 1.00000000e+00 3.17407602e-25\n",
            "  0.00000000e+00 7.89351287e-35 2.50171604e-30 2.58446317e-27\n",
            "  1.28270096e-19 8.04094798e-34]\n",
            " [4.38680429e-12 6.70023948e-19 1.00000000e+00 6.05569794e-13\n",
            "  4.85144687e-30 3.76249558e-27 6.97816579e-17 1.80457684e-19\n",
            "  1.55587515e-10 6.22259339e-21]\n",
            " [1.69972073e-22 2.33411356e-05 9.99976635e-01 6.16526822e-14\n",
            "  5.30107256e-26 3.64727256e-29 1.58197151e-21 4.51800894e-15\n",
            "  1.16699234e-15 7.57329484e-28]\n",
            " [3.05870279e-33 1.38339394e-21 1.00000000e+00 2.88336390e-12\n",
            "  9.05961892e-22 8.00552203e-30 1.00045886e-28 9.75860964e-20\n",
            "  4.39412693e-18 5.70480233e-26]\n",
            " [1.97654559e-09 1.07467940e-07 9.99996901e-01 1.82539858e-10\n",
            "  4.98764008e-19 1.13031977e-18 7.04015974e-14 1.48401517e-11\n",
            "  2.96504368e-06 2.02072466e-14]]\n"
          ],
          "name": "stdout"
        }
      ]
    },
    {
      "metadata": {
        "id": "gWCiyIGd4BD5",
        "colab_type": "code",
        "colab": {
          "base_uri": "https://localhost:8080/",
          "height": 1958
        },
        "outputId": "a895dc5e-62ec-45a6-bf99-db35ef2ea797"
      },
      "cell_type": "code",
      "source": [
        "for i in range(0, 10):\n",
        "    print('Correct label', np.argmax(original_labels[i]))\n",
        "    print('Predicted label:', prediction_val[i])\n",
        "    print('Confidence:', np.max(probabilities_val[i]))\n",
        "    plt.figure(figsize=(2, 2))\n",
        "    plt.axis('off')\n",
        "    plt.imshow(original_images[i].reshape([28, 28]),cmap = \"gray\")\n",
        "    plt.show()"
      ],
      "execution_count": 29,
      "outputs": [
        {
          "output_type": "stream",
          "text": [
            "Correct label 2\n",
            "Predicted label: 2\n",
            "Confidence: 1.0\n"
          ],
          "name": "stdout"
        },
        {
          "output_type": "display_data",
          "data": {
            "image/png": "[encoded data removed]",
            "text/plain": [
              "<matplotlib.figure.Figure at 0x7f09323f8c50>"
            ]
          },
          "metadata": {
            "tags": []
          }
        },
        {
          "output_type": "stream",
          "text": [
            "Correct label 2\n",
            "Predicted label: 2\n",
            "Confidence: 1.0\n"
          ],
          "name": "stdout"
        },
        {
          "output_type": "display_data",
          "data": {
            "image/png": "[encoded data removed]",
            "text/plain": [
              "<matplotlib.figure.Figure at 0x7f093264fc88>"
            ]
          },
          "metadata": {
            "tags": []
          }
        },
        {
          "output_type": "stream",
          "text": [
            "Correct label 2\n",
            "Predicted label: 2\n",
            "Confidence: 1.0\n"
          ],
          "name": "stdout"
        },
        {
          "output_type": "display_data",
          "data": {
            "image/png": "[encoded data removed]",
            "text/plain": [
              "<matplotlib.figure.Figure at 0x7f09322c38d0>"
            ]
          },
          "metadata": {
            "tags": []
          }
        },
        {
          "output_type": "stream",
          "text": [
            "Correct label 2\n",
            "Predicted label: 2\n",
            "Confidence: 1.0\n"
          ],
          "name": "stdout"
        },
        {
          "output_type": "display_data",
          "data": {
            "image/png": "[encoded data removed]",
            "text/plain": [
              "<matplotlib.figure.Figure at 0x7f0939d122e8>"
            ]
          },
          "metadata": {
            "tags": []
          }
        },
        {
          "output_type": "stream",
          "text": [
            "Correct label 2\n",
            "Predicted label: 2\n",
            "Confidence: 1.0\n"
          ],
          "name": "stdout"
        },
        {
          "output_type": "display_data",
          "data": {
            "image/png": "[encoded data removed]",
            "text/plain": [
              "<matplotlib.figure.Figure at 0x7f0932659cf8>"
            ]
          },
          "metadata": {
            "tags": []
          }
        },
        {
          "output_type": "stream",
          "text": [
            "Correct label 2\n",
            "Predicted label: 2\n",
            "Confidence: 1.0\n"
          ],
          "name": "stdout"
        },
        {
          "output_type": "display_data",
          "data": {
            "image/png": "[encoded data removed]",
            "text/plain": [
              "<matplotlib.figure.Figure at 0x7f0932667128>"
            ]
          },
          "metadata": {
            "tags": []
          }
        },
        {
          "output_type": "stream",
          "text": [
            "Correct label 2\n",
            "Predicted label: 2\n",
            "Confidence: 1.0\n"
          ],
          "name": "stdout"
        },
        {
          "output_type": "display_data",
          "data": {
            "image/png": "[encoded data removed]",
            "text/plain": [
              "<matplotlib.figure.Figure at 0x7f0932463208>"
            ]
          },
          "metadata": {
            "tags": []
          }
        },
        {
          "output_type": "stream",
          "text": [
            "Correct label 2\n",
            "Predicted label: 2\n",
            "Confidence: 0.99997663\n"
          ],
          "name": "stdout"
        },
        {
          "output_type": "display_data",
          "data": {
            "image/png": "[encoded data removed]",
            "text/plain": [
              "<matplotlib.figure.Figure at 0x7f0932440518>"
            ]
          },
          "metadata": {
            "tags": []
          }
        },
        {
          "output_type": "stream",
          "text": [
            "Correct label 2\n",
            "Predicted label: 2\n",
            "Confidence: 1.0\n"
          ],
          "name": "stdout"
        },
        {
          "output_type": "display_data",
          "data": {
            "image/png": "[encoded data removed]",
            "text/plain": [
              "<matplotlib.figure.Figure at 0x7f093e527f28>"
            ]
          },
          "metadata": {
            "tags": []
          }
        },
        {
          "output_type": "stream",
          "text": [
            "Correct label 2\n",
            "Predicted label: 2\n",
            "Confidence: 0.9999969\n"
          ],
          "name": "stdout"
        },
        {
          "output_type": "display_data",
          "data": {
            "image/png": "[encoded data removed]",
            "text/plain": [
              "<matplotlib.figure.Figure at 0x7f0939d155f8>"
            ]
          },
          "metadata": {
            "tags": []
          }
        }
      ]
    },
    {
      "metadata": {
        "id": "G_KVTGO9LDvD",
        "colab_type": "code",
        "colab": {}
      },
      "cell_type": "code",
      "source": [
        "target_number = 6\n",
        "target_labels = np.zeros(original_labels.shape)\n",
        "target_labels[:, target_number] = 1"
      ],
      "execution_count": 0,
      "outputs": []
    },
    {
      "metadata": {
        "id": "OBXP5P0GLGgb",
        "colab_type": "code",
        "colab": {
          "base_uri": "https://localhost:8080/",
          "height": 191
        },
        "outputId": "6e8a35dd-45e8-4b28-d23e-853201df70e5"
      },
      "cell_type": "code",
      "source": [
        "target_labels"
      ],
      "execution_count": 31,
      "outputs": [
        {
          "output_type": "execute_result",
          "data": {
            "text/plain": [
              "array([[0., 0., 0., 0., 0., 0., 1., 0., 0., 0.],\n",
              "       [0., 0., 0., 0., 0., 0., 1., 0., 0., 0.],\n",
              "       [0., 0., 0., 0., 0., 0., 1., 0., 0., 0.],\n",
              "       [0., 0., 0., 0., 0., 0., 1., 0., 0., 0.],\n",
              "       [0., 0., 0., 0., 0., 0., 1., 0., 0., 0.],\n",
              "       [0., 0., 0., 0., 0., 0., 1., 0., 0., 0.],\n",
              "       [0., 0., 0., 0., 0., 0., 1., 0., 0., 0.],\n",
              "       [0., 0., 0., 0., 0., 0., 1., 0., 0., 0.],\n",
              "       [0., 0., 0., 0., 0., 0., 1., 0., 0., 0.],\n",
              "       [0., 0., 0., 0., 0., 0., 1., 0., 0., 0.]])"
            ]
          },
          "metadata": {
            "tags": []
          },
          "execution_count": 31
        }
      ]
    },
    {
      "metadata": {
        "id": "2Mz7NaIX8lmU",
        "colab_type": "code",
        "colab": {}
      },
      "cell_type": "code",
      "source": [
        "adversarial_images = original_images.copy()"
      ],
      "execution_count": 0,
      "outputs": []
    },
    {
      "metadata": {
        "id": "QgGbdkXVLHVD",
        "colab_type": "code",
        "colab": {}
      },
      "cell_type": "code",
      "source": [
        "from keras import backend as K\n",
        "\n",
        "gradients = K.gradients(loss, mnist_model.input)"
      ],
      "execution_count": 0,
      "outputs": []
    },
    {
      "metadata": {
        "id": "5pVrVzLIGxrC",
        "colab_type": "code",
        "colab": {
          "base_uri": "https://localhost:8080/",
          "height": 538
        },
        "outputId": "9e7272da-1ed3-4723-d73a-eabb867d14e2"
      },
      "cell_type": "code",
      "source": [
        "adv_img_hist = list()\n",
        "prob2_hist = list()\n",
        "prob6_hist = list()\n",
        "\n",
        "for i in range(10):\n",
        "  target = to_categorical(target_number)\n",
        "  target_variable = K.variable(target)\n",
        "  loss = keras.metrics.categorical_crossentropy(mnist_model.input, target_variable)\n",
        "  gradients = K.gradients(loss, mnist_model.input)\n",
        "  get_grad_values = K.function([mnist_model.input], gradients)\n",
        "  grad_values = get_grad_values([adversarial_images])[0]\n",
        "  adversarial_images = adversarial_images + 0.5 * np.sign(grad_values)\n",
        "  adversarial_images = np.clip(adversarial_images, a_min=0, a_max=1)\n",
        "  adv_img_hist.append(adversarial_images)\n",
        "  prediction = mnist_model.predict(adversarial_images)\n",
        "  print(\"predictions\", prediction_val)\n",
        "  probs = mnist_model.predict_proba(adversarial_images)\n",
        "  print('Confidence 2:', np.max(probs[:, 2]))\n",
        "  print('Confidence 6:', np.max(probs[:, 6]))\n",
        "prob2_hist.append(probs[:,2])\n",
        "prob6_hist.append(probs[:,6])"
      ],
      "execution_count": 61,
      "outputs": [
        {
          "output_type": "stream",
          "text": [
            "predictions [2 2 2 2 2 2 2 2 2 2]\n",
            "Confidence 2: 1.3540596e-32\n",
            "Confidence 6: 1.4071229e-11\n",
            "predictions [2 2 2 2 2 2 2 2 2 2]\n",
            "Confidence 2: 1.3540596e-32\n",
            "Confidence 6: 1.4071229e-11\n",
            "predictions [2 2 2 2 2 2 2 2 2 2]\n",
            "Confidence 2: 1.3540596e-32\n",
            "Confidence 6: 1.4071229e-11\n",
            "predictions [2 2 2 2 2 2 2 2 2 2]\n",
            "Confidence 2: 1.3540596e-32\n",
            "Confidence 6: 1.4071229e-11\n",
            "predictions [2 2 2 2 2 2 2 2 2 2]\n",
            "Confidence 2: 1.3540596e-32\n",
            "Confidence 6: 1.4071229e-11\n",
            "predictions [2 2 2 2 2 2 2 2 2 2]\n",
            "Confidence 2: 1.3540596e-32\n",
            "Confidence 6: 1.4071229e-11\n",
            "predictions [2 2 2 2 2 2 2 2 2 2]\n",
            "Confidence 2: 1.3540596e-32\n",
            "Confidence 6: 1.4071229e-11\n",
            "predictions [2 2 2 2 2 2 2 2 2 2]\n",
            "Confidence 2: 1.3540596e-32\n",
            "Confidence 6: 1.4071229e-11\n",
            "predictions [2 2 2 2 2 2 2 2 2 2]\n",
            "Confidence 2: 1.3540596e-32\n",
            "Confidence 6: 1.4071229e-11\n",
            "predictions [2 2 2 2 2 2 2 2 2 2]\n",
            "Confidence 2: 1.3540596e-32\n",
            "Confidence 6: 1.4071229e-11\n"
          ],
          "name": "stdout"
        }
      ]
    },
    {
      "metadata": {
        "id": "ognqPgEGtbZJ",
        "colab_type": "code",
        "colab": {
          "base_uri": "https://localhost:8080/",
          "height": 3761
        },
        "outputId": "7fa03258-9c45-48b7-8159-59fb95e15ce4"
      },
      "cell_type": "code",
      "source": [
        "f, axarr = plt.subplots(10, 3, figsize=(5,15))\n",
        "import matplotlib as mpl\n",
        "mpl.rcParams['figure.dpi']= 250\n",
        "for i in range(10):\n",
        "    axarr[i,0].set_axis_off()\n",
        "    axarr[i,1].set_axis_off()\n",
        "    axarr[i,2].set_axis_off()\n",
        "    axarr[i,0].imshow(original_images[i].reshape([28, 28]), cmap = \"gray\")\n",
        "    axarr[i,1].imshow((adv_img_hist[0][i] - original_images[i]).reshape([28, 28]), cmap = \"gray\")\n",
        "    axarr[i,2].imshow((adv_img_hist[0][i]).reshape([28, 28]), cmap=\"gray\")\n",
        "    \n",
        "plt.tight_layout()\n",
        "plt.show()\n",
        "f.savefig(\"result.png\")"
      ],
      "execution_count": 62,
      "outputs": [
        {
          "output_type": "display_data",
          "data": {
            "image/png": "[encoded data removed]",
            "text/plain": [
              "<matplotlib.figure.Figure at 0x7f09213bcba8>"
            ]
          },
          "metadata": {
            "tags": []
          }
        }
      ]
    },
    {
      "metadata": {
        "id": "qmxyMTAKto6R",
        "colab_type": "code",
        "colab": {}
      },
      "cell_type": "code",
      "source": [
        ""
      ],
      "execution_count": 0,
      "outputs": []
    }
  ]
}