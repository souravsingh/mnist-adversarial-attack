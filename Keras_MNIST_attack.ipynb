{
  "nbformat": 4,
  "nbformat_minor": 0,
  "metadata": {
    "colab": {
      "name": "Keras-MNIST-attack.ipynb",
      "version": "0.3.2",
      "provenance": []
    },
    "kernelspec": {
      "name": "python3",
      "display_name": "Python 3"
    },
    "accelerator": "GPU"
  },
  "cells": [
    {
      "metadata": {
        "id": "bq0_mt3t70OE",
        "colab_type": "text"
      },
      "cell_type": "markdown",
      "source": [
        "# Adversarial attack on MNIST Classifier\n",
        "\n",
        "This notebook aims to show how one can attack a simple image classifier using a few noisy images. We will make use of Fast Gradient Sign Attack, by Goodfellow et. al (2014). Before executing the notebook, ensure that GPU is enabled. You can do so by clicking on Runtime and \"Change Runtime Type\" and setting Hardware acceleration to GPU."
      ]
    },
    {
      "metadata": {
        "id": "3GFNk3Pe8IQ1",
        "colab_type": "text"
      },
      "cell_type": "markdown",
      "source": [
        "**We first start by loading the MNIST dataset into the system**"
      ]
    },
    {
      "metadata": {
        "id": "hugFyyrh0kfy",
        "colab_type": "code",
        "colab": {
          "base_uri": "https://localhost:8080/",
          "height": 69
        },
        "outputId": "8a32bb0a-921f-4a4b-e000-58e76f6555be"
      },
      "cell_type": "code",
      "source": [
        "from keras.datasets import mnist\n",
        "(train_X,train_Y), (test_X,test_Y) = mnist.load_data()"
      ],
      "execution_count": 1,
      "outputs": [
        {
          "output_type": "stream",
          "text": [
            "Using TensorFlow backend.\n"
          ],
          "name": "stderr"
        },
        {
          "output_type": "stream",
          "text": [
            "Downloading data from https://s3.amazonaws.com/img-datasets/mnist.npz\n",
            "11493376/11490434 [==============================] - 1s 0us/step\n"
          ],
          "name": "stdout"
        }
      ]
    },
    {
      "metadata": {
        "id": "jSO-8oLj8fa4",
        "colab_type": "text"
      },
      "cell_type": "markdown",
      "source": [
        "**Let's check the shape of the dataset and unique classes in the dataset**"
      ]
    },
    {
      "metadata": {
        "id": "e0ZaFyzY0k7z",
        "colab_type": "code",
        "colab": {
          "base_uri": "https://localhost:8080/",
          "height": 52
        },
        "outputId": "b6f4722d-0874-4f16-9bfe-a9b865d5ba0f"
      },
      "cell_type": "code",
      "source": [
        "import numpy as np\n",
        "from keras.utils import to_categorical\n",
        "import matplotlib.pyplot as plt\n",
        "%matplotlib inline\n",
        "\n",
        "print('Training data shape : ', train_X.shape, train_Y.shape)\n",
        "\n",
        "print('Testing data shape : ', test_X.shape, test_Y.shape)"
      ],
      "execution_count": 2,
      "outputs": [
        {
          "output_type": "stream",
          "text": [
            "Training data shape :  (60000, 28, 28) (60000,)\n",
            "Testing data shape :  (10000, 28, 28) (10000,)\n"
          ],
          "name": "stdout"
        }
      ]
    },
    {
      "metadata": {
        "id": "5FYOcI5Z0r4g",
        "colab_type": "code",
        "colab": {
          "base_uri": "https://localhost:8080/",
          "height": 52
        },
        "outputId": "ba998649-702f-4d11-87f3-a526d0f5c940"
      },
      "cell_type": "code",
      "source": [
        "classes = np.unique(train_Y)\n",
        "nClasses = len(classes)\n",
        "print('Total number of outputs : ', nClasses)\n",
        "print('Output classes : ', classes)"
      ],
      "execution_count": 3,
      "outputs": [
        {
          "output_type": "stream",
          "text": [
            "Total number of outputs :  10\n",
            "Output classes :  [0 1 2 3 4 5 6 7 8 9]\n"
          ],
          "name": "stdout"
        }
      ]
    },
    {
      "metadata": {
        "id": "PebR-v_c8ncM",
        "colab_type": "text"
      },
      "cell_type": "markdown",
      "source": [
        "**Let''s display a few examples from the Test dataset to show what our data feels like**"
      ]
    },
    {
      "metadata": {
        "id": "rT-tWl1C0ssO",
        "colab_type": "code",
        "colab": {
          "base_uri": "https://localhost:8080/",
          "height": 207
        },
        "outputId": "b7050492-aa8f-4ba3-ea92-0d7ac84e48fc"
      },
      "cell_type": "code",
      "source": [
        "plt.figure(figsize=[5,5])\n",
        "\n",
        "# Display the first image in training data\n",
        "plt.subplot(121)\n",
        "plt.imshow(train_X[0,:,:], cmap='gray')\n",
        "plt.title(\"Ground Truth : {}\".format(train_Y[0]))\n",
        "\n",
        "# Display the first image in testing data\n",
        "plt.subplot(122)\n",
        "plt.imshow(test_X[0,:,:], cmap='gray')\n",
        "plt.title(\"Ground Truth : {}\".format(test_Y[0]))"
      ],
      "execution_count": 4,
      "outputs": [
        {
          "output_type": "execute_result",
          "data": {
            "text/plain": [
              "Text(0.5,1,'Ground Truth : 7')"
            ]
          },
          "metadata": {
            "tags": []
          },
          "execution_count": 4
        },
        {
          "output_type": "display_data",
          "data": {
            "image/png": "[encoded data removed]",
            "text/plain": [
              "<matplotlib.figure.Figure at 0x7f86bada4e80>"
            ]
          },
          "metadata": {
            "tags": []
          }
        }
      ]
    },
    {
      "metadata": {
        "id": "A4Aa082y8ydc",
        "colab_type": "text"
      },
      "cell_type": "markdown",
      "source": [
        "**We reshape the dataset since CNN's require 4D-tensors as input, where 4th dimension is the number of channels. In our case, it is one since the MNIST images are not RGB**"
      ]
    },
    {
      "metadata": {
        "id": "IMzfaTZm0yan",
        "colab_type": "code",
        "colab": {
          "base_uri": "https://localhost:8080/",
          "height": 34
        },
        "outputId": "df57b930-1dc0-4a78-875e-39c43a84aefa"
      },
      "cell_type": "code",
      "source": [
        "train_X = train_X.reshape(-1, 28, 28, 1)\n",
        "test_X = test_X.reshape(-1, 28, 28, 1)\n",
        "train_X.shape, test_X.shape"
      ],
      "execution_count": 5,
      "outputs": [
        {
          "output_type": "execute_result",
          "data": {
            "text/plain": [
              "((60000, 28, 28, 1), (10000, 28, 28, 1))"
            ]
          },
          "metadata": {
            "tags": []
          },
          "execution_count": 5
        }
      ]
    },
    {
      "metadata": {
        "id": "sIRolqnB9GU1",
        "colab_type": "text"
      },
      "cell_type": "markdown",
      "source": [
        "**We now do further preprocessing by coercing the training and test data to float32 type and normalizing the images by dividing them with 255**"
      ]
    },
    {
      "metadata": {
        "id": "Wrv_yLvP03II",
        "colab_type": "code",
        "colab": {}
      },
      "cell_type": "code",
      "source": [
        "train_X = train_X.astype('float32')\n",
        "test_X = test_X.astype('float32')\n",
        "train_X = train_X / 255.\n",
        "test_X = test_X / 255."
      ],
      "execution_count": 0,
      "outputs": []
    },
    {
      "metadata": {
        "id": "O10wuMr_9WN5",
        "colab_type": "text"
      },
      "cell_type": "markdown",
      "source": [
        "**Since our labels are numeric and CNNs require binary vectors for training, we convert the labels into One-hot encoded vectors**"
      ]
    },
    {
      "metadata": {
        "id": "rlBXyAiG04ug",
        "colab_type": "code",
        "colab": {
          "base_uri": "https://localhost:8080/",
          "height": 52
        },
        "outputId": "0766b4ac-8c8c-46de-e50b-c44693594635"
      },
      "cell_type": "code",
      "source": [
        "# Change the labels from categorical to one-hot encoding\n",
        "train_Y_one_hot = to_categorical(train_Y)\n",
        "test_Y_one_hot = to_categorical(test_Y)\n",
        "\n",
        "# Display the change for category label using one-hot encoding\n",
        "print('Original label:', train_Y[0])\n",
        "print('After conversion to one-hot:', train_Y_one_hot[0])"
      ],
      "execution_count": 7,
      "outputs": [
        {
          "output_type": "stream",
          "text": [
            "Original label: 5\n",
            "After conversion to one-hot: [0. 0. 0. 0. 0. 1. 0. 0. 0. 0.]\n"
          ],
          "name": "stdout"
        }
      ]
    },
    {
      "metadata": {
        "id": "f4Vm4F7l9iuO",
        "colab_type": "text"
      },
      "cell_type": "markdown",
      "source": [
        "**We split the training data into training and validation data, which will be useful for hyperparameter tuning and to help tune model better**"
      ]
    },
    {
      "metadata": {
        "id": "2HsJaJYn0629",
        "colab_type": "code",
        "colab": {}
      },
      "cell_type": "code",
      "source": [
        "from sklearn.model_selection import train_test_split\n",
        "train_X, valid_X, train_label, valid_label = train_test_split(train_X, train_Y_one_hot, test_size=0.1, random_state=13)"
      ],
      "execution_count": 0,
      "outputs": []
    },
    {
      "metadata": {
        "id": "6fUfN3XI0_E9",
        "colab_type": "code",
        "colab": {
          "base_uri": "https://localhost:8080/",
          "height": 34
        },
        "outputId": "8779aa5d-b2b0-4031-95a8-5d1e31781dbe"
      },
      "cell_type": "code",
      "source": [
        "train_X.shape,valid_X.shape,train_label.shape,valid_label.shape"
      ],
      "execution_count": 9,
      "outputs": [
        {
          "output_type": "execute_result",
          "data": {
            "text/plain": [
              "((54000, 28, 28, 1), (6000, 28, 28, 1), (54000, 10), (6000, 10))"
            ]
          },
          "metadata": {
            "tags": []
          },
          "execution_count": 9
        }
      ]
    },
    {
      "metadata": {
        "id": "BAiQzOu99wnp",
        "colab_type": "text"
      },
      "cell_type": "markdown",
      "source": [
        "# CNN Model creation\n",
        "\n",
        "**We now create our model. We first import the required functions for creating the model.**"
      ]
    },
    {
      "metadata": {
        "id": "ZmSVIpBi1B1_",
        "colab_type": "code",
        "colab": {}
      },
      "cell_type": "code",
      "source": [
        "import keras\n",
        "from keras.models import Sequential,Input,Model\n",
        "from keras.layers import Dense, Dropout, Flatten\n",
        "from keras.layers import Conv2D, MaxPooling2D"
      ],
      "execution_count": 0,
      "outputs": []
    },
    {
      "metadata": {
        "id": "dUR2NUKr996E",
        "colab_type": "text"
      },
      "cell_type": "markdown",
      "source": [
        "**This initializes the values for Batch size and Epochs for training purposes**"
      ]
    },
    {
      "metadata": {
        "id": "PsDZlOm-1Eq8",
        "colab_type": "code",
        "colab": {}
      },
      "cell_type": "code",
      "source": [
        "batch_size = 64\n",
        "epochs = 10\n",
        "num_classes = 10"
      ],
      "execution_count": 0,
      "outputs": []
    },
    {
      "metadata": {
        "id": "doUcxUsI-EH0",
        "colab_type": "text"
      },
      "cell_type": "markdown",
      "source": [
        "**We now create our CNN model here. The model is inspired by Tensorflow tutorial on MNIST**"
      ]
    },
    {
      "metadata": {
        "id": "_3BlkhUu1Gef",
        "colab_type": "code",
        "colab": {}
      },
      "cell_type": "code",
      "source": [
        "mnist_model = Sequential()\n",
        "mnist_model.add(Conv2D(32, kernel_size=(3, 3),activation='linear',padding='same',input_shape=(28,28,1)))\n",
        "mnist_model.add(MaxPooling2D((2, 2),padding='same'))\n",
        "mnist_model.add(Conv2D(64, (3, 3), activation='linear',padding='same'))\n",
        "mnist_model.add(MaxPooling2D(pool_size=(2, 2),padding='same'))\n",
        "mnist_model.add(Flatten())\n",
        "mnist_model.add(Dense(128, activation='linear'))\n",
        "mnist_model.add(Dense(num_classes, activation='softmax'))"
      ],
      "execution_count": 0,
      "outputs": []
    },
    {
      "metadata": {
        "id": "f92_FRVf-Nop",
        "colab_type": "text"
      },
      "cell_type": "markdown",
      "source": [
        "**The model is compiled using Cross-Entropy Loss and Adam optimizer**"
      ]
    },
    {
      "metadata": {
        "id": "C9Yo4XVx1IfX",
        "colab_type": "code",
        "colab": {}
      },
      "cell_type": "code",
      "source": [
        "mnist_model.compile(loss=keras.losses.categorical_crossentropy, optimizer=keras.optimizers.Adam(),metrics=['accuracy'])"
      ],
      "execution_count": 0,
      "outputs": []
    },
    {
      "metadata": {
        "id": "z-4hxAT21LZN",
        "colab_type": "code",
        "colab": {
          "base_uri": "https://localhost:8080/",
          "height": 382
        },
        "outputId": "7ff975f8-56f4-401f-e3da-c8109600c597"
      },
      "cell_type": "code",
      "source": [
        "mnist_model.summary()"
      ],
      "execution_count": 14,
      "outputs": [
        {
          "output_type": "stream",
          "text": [
            "_________________________________________________________________\n",
            "Layer (type)                 Output Shape              Param #   \n",
            "=================================================================\n",
            "conv2d_1 (Conv2D)            (None, 28, 28, 32)        320       \n",
            "_________________________________________________________________\n",
            "max_pooling2d_1 (MaxPooling2 (None, 14, 14, 32)        0         \n",
            "_________________________________________________________________\n",
            "conv2d_2 (Conv2D)            (None, 14, 14, 64)        18496     \n",
            "_________________________________________________________________\n",
            "max_pooling2d_2 (MaxPooling2 (None, 7, 7, 64)          0         \n",
            "_________________________________________________________________\n",
            "flatten_1 (Flatten)          (None, 3136)              0         \n",
            "_________________________________________________________________\n",
            "dense_1 (Dense)              (None, 128)               401536    \n",
            "_________________________________________________________________\n",
            "dense_2 (Dense)              (None, 10)                1290      \n",
            "=================================================================\n",
            "Total params: 421,642\n",
            "Trainable params: 421,642\n",
            "Non-trainable params: 0\n",
            "_________________________________________________________________\n"
          ],
          "name": "stdout"
        }
      ]
    },
    {
      "metadata": {
        "id": "XsV0B3dh-TvH",
        "colab_type": "text"
      },
      "cell_type": "markdown",
      "source": [
        "**We now fit our model on training dataset and run it for 10 epochs. This will take a few seconds if the GPU is enabled**"
      ]
    },
    {
      "metadata": {
        "id": "eqyvjuss1NOF",
        "colab_type": "code",
        "colab": {
          "base_uri": "https://localhost:8080/",
          "height": 382
        },
        "outputId": "a6e9a5ab-2a4d-4001-ede9-6034a89605c9"
      },
      "cell_type": "code",
      "source": [
        "mnist_train = mnist_model.fit(train_X, train_label, batch_size=batch_size,epochs=epochs,verbose=1,validation_data=(valid_X, valid_label))"
      ],
      "execution_count": 15,
      "outputs": [
        {
          "output_type": "stream",
          "text": [
            "Train on 54000 samples, validate on 6000 samples\n",
            "Epoch 1/10\n",
            "54000/54000 [==============================] - 10s 191us/step - loss: 0.1523 - acc: 0.9549 - val_loss: 0.0650 - val_acc: 0.9817\n",
            "Epoch 2/10\n",
            "54000/54000 [==============================] - 9s 166us/step - loss: 0.0607 - acc: 0.9811 - val_loss: 0.0560 - val_acc: 0.9825\n",
            "Epoch 3/10\n",
            "54000/54000 [==============================] - 9s 164us/step - loss: 0.0468 - acc: 0.9852 - val_loss: 0.0583 - val_acc: 0.9828\n",
            "Epoch 4/10\n",
            "54000/54000 [==============================] - 9s 163us/step - loss: 0.0413 - acc: 0.9869 - val_loss: 0.0474 - val_acc: 0.9860\n",
            "Epoch 5/10\n",
            "54000/54000 [==============================] - 9s 165us/step - loss: 0.0324 - acc: 0.9899 - val_loss: 0.0561 - val_acc: 0.9837\n",
            "Epoch 6/10\n",
            "54000/54000 [==============================] - 9s 165us/step - loss: 0.0301 - acc: 0.9902 - val_loss: 0.0526 - val_acc: 0.9858\n",
            "Epoch 7/10\n",
            "54000/54000 [==============================] - 9s 166us/step - loss: 0.0235 - acc: 0.9923 - val_loss: 0.0744 - val_acc: 0.9827\n",
            "Epoch 8/10\n",
            "54000/54000 [==============================] - 9s 164us/step - loss: 0.0229 - acc: 0.9923 - val_loss: 0.0763 - val_acc: 0.9808\n",
            "Epoch 9/10\n",
            "54000/54000 [==============================] - 9s 166us/step - loss: 0.0196 - acc: 0.9937 - val_loss: 0.0645 - val_acc: 0.9838\n",
            "Epoch 10/10\n",
            "54000/54000 [==============================] - 9s 165us/step - loss: 0.0182 - acc: 0.9942 - val_loss: 0.0610 - val_acc: 0.9857\n"
          ],
          "name": "stdout"
        }
      ]
    },
    {
      "metadata": {
        "id": "_GzfNl6_-eyL",
        "colab_type": "text"
      },
      "cell_type": "markdown",
      "source": [
        "**Let's evaluate the model on test dataset and check the Loss and Accuracy on test data**"
      ]
    },
    {
      "metadata": {
        "id": "UFWCTbqV1P36",
        "colab_type": "code",
        "colab": {}
      },
      "cell_type": "code",
      "source": [
        "test_eval = mnist_model.evaluate(test_X, test_Y_one_hot, verbose=0)"
      ],
      "execution_count": 0,
      "outputs": []
    },
    {
      "metadata": {
        "id": "q8OFINd61Twf",
        "colab_type": "code",
        "colab": {
          "base_uri": "https://localhost:8080/",
          "height": 52
        },
        "outputId": "53925d41-ade0-4bcb-ec7b-e1ace02dee7c"
      },
      "cell_type": "code",
      "source": [
        "print('Test loss:', test_eval[0])\n",
        "print('Test accuracy:', test_eval[1])"
      ],
      "execution_count": 17,
      "outputs": [
        {
          "output_type": "stream",
          "text": [
            "Test loss: 0.06595322942977555\n",
            "Test accuracy: 0.9853\n"
          ],
          "name": "stdout"
        }
      ]
    },
    {
      "metadata": {
        "id": "yFepb7ax-mD4",
        "colab_type": "text"
      },
      "cell_type": "markdown",
      "source": [
        "**Now we plot the Training and Validation Accuracy and Loss as a function of epochs to check our training**"
      ]
    },
    {
      "metadata": {
        "id": "fvS3zyg71V34",
        "colab_type": "code",
        "colab": {
          "base_uri": "https://localhost:8080/",
          "height": 543
        },
        "outputId": "798f3987-f6be-4628-9f1a-27f03e0eb2a0"
      },
      "cell_type": "code",
      "source": [
        "accuracy = mnist_train.history['acc']\n",
        "val_accuracy = mnist_train.history['val_acc']\n",
        "loss = mnist_train.history['loss']\n",
        "val_loss = mnist_train.history['val_loss']\n",
        "epochs = range(len(accuracy))\n",
        "plt.plot(epochs, accuracy, 'bo', label='Training accuracy')\n",
        "plt.plot(epochs, val_accuracy, 'b', label='Validation accuracy')\n",
        "plt.title('Training and validation accuracy')\n",
        "plt.legend()\n",
        "plt.figure()\n",
        "plt.plot(epochs, loss, 'bo', label='Training loss')\n",
        "plt.plot(epochs, val_loss, 'b', label='Validation loss')\n",
        "plt.title('Training and validation loss')\n",
        "plt.legend()\n",
        "plt.show()"
      ],
      "execution_count": 18,
      "outputs": [
        {
          "output_type": "display_data",
          "data": {
            "image/png": "[encoded data removed]",
            "text/plain": [
              "<matplotlib.figure.Figure at 0x7f86b608f4a8>"
            ]
          },
          "metadata": {
            "tags": []
          }
        },
        {
          "output_type": "display_data",
          "data": {
            "image/png": "[encoded data removed]",
            "text/plain": [
              "<matplotlib.figure.Figure at 0x7f86ac3a8710>"
            ]
          },
          "metadata": {
            "tags": []
          }
        }
      ]
    },
    {
      "metadata": {
        "id": "8JQsV3FV-yOV",
        "colab_type": "text"
      },
      "cell_type": "markdown",
      "source": [
        "**Now let's predict the classes on test dataset and check which images were correctly classified and which images were misclassified**"
      ]
    },
    {
      "metadata": {
        "id": "T-M5yiTJ2NbK",
        "colab_type": "code",
        "colab": {}
      },
      "cell_type": "code",
      "source": [
        "predicted_classes = mnist_model.predict(test_X)"
      ],
      "execution_count": 0,
      "outputs": []
    },
    {
      "metadata": {
        "id": "MBkc-6YQ2Rl5",
        "colab_type": "code",
        "colab": {}
      },
      "cell_type": "code",
      "source": [
        "predicted_classes = np.argmax(np.round(predicted_classes),axis=1)"
      ],
      "execution_count": 0,
      "outputs": []
    },
    {
      "metadata": {
        "id": "ieHRkRrx2Tnz",
        "colab_type": "code",
        "colab": {
          "base_uri": "https://localhost:8080/",
          "height": 314
        },
        "outputId": "a46b1c45-a73c-44d6-fa97-6f2b162729c0"
      },
      "cell_type": "code",
      "source": [
        "correct = np.where(predicted_classes==test_Y)[0]\n",
        "print(\"Found %d correct labels\" % len(correct))\n",
        "for i, correct in enumerate(correct[:9]):\n",
        "    plt.subplot(3,3,i+1)\n",
        "    plt.imshow(test_X[correct].reshape(28,28), cmap='gray', interpolation='none')\n",
        "    plt.title(\"Predicted {}, Class {}\".format(predicted_classes[correct], test_Y[correct]))\n",
        "    plt.tight_layout()"
      ],
      "execution_count": 21,
      "outputs": [
        {
          "output_type": "stream",
          "text": [
            "Found 9851 correct labels\n"
          ],
          "name": "stdout"
        },
        {
          "output_type": "display_data",
          "data": {
            "image/png": "[encoded data removed]",
            "text/plain": [
              "<matplotlib.figure.Figure at 0x7f86ac379f98>"
            ]
          },
          "metadata": {
            "tags": []
          }
        }
      ]
    },
    {
      "metadata": {
        "id": "IYTBXrbr2WF-",
        "colab_type": "code",
        "colab": {
          "base_uri": "https://localhost:8080/",
          "height": 314
        },
        "outputId": "026cb0fd-418f-48d2-bc4e-d01670792817"
      },
      "cell_type": "code",
      "source": [
        "incorrect = np.where(predicted_classes!=test_Y)[0]\n",
        "print(\"Found %d incorrect labels\" % len(incorrect))\n",
        "for i, incorrect in enumerate(incorrect[:9]):\n",
        "    plt.subplot(3,3,i+1)\n",
        "    plt.imshow(test_X[incorrect].reshape(28,28), cmap='gray', interpolation='none')\n",
        "    plt.title(\"Predicted {}, Class {}\".format(predicted_classes[incorrect], test_Y[incorrect]))\n",
        "    plt.tight_layout()"
      ],
      "execution_count": 22,
      "outputs": [
        {
          "output_type": "stream",
          "text": [
            "Found 149 incorrect labels\n"
          ],
          "name": "stdout"
        },
        {
          "output_type": "display_data",
          "data": {
            "image/png": "[encoded data removed]",
            "text/plain": [
              "<matplotlib.figure.Figure at 0x7f86ab340e10>"
            ]
          },
          "metadata": {
            "tags": []
          }
        }
      ]
    },
    {
      "metadata": {
        "id": "ZdnqXnUxAJ1M",
        "colab_type": "text"
      },
      "cell_type": "markdown",
      "source": [
        "# Model interpretability\n",
        "\n",
        "**We now try to discern what our model is learning from the images. For this purpose, we make use of [SHAP](http://papers.nips.cc/paper/7062-a-unified-approach-to-interpreting-model-predictions) to interpret our model's learning process. For this, we need to install the package. The below code is inspired by the MNIST DeepExplainer example in the repository** "
      ]
    },
    {
      "metadata": {
        "id": "-jrm8CMr_yvL",
        "colab_type": "code",
        "colab": {
          "base_uri": "https://localhost:8080/",
          "height": 593
        },
        "outputId": "44f2f07c-b291-48a1-954e-6479836352b5"
      },
      "cell_type": "code",
      "source": [
        "!pip install -U shap"
      ],
      "execution_count": 23,
      "outputs": [
        {
          "output_type": "stream",
          "text": [
            "Collecting shap\n",
            "\u001b[?25l  Downloading https://files.pythonhosted.org/packages/d6/19/752eb20b6e59a717d830ddddeb49d29422962e1ef5e8afce3aeb369757e3/shap-0.24.0.tar.gz (176kB)\n",
            "\r\u001b[K    5% |█▉                              | 10kB 17.7MB/s eta 0:00:01\r\u001b[K    11% |███▊                            | 20kB 2.7MB/s eta 0:00:01\r\u001b[K    17% |█████▌                          | 30kB 3.2MB/s eta 0:00:01\r\u001b[K    23% |███████▍                        | 40kB 2.9MB/s eta 0:00:01\r\u001b[K    28% |█████████▎                      | 51kB 3.3MB/s eta 0:00:01\r\u001b[K    34% |███████████                     | 61kB 3.9MB/s eta 0:00:01\r\u001b[K    40% |█████████████                   | 71kB 4.1MB/s eta 0:00:01\r\u001b[K    46% |██████████████▉                 | 81kB 3.9MB/s eta 0:00:01\r\u001b[K    52% |████████████████▋               | 92kB 4.3MB/s eta 0:00:01\r\u001b[K    57% |██████████████████▌             | 102kB 4.4MB/s eta 0:00:01\r\u001b[K    63% |████████████████████▍           | 112kB 4.4MB/s eta 0:00:01\r\u001b[K    69% |██████████████████████▏         | 122kB 5.5MB/s eta 0:00:01\r\u001b[K    75% |████████████████████████        | 133kB 5.4MB/s eta 0:00:01\r\u001b[K    81% |██████████████████████████      | 143kB 6.9MB/s eta 0:00:01\r\u001b[K    86% |███████████████████████████▊    | 153kB 6.8MB/s eta 0:00:01\r\u001b[K    92% |█████████████████████████████▋  | 163kB 6.1MB/s eta 0:00:01\r\u001b[K    98% |███████████████████████████████▌| 174kB 6.7MB/s eta 0:00:01\r\u001b[K    100% |████████████████████████████████| 184kB 7.5MB/s \n",
            "\u001b[?25hRequirement already satisfied, skipping upgrade: numpy in /usr/local/lib/python3.6/dist-packages (from shap) (1.14.6)\n",
            "Requirement already satisfied, skipping upgrade: scipy in /usr/local/lib/python3.6/dist-packages (from shap) (0.19.1)\n",
            "Requirement already satisfied, skipping upgrade: scikit-learn in /usr/local/lib/python3.6/dist-packages (from shap) (0.19.2)\n",
            "Requirement already satisfied, skipping upgrade: matplotlib in /usr/local/lib/python3.6/dist-packages (from shap) (2.1.2)\n",
            "Requirement already satisfied, skipping upgrade: pandas in /usr/local/lib/python3.6/dist-packages (from shap) (0.22.0)\n",
            "Requirement already satisfied, skipping upgrade: tqdm in /usr/local/lib/python3.6/dist-packages (from shap) (4.26.0)\n",
            "Requirement already satisfied, skipping upgrade: ipython in /usr/local/lib/python3.6/dist-packages (from shap) (5.5.0)\n",
            "Requirement already satisfied, skipping upgrade: six>=1.10 in /usr/local/lib/python3.6/dist-packages (from matplotlib->shap) (1.11.0)\n",
            "Requirement already satisfied, skipping upgrade: pytz in /usr/local/lib/python3.6/dist-packages (from matplotlib->shap) (2018.5)\n",
            "Requirement already satisfied, skipping upgrade: cycler>=0.10 in /usr/local/lib/python3.6/dist-packages (from matplotlib->shap) (0.10.0)\n",
            "Requirement already satisfied, skipping upgrade: python-dateutil>=2.1 in /usr/local/lib/python3.6/dist-packages (from matplotlib->shap) (2.5.3)\n",
            "Requirement already satisfied, skipping upgrade: pyparsing!=2.0.4,!=2.1.2,!=2.1.6,>=2.0.1 in /usr/local/lib/python3.6/dist-packages (from matplotlib->shap) (2.2.1)\n",
            "Requirement already satisfied, skipping upgrade: pygments in /usr/local/lib/python3.6/dist-packages (from ipython->shap) (2.1.3)\n",
            "Requirement already satisfied, skipping upgrade: decorator in /usr/local/lib/python3.6/dist-packages (from ipython->shap) (4.3.0)\n",
            "Requirement already satisfied, skipping upgrade: traitlets>=4.2 in /usr/local/lib/python3.6/dist-packages (from ipython->shap) (4.3.2)\n",
            "Requirement already satisfied, skipping upgrade: prompt-toolkit<2.0.0,>=1.0.4 in /usr/local/lib/python3.6/dist-packages (from ipython->shap) (1.0.15)\n",
            "Requirement already satisfied, skipping upgrade: pexpect; sys_platform != \"win32\" in /usr/local/lib/python3.6/dist-packages (from ipython->shap) (4.6.0)\n",
            "Requirement already satisfied, skipping upgrade: simplegeneric>0.8 in /usr/local/lib/python3.6/dist-packages (from ipython->shap) (0.8.1)\n",
            "Requirement already satisfied, skipping upgrade: setuptools>=18.5 in /usr/local/lib/python3.6/dist-packages (from ipython->shap) (39.1.0)\n",
            "Requirement already satisfied, skipping upgrade: pickleshare in /usr/local/lib/python3.6/dist-packages (from ipython->shap) (0.7.5)\n",
            "Requirement already satisfied, skipping upgrade: ipython-genutils in /usr/local/lib/python3.6/dist-packages (from traitlets>=4.2->ipython->shap) (0.2.0)\n",
            "Requirement already satisfied, skipping upgrade: wcwidth in /usr/local/lib/python3.6/dist-packages (from prompt-toolkit<2.0.0,>=1.0.4->ipython->shap) (0.1.7)\n",
            "Requirement already satisfied, skipping upgrade: ptyprocess>=0.5 in /usr/local/lib/python3.6/dist-packages (from pexpect; sys_platform != \"win32\"->ipython->shap) (0.6.0)\n",
            "Building wheels for collected packages: shap\n",
            "  Running setup.py bdist_wheel for shap ... \u001b[?25l-\b \b\\\b \b|\b \b/\b \b-\b \b\\\b \bdone\n",
            "\u001b[?25h  Stored in directory: /root/.cache/pip/wheels/ef/55/5e/1b7fab6740a33bcae0de4938c110a9149d7e3f590b4f4510bf\n",
            "Successfully built shap\n",
            "Installing collected packages: shap\n",
            "Successfully installed shap-0.24.0\n"
          ],
          "name": "stdout"
        }
      ]
    },
    {
      "metadata": {
        "id": "ezedTXAD_1qR",
        "colab_type": "code",
        "colab": {}
      },
      "cell_type": "code",
      "source": [
        "import shap\n",
        "import numpy as np\n",
        "\n",
        "# Let's select a set of background examples to take an expectation over\n",
        "background = train_X[np.random.choice(train_X.shape[0], 100, replace=False)]\n",
        "\n",
        "# explain predictions of the model on three images\n",
        "e = shap.DeepExplainer(mnist_model, background)\n",
        "# ...or pass tensors directly\n",
        "# e = shap.DeepExplainer((model.layers[0].input, model.layers[-1].output), background)\n",
        "shap_values = e.shap_values(test_X[1:5])\n"
      ],
      "execution_count": 0,
      "outputs": []
    },
    {
      "metadata": {
        "id": "uPZSqTHIAG32",
        "colab_type": "code",
        "colab": {
          "base_uri": "https://localhost:8080/",
          "height": 426
        },
        "outputId": "cb33e7d1-acf5-4bc5-fe8c-b7bbcd3bf2c2"
      },
      "cell_type": "code",
      "source": [
        "# plot the feature attributions\n",
        "shap.image_plot(shap_values, -test_X[1:5])"
      ],
      "execution_count": 26,
      "outputs": [
        {
          "output_type": "display_data",
          "data": {
            "image/png": "[encoded data removed]",
            "text/plain": [
              "<matplotlib.figure.Figure at 0x7f86b187f6d8>"
            ]
          },
          "metadata": {
            "tags": []
          }
        }
      ]
    },
    {
      "metadata": {
        "id": "aFZrXpld-_Cn",
        "colab_type": "text"
      },
      "cell_type": "markdown",
      "source": [
        "**We will now fetch the images of 2's by searching for 2's index and then filtering them.**"
      ]
    },
    {
      "metadata": {
        "id": "YIRTIkXN2i2k",
        "colab_type": "code",
        "colab": {
          "base_uri": "https://localhost:8080/",
          "height": 52
        },
        "outputId": "bc863cab-6097-4f97-8c9d-ef603f93fa90"
      },
      "cell_type": "code",
      "source": [
        "index_mask = np.where(test_Y_one_hot[:, 2])[0]\n",
        "print(index_mask)\n",
        "subset_mask = np.random.choice(index_mask, 10)\n",
        "print(subset_mask)"
      ],
      "execution_count": 27,
      "outputs": [
        {
          "output_type": "stream",
          "text": [
            "[   1   35   38 ... 9980 9985 9995]\n",
            "[1432 6820 5629 5879 7472 4113 2253  326 3004 7789]\n"
          ],
          "name": "stdout"
        }
      ]
    },
    {
      "metadata": {
        "id": "tHsW94P_2w7a",
        "colab_type": "code",
        "colab": {}
      },
      "cell_type": "code",
      "source": [
        "original_images = test_X[subset_mask]\n",
        "original_labels = test_Y_one_hot[subset_mask]"
      ],
      "execution_count": 0,
      "outputs": []
    },
    {
      "metadata": {
        "id": "IDnEGCBS_NFA",
        "colab_type": "text"
      },
      "cell_type": "markdown",
      "source": [
        "**Let's check the classes of the images we filtered and check if they are correctly predicted.**"
      ]
    },
    {
      "metadata": {
        "id": "T4GX_lLv3jMg",
        "colab_type": "code",
        "colab": {}
      },
      "cell_type": "code",
      "source": [
        "predicted_2 = mnist_model.predict(original_images)"
      ],
      "execution_count": 0,
      "outputs": []
    },
    {
      "metadata": {
        "id": "sdj6Sh_j3wQW",
        "colab_type": "code",
        "colab": {
          "base_uri": "https://localhost:8080/",
          "height": 34
        },
        "outputId": "6369c351-08b6-4f77-cd4d-c8393da134af"
      },
      "cell_type": "code",
      "source": [
        "prediction_val = np.argmax(np.round(predicted_2),axis=1)\n",
        "print(\"predictions\", prediction_val)"
      ],
      "execution_count": 30,
      "outputs": [
        {
          "output_type": "stream",
          "text": [
            "predictions [2 2 2 2 2 2 2 2 2 2]\n"
          ],
          "name": "stdout"
        }
      ]
    },
    {
      "metadata": {
        "id": "Smf1ws_v3K0R",
        "colab_type": "code",
        "colab": {
          "base_uri": "https://localhost:8080/",
          "height": 538
        },
        "outputId": "76a12a84-3c80-4837-b961-bba072e8dc10"
      },
      "cell_type": "code",
      "source": [
        "probabilities_val = mnist_model.predict_proba(original_images)\n",
        "print (\"probabilities\", probabilities_val)"
      ],
      "execution_count": 31,
      "outputs": [
        {
          "output_type": "stream",
          "text": [
            "probabilities [[3.53593104e-13 3.80991002e-13 1.00000000e+00 4.68369308e-14\n",
            "  8.57143519e-27 3.47276569e-26 2.88637857e-20 6.54025377e-14\n",
            "  1.89038441e-14 3.76803840e-20]\n",
            " [1.50129420e-20 2.88279089e-09 1.00000000e+00 6.54036821e-17\n",
            "  1.55580948e-18 5.40122412e-24 1.66225165e-26 2.64681072e-13\n",
            "  3.71800935e-19 1.58705486e-22]\n",
            " [9.60489751e-20 1.48928307e-18 1.00000000e+00 1.16814837e-12\n",
            "  5.53875019e-23 5.87205440e-26 1.01320831e-24 1.54747553e-18\n",
            "  5.08340071e-11 1.74648330e-18]\n",
            " [7.70616549e-14 1.81541902e-12 9.99995589e-01 4.35685433e-06\n",
            "  2.33921637e-20 9.82365204e-23 3.39357715e-16 4.43805894e-14\n",
            "  8.22385346e-13 2.84633333e-22]\n",
            " [8.93682871e-12 2.85551154e-15 9.99961257e-01 2.10910556e-09\n",
            "  6.52690966e-12 3.36229220e-15 2.59790521e-19 3.87836662e-05\n",
            "  1.85215665e-09 2.50735901e-13]\n",
            " [6.77890539e-20 1.63015660e-11 9.99999881e-01 1.73604107e-07\n",
            "  8.22618228e-16 3.15532018e-22 8.29826944e-22 3.98294314e-11\n",
            "  2.68385730e-11 1.06607348e-18]\n",
            " [5.24280631e-14 1.45795417e-13 9.99999881e-01 3.26111249e-10\n",
            "  3.96596708e-16 1.19981048e-14 5.00351732e-16 7.14001514e-12\n",
            "  7.06587002e-08 1.88819433e-13]\n",
            " [6.45581814e-14 4.03992832e-01 5.96006870e-01 2.38217757e-13\n",
            "  3.04445877e-07 1.07265542e-12 1.01739035e-08 6.13146618e-14\n",
            "  1.75625878e-14 9.28777727e-19]\n",
            " [1.17134036e-17 1.12621365e-13 1.00000000e+00 4.77138583e-16\n",
            "  4.24320131e-19 1.25176221e-22 5.85952257e-19 2.89108310e-13\n",
            "  2.94267277e-09 2.22805995e-17]\n",
            " [2.49961669e-23 2.15318177e-19 1.00000000e+00 5.27081920e-11\n",
            "  4.16576528e-28 2.03332437e-28 1.71022013e-28 9.15250355e-15\n",
            "  6.92344243e-16 9.81748680e-21]]\n"
          ],
          "name": "stdout"
        }
      ]
    },
    {
      "metadata": {
        "id": "sA_uwj5SAs2q",
        "colab_type": "text"
      },
      "cell_type": "markdown",
      "source": [
        "**Let's display the images and their predicted labels**"
      ]
    },
    {
      "metadata": {
        "id": "gWCiyIGd4BD5",
        "colab_type": "code",
        "colab": {
          "base_uri": "https://localhost:8080/",
          "height": 1958
        },
        "outputId": "fbe65d6a-7509-4c84-901c-c19f907092a5"
      },
      "cell_type": "code",
      "source": [
        "for i in range(0, 10):\n",
        "    print('Correct label', np.argmax(original_labels[i]))\n",
        "    print('Predicted label:', prediction_val[i])\n",
        "    print('Confidence:', np.max(probabilities_val[i]))\n",
        "    plt.figure(figsize=(2, 2))\n",
        "    plt.axis('off')\n",
        "    plt.imshow(original_images[i].reshape([28, 28]),cmap = \"gray\")\n",
        "    plt.show()"
      ],
      "execution_count": 32,
      "outputs": [
        {
          "output_type": "stream",
          "text": [
            "Correct label 2\n",
            "Predicted label: 2\n",
            "Confidence: 1.0\n"
          ],
          "name": "stdout"
        },
        {
          "output_type": "display_data",
          "data": {
            "image/png": "[encoded data removed]",
            "text/plain": [
              "<matplotlib.figure.Figure at 0x7f86a3291f98>"
            ]
          },
          "metadata": {
            "tags": []
          }
        },
        {
          "output_type": "stream",
          "text": [
            "Correct label 2\n",
            "Predicted label: 2\n",
            "Confidence: 1.0\n"
          ],
          "name": "stdout"
        },
        {
          "output_type": "display_data",
          "data": {
            "image/png": "[encoded data removed]",
            "text/plain": [
              "<matplotlib.figure.Figure at 0x7f86a2872588>"
            ]
          },
          "metadata": {
            "tags": []
          }
        },
        {
          "output_type": "stream",
          "text": [
            "Correct label 2\n",
            "Predicted label: 2\n",
            "Confidence: 1.0\n"
          ],
          "name": "stdout"
        },
        {
          "output_type": "display_data",
          "data": {
            "image/png": "[encoded data removed]",
            "text/plain": [
              "<matplotlib.figure.Figure at 0x7f86a12d4e10>"
            ]
          },
          "metadata": {
            "tags": []
          }
        },
        {
          "output_type": "stream",
          "text": [
            "Correct label 2\n",
            "Predicted label: 2\n",
            "Confidence: 0.9999956\n"
          ],
          "name": "stdout"
        },
        {
          "output_type": "display_data",
          "data": {
            "image/png": "[encoded data removed]",
            "text/plain": [
              "<matplotlib.figure.Figure at 0x7f86a129dfd0>"
            ]
          },
          "metadata": {
            "tags": []
          }
        },
        {
          "output_type": "stream",
          "text": [
            "Correct label 2\n",
            "Predicted label: 2\n",
            "Confidence: 0.99996126\n"
          ],
          "name": "stdout"
        },
        {
          "output_type": "display_data",
          "data": {
            "image/png": "[encoded data removed]",
            "text/plain": [
              "<matplotlib.figure.Figure at 0x7f86a12c5390>"
            ]
          },
          "metadata": {
            "tags": []
          }
        },
        {
          "output_type": "stream",
          "text": [
            "Correct label 2\n",
            "Predicted label: 2\n",
            "Confidence: 0.9999999\n"
          ],
          "name": "stdout"
        },
        {
          "output_type": "display_data",
          "data": {
            "image/png": "[encoded data removed]",
            "text/plain": [
              "<matplotlib.figure.Figure at 0x7f86a11631d0>"
            ]
          },
          "metadata": {
            "tags": []
          }
        },
        {
          "output_type": "stream",
          "text": [
            "Correct label 2\n",
            "Predicted label: 2\n",
            "Confidence: 0.9999999\n"
          ],
          "name": "stdout"
        },
        {
          "output_type": "display_data",
          "data": {
            "image/png": "[encoded data removed]",
            "text/plain": [
              "<matplotlib.figure.Figure at 0x7f86a10d76d8>"
            ]
          },
          "metadata": {
            "tags": []
          }
        },
        {
          "output_type": "stream",
          "text": [
            "Correct label 2\n",
            "Predicted label: 2\n",
            "Confidence: 0.5960069\n"
          ],
          "name": "stdout"
        },
        {
          "output_type": "display_data",
          "data": {
            "image/png": "[encoded data removed]",
            "text/plain": [
              "<matplotlib.figure.Figure at 0x7f86a10fbe48>"
            ]
          },
          "metadata": {
            "tags": []
          }
        },
        {
          "output_type": "stream",
          "text": [
            "Correct label 2\n",
            "Predicted label: 2\n",
            "Confidence: 1.0\n"
          ],
          "name": "stdout"
        },
        {
          "output_type": "display_data",
          "data": {
            "image/png": "[encoded data removed]",
            "text/plain": [
              "<matplotlib.figure.Figure at 0x7f86a0f5e320>"
            ]
          },
          "metadata": {
            "tags": []
          }
        },
        {
          "output_type": "stream",
          "text": [
            "Correct label 2\n",
            "Predicted label: 2\n",
            "Confidence: 1.0\n"
          ],
          "name": "stdout"
        },
        {
          "output_type": "display_data",
          "data": {
            "image/png": "[encoded data removed]",
            "text/plain": [
              "<matplotlib.figure.Figure at 0x7f86a0f2ea20>"
            ]
          },
          "metadata": {
            "tags": []
          }
        }
      ]
    },
    {
      "metadata": {
        "id": "pjcMBBJfA1R2",
        "colab_type": "text"
      },
      "cell_type": "markdown",
      "source": [
        "**We now have to change the 2's images such that the model classifies the images as 6. For that reason, we set our target as 6 and initialize number of steps for running the calculation and epsilon value required for FGSM technique**"
      ]
    },
    {
      "metadata": {
        "id": "G_KVTGO9LDvD",
        "colab_type": "code",
        "colab": {}
      },
      "cell_type": "code",
      "source": [
        "target_number = 6\n",
        "n_steps = 10\n",
        "eps = 0.5\n",
        "adversarial_images = original_images.copy()"
      ],
      "execution_count": 0,
      "outputs": []
    },
    {
      "metadata": {
        "id": "EtYIYPrPBPVK",
        "colab_type": "text"
      },
      "cell_type": "markdown",
      "source": [
        "**Here, we are converting the target number to one-hot encoded vector. Then, use the vector to calculate the loss value. This loss value will be used to calculate the value of gradient. Finally, the gradient value will be used to create our adversarial examples.**"
      ]
    },
    {
      "metadata": {
        "id": "5pVrVzLIGxrC",
        "colab_type": "code",
        "colab": {
          "base_uri": "https://localhost:8080/",
          "height": 575
        },
        "outputId": "2d3ff5e2-45ff-4c6c-dc0f-b1be0b29a155"
      },
      "cell_type": "code",
      "source": [
        "from keras import backend as K\n",
        "\n",
        "adv_img_hist = list()\n",
        "prob2_hist = list()\n",
        "prob6_hist = list()\n",
        "\n",
        "for i in range(n_steps):\n",
        "  # Convert 6 to binary vector\n",
        "  target = to_categorical(target_number)\n",
        "  target_variable = K.variable(target)\n",
        "  # Calculate Loss\n",
        "  loss = keras.metrics.categorical_crossentropy(mnist_model.input, target_variable)\n",
        "  # Obtain the value of gradient for creating adversarial example.\n",
        "  gradients = K.gradients(loss, mnist_model.input)\n",
        "  get_grad_values = K.function([mnist_model.input], gradients)\n",
        "  grad_values = get_grad_values([adversarial_images])[0]\n",
        "  # Create adversarial example by using the gradient values.\n",
        "  adversarial_images = adversarial_images + eps * np.sign(grad_values)\n",
        "  #Finally, clip the matrix to remove extra values.\n",
        "  adversarial_images = np.clip(adversarial_images, a_min=0, a_max=1)\n",
        "  adv_img_hist.append(adversarial_images)\n",
        "  # We now try to predict the classes of these adversarial examples and their probability\n",
        "  prediction = mnist_model.predict(adversarial_images)\n",
        "  print(\"predictions\", prediction_val)\n",
        "  probs = mnist_model.predict_proba(adversarial_images)\n",
        "  print('Confidence 2:', np.max(probs[:, 2]))\n",
        "  print('Confidence 6:', np.max(probs[:, 6]))\n",
        "prob2_hist.append(probs[:,2])\n",
        "prob6_hist.append(probs[:,6])"
      ],
      "execution_count": 34,
      "outputs": [
        {
          "output_type": "stream",
          "text": [
            "WARNING:tensorflow:Variable /= will be deprecated. Use `var.assign(var / other)` if you want assignment to the variable value or `x = x / y` if you want a new python Tensor object.\n",
            "predictions [2 2 2 2 2 2 2 2 2 2]\n",
            "Confidence 2: 0.71688384\n",
            "Confidence 6: 0.79933304\n",
            "predictions [2 2 2 2 2 2 2 2 2 2]\n",
            "Confidence 2: 5.8044705e-24\n",
            "Confidence 6: 1.868128e-05\n",
            "predictions [2 2 2 2 2 2 2 2 2 2]\n",
            "Confidence 2: 5.8044705e-24\n",
            "Confidence 6: 1.868128e-05\n",
            "predictions [2 2 2 2 2 2 2 2 2 2]\n",
            "Confidence 2: 5.8044705e-24\n",
            "Confidence 6: 1.868128e-05\n",
            "predictions [2 2 2 2 2 2 2 2 2 2]\n",
            "Confidence 2: 5.8044705e-24\n",
            "Confidence 6: 1.868128e-05\n",
            "predictions [2 2 2 2 2 2 2 2 2 2]\n",
            "Confidence 2: 5.8044705e-24\n",
            "Confidence 6: 1.868128e-05\n",
            "predictions [2 2 2 2 2 2 2 2 2 2]\n",
            "Confidence 2: 5.8044705e-24\n",
            "Confidence 6: 1.868128e-05\n",
            "predictions [2 2 2 2 2 2 2 2 2 2]\n",
            "Confidence 2: 5.8044705e-24\n",
            "Confidence 6: 1.868128e-05\n",
            "predictions [2 2 2 2 2 2 2 2 2 2]\n",
            "Confidence 2: 5.8044705e-24\n",
            "Confidence 6: 1.868128e-05\n",
            "predictions [2 2 2 2 2 2 2 2 2 2]\n",
            "Confidence 2: 5.8044705e-24\n",
            "Confidence 6: 1.868128e-05\n"
          ],
          "name": "stdout"
        }
      ]
    },
    {
      "metadata": {
        "id": "RdlK3bzhCiBk",
        "colab_type": "text"
      },
      "cell_type": "markdown",
      "source": [
        "**We now plot the original images, adversarial images and the gradient values in a grid**"
      ]
    },
    {
      "metadata": {
        "id": "ognqPgEGtbZJ",
        "colab_type": "code",
        "colab": {
          "base_uri": "https://localhost:8080/",
          "height": 1089
        },
        "outputId": "a378d574-d2ac-4a3a-ddbb-8fa46f6d8076"
      },
      "cell_type": "code",
      "source": [
        "f, axarr = plt.subplots(10, 3, figsize=(5,15))\n",
        "import matplotlib as mpl\n",
        "mpl.rcParams['figure.dpi']= 250\n",
        "for i in range(10):\n",
        "    axarr[i,0].set_axis_off()\n",
        "    axarr[i,1].set_axis_off()\n",
        "    axarr[i,2].set_axis_off()\n",
        "    axarr[i,0].imshow(original_images[i].reshape([28, 28]), cmap = \"gray\")\n",
        "    axarr[i,1].imshow((adv_img_hist[0][i] - original_images[i]).reshape([28, 28]), cmap = \"gray\")\n",
        "    axarr[i,2].imshow((adv_img_hist[0][i]).reshape([28, 28]), cmap=\"gray\")\n",
        "    \n",
        "plt.tight_layout()\n",
        "plt.show()\n",
        "f.savefig(\"result.png\")"
      ],
      "execution_count": 35,
      "outputs": [
        {
          "output_type": "display_data",
          "data": {
            "image/png": "[encoded data removed]",
            "text/plain": [
              "<matplotlib.figure.Figure at 0x7f869fdb05c0>"
            ]
          },
          "metadata": {
            "tags": []
          }
        }
      ]
    },
    {
      "metadata": {
        "id": "qmxyMTAKto6R",
        "colab_type": "code",
        "colab": {}
      },
      "cell_type": "code",
      "source": [
        ""
      ],
      "execution_count": 0,
      "outputs": []
    }
  ]
}
